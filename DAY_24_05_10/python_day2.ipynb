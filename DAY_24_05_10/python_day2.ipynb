{
 "cells": [
  {
   "cell_type": "code",
   "execution_count": 4,
   "id": "89e25f46-ee09-4dd2-9ee0-25a752aaf553",
   "metadata": {},
   "outputs": [
    {
     "name": "stdout",
     "output_type": "stream",
     "text": [
      "[1, 2, 3, 4, 5]\n"
     ]
    }
   ],
   "source": [
    "numbers = [1,2,3,4,5]\n",
    "print(numbers)"
   ]
  },
  {
   "cell_type": "code",
   "execution_count": 5,
   "id": "d025a0e1-178f-42e8-bc82-344709139a18",
   "metadata": {},
   "outputs": [
    {
     "name": "stdout",
     "output_type": "stream",
     "text": [
      "[1, 2, 3, 4, 5, 10]\n"
     ]
    }
   ],
   "source": [
    "numbers.append(10)\n",
    "print(numbers)"
   ]
  },
  {
   "cell_type": "code",
   "execution_count": 6,
   "id": "056718e5-63b3-4f0c-a0c4-a31173ecd372",
   "metadata": {},
   "outputs": [],
   "source": [
    "numbers.append([20,30,40])"
   ]
  },
  {
   "cell_type": "code",
   "execution_count": 7,
   "id": "ea6c9a3d-c0b0-450b-9f43-2cd3a55cf23a",
   "metadata": {},
   "outputs": [
    {
     "name": "stdout",
     "output_type": "stream",
     "text": [
      "[1, 2, 3, 4, 5, 10, [20, 30, 40]]\n"
     ]
    }
   ],
   "source": [
    "print(numbers)"
   ]
  },
  {
   "cell_type": "code",
   "execution_count": 8,
   "id": "c3325067-e467-4949-9e4d-a8d017cbafc7",
   "metadata": {},
   "outputs": [],
   "source": [
    "numbers = [1,2,3,4,5]\n",
    "numbers.extend([20,30,40])"
   ]
  },
  {
   "cell_type": "code",
   "execution_count": 9,
   "id": "1d57e2a3-1205-48fc-ac9b-b2a4e8c443bb",
   "metadata": {},
   "outputs": [
    {
     "name": "stdout",
     "output_type": "stream",
     "text": [
      "[1, 2, 3, 4, 5, 20, 30, 40]\n"
     ]
    }
   ],
   "source": [
    "print(numbers)"
   ]
  },
  {
   "cell_type": "code",
   "execution_count": 10,
   "id": "f22dff32-998d-4740-a0ff-60c348cd8bcb",
   "metadata": {},
   "outputs": [],
   "source": [
    "fruits = ['banana', 'apple', 'orange', 'grape']"
   ]
  },
  {
   "cell_type": "code",
   "execution_count": 12,
   "id": "0684248e-6238-4127-a645-71898bf6eb54",
   "metadata": {},
   "outputs": [
    {
     "name": "stdout",
     "output_type": "stream",
     "text": [
      "4\n",
      "apple\n",
      "orange\n"
     ]
    }
   ],
   "source": [
    "print(len(fruits))\n",
    "print(min(fruits))\n",
    "print(max(fruits))"
   ]
  },
  {
   "cell_type": "code",
   "execution_count": 13,
   "id": "b53690b2-f8d8-42b3-a6c1-a19b1b68ca83",
   "metadata": {},
   "outputs": [],
   "source": [
    "fruits.append('apple')"
   ]
  },
  {
   "cell_type": "code",
   "execution_count": 14,
   "id": "13edeedc-471c-4eb9-a66f-8f662c99c0d9",
   "metadata": {},
   "outputs": [
    {
     "name": "stdout",
     "output_type": "stream",
     "text": [
      "['banana', 'apple', 'orange', 'grape', 'apple']\n"
     ]
    }
   ],
   "source": [
    "print(fruits)"
   ]
  },
  {
   "cell_type": "code",
   "execution_count": 15,
   "id": "850e4e9d-14ad-4387-80a0-10a5b142dbda",
   "metadata": {},
   "outputs": [
    {
     "data": {
      "text/plain": [
       "2"
      ]
     },
     "execution_count": 15,
     "metadata": {},
     "output_type": "execute_result"
    }
   ],
   "source": [
    "fruits.count('apple')"
   ]
  },
  {
   "cell_type": "code",
   "execution_count": 35,
   "id": "3933f8fe-a0aa-4a70-afa6-6da9442d5554",
   "metadata": {},
   "outputs": [],
   "source": [
    "numbers_2d = [list(range(1,6)),\\\n",
    "              list(range(10,60,10)),\\\n",
    "              list(range(1,10,2)),\\\n",
    "              list(range(2,11,2))]"
   ]
  },
  {
   "cell_type": "code",
   "execution_count": 36,
   "id": "3d64de53-3645-486f-a9d2-20314c576a8c",
   "metadata": {},
   "outputs": [
    {
     "name": "stdout",
     "output_type": "stream",
     "text": [
      "[[1, 2, 3, 4, 5], [10, 20, 30, 40, 50], [1, 3, 5, 7, 9], [2, 4, 6, 8, 10]]\n"
     ]
    }
   ],
   "source": [
    "print(numbers_2d)"
   ]
  },
  {
   "cell_type": "code",
   "execution_count": 39,
   "id": "665611dc-d927-4d74-bc3a-46b0332f81b2",
   "metadata": {},
   "outputs": [],
   "source": [
    "numbers_2d_v = [list(range(1,4)),\\\n",
    "              list(range(10,50,10)),\\\n",
    "              list(range(1,10,2)),\\\n",
    "              list(range(2,13,2))]"
   ]
  },
  {
   "cell_type": "code",
   "execution_count": 40,
   "id": "1a13b6ae-e68c-4813-bfb8-8826d5b5dcaa",
   "metadata": {},
   "outputs": [
    {
     "name": "stdout",
     "output_type": "stream",
     "text": [
      "[[1, 2, 3], [10, 20, 30, 40], [1, 3, 5, 7, 9], [2, 4, 6, 8, 10, 12]]\n"
     ]
    }
   ],
   "source": [
    "print(numbers_2d_v)"
   ]
  },
  {
   "cell_type": "code",
   "execution_count": 24,
   "id": "54a07aee-ab6e-49b8-a2d6-fa94b76b26b0",
   "metadata": {},
   "outputs": [
    {
     "data": {
      "text/plain": [
       "[0, 1, 2, 3, 4, 5, 6, 7, 8, 9]"
      ]
     },
     "execution_count": 24,
     "metadata": {},
     "output_type": "execute_result"
    }
   ],
   "source": [
    "list(range(0,10))"
   ]
  },
  {
   "cell_type": "code",
   "execution_count": 25,
   "id": "17691b8f-c45e-47ee-ba8d-9adb6f69cb0c",
   "metadata": {},
   "outputs": [
    {
     "data": {
      "text/plain": [
       "[-10, -8, -6, -4, -2, 0, 2, 4, 6, 8]"
      ]
     },
     "execution_count": 25,
     "metadata": {},
     "output_type": "execute_result"
    }
   ],
   "source": [
    "list(range(-10,10,2))"
   ]
  },
  {
   "cell_type": "code",
   "execution_count": 26,
   "id": "34874dee-0888-4eac-9d81-e6c8a56fb550",
   "metadata": {},
   "outputs": [
    {
     "data": {
      "text/plain": [
       "[10, 9, 8, 7, 6, 5, 4, 3, 2, 1]"
      ]
     },
     "execution_count": 26,
     "metadata": {},
     "output_type": "execute_result"
    }
   ],
   "source": [
    "list(range(10,0,-1))"
   ]
  },
  {
   "cell_type": "code",
   "execution_count": 27,
   "id": "532c4565-ef12-4af3-886f-6dfcf829c65e",
   "metadata": {},
   "outputs": [],
   "source": [
    "numbers = list(range(1,6))"
   ]
  },
  {
   "cell_type": "code",
   "execution_count": 28,
   "id": "c50f3bad-767a-4e86-b7af-fa2e999658a7",
   "metadata": {},
   "outputs": [
    {
     "data": {
      "text/plain": [
       "[1, 2, 3, 4, 5]"
      ]
     },
     "execution_count": 28,
     "metadata": {},
     "output_type": "execute_result"
    }
   ],
   "source": [
    "numbers"
   ]
  },
  {
   "cell_type": "code",
   "execution_count": 31,
   "id": "e19fbbc5-d7a7-4c12-aac6-e7a537064f6e",
   "metadata": {},
   "outputs": [
    {
     "name": "stdout",
     "output_type": "stream",
     "text": [
      "[1, 2, 3, 4, 5]\n",
      "[[[1, 2, 3, 4, 5]], [[10, 20, 30, 40, 50]], [[1, 3, 5, 7, 9]], [[2, 4, 6, 8, 10]]]\n"
     ]
    }
   ],
   "source": [
    "print(numbers)\n",
    "print(numbers_2d)"
   ]
  },
  {
   "cell_type": "code",
   "execution_count": 32,
   "id": "54c35ee6-3838-48ae-a133-a2c88b600c82",
   "metadata": {},
   "outputs": [
    {
     "data": {
      "text/plain": [
       "5"
      ]
     },
     "execution_count": 32,
     "metadata": {},
     "output_type": "execute_result"
    }
   ],
   "source": [
    "len(numbers)"
   ]
  },
  {
   "cell_type": "code",
   "execution_count": 37,
   "id": "7dbcc4a2-a1f3-45e8-88e3-9af0d3942fbf",
   "metadata": {},
   "outputs": [
    {
     "data": {
      "text/plain": [
       "4"
      ]
     },
     "execution_count": 37,
     "metadata": {},
     "output_type": "execute_result"
    }
   ],
   "source": [
    "len(numbers_2d)"
   ]
  },
  {
   "cell_type": "code",
   "execution_count": 38,
   "id": "7ed62fdf-5010-46db-89da-77957411806c",
   "metadata": {},
   "outputs": [
    {
     "data": {
      "text/plain": [
       "5"
      ]
     },
     "execution_count": 38,
     "metadata": {},
     "output_type": "execute_result"
    }
   ],
   "source": [
    "len(numbers_2d[0])"
   ]
  },
  {
   "cell_type": "code",
   "execution_count": 41,
   "id": "428ccf57-2399-470e-b5d6-469c339dd6fd",
   "metadata": {},
   "outputs": [
    {
     "data": {
      "text/plain": [
       "1"
      ]
     },
     "execution_count": 41,
     "metadata": {},
     "output_type": "execute_result"
    }
   ],
   "source": [
    "min(numbers)"
   ]
  },
  {
   "cell_type": "code",
   "execution_count": 42,
   "id": "062d5a63-b487-4f51-9af9-c9db18db1d58",
   "metadata": {},
   "outputs": [
    {
     "data": {
      "text/plain": [
       "5"
      ]
     },
     "execution_count": 42,
     "metadata": {},
     "output_type": "execute_result"
    }
   ],
   "source": [
    "max(numbers)"
   ]
  },
  {
   "cell_type": "code",
   "execution_count": 43,
   "id": "45fa3793-c701-450e-8a02-1385223a3660",
   "metadata": {},
   "outputs": [
    {
     "data": {
      "text/plain": [
       "[10, 20, 30, 40, 50]"
      ]
     },
     "execution_count": 43,
     "metadata": {},
     "output_type": "execute_result"
    }
   ],
   "source": [
    "max(numbers_2d)"
   ]
  },
  {
   "cell_type": "code",
   "execution_count": 44,
   "id": "4a6d97c8-4976-4221-940d-d45b105666d0",
   "metadata": {},
   "outputs": [
    {
     "data": {
      "text/plain": [
       "[1, 2, 3, 4, 5, 1, 2, 3, 4, 5]"
      ]
     },
     "execution_count": 44,
     "metadata": {},
     "output_type": "execute_result"
    }
   ],
   "source": [
    "numbers + numbers"
   ]
  },
  {
   "cell_type": "code",
   "execution_count": 45,
   "id": "5c8ef8b4-cf2c-47df-9cfc-e7b9e62a2912",
   "metadata": {},
   "outputs": [
    {
     "data": {
      "text/plain": [
       "[1, 2, 3, 4, 5, 1, 2, 3, 4, 5]"
      ]
     },
     "execution_count": 45,
     "metadata": {},
     "output_type": "execute_result"
    }
   ],
   "source": [
    "new_numbers = numbers + numbers\n",
    "new_numbers"
   ]
  },
  {
   "cell_type": "code",
   "execution_count": 46,
   "id": "0efe0f37-6daf-44fc-bbdd-5fb0cebf52c8",
   "metadata": {},
   "outputs": [
    {
     "data": {
      "text/plain": [
       "[1, 2, 3, 4, 5, 1, 2, 3, 4, 5, 1, 2, 3, 4, 5]"
      ]
     },
     "execution_count": 46,
     "metadata": {},
     "output_type": "execute_result"
    }
   ],
   "source": [
    "3 * numbers"
   ]
  },
  {
   "cell_type": "code",
   "execution_count": 47,
   "id": "cbcc33e3-73af-4d36-88f6-e0d6d083762c",
   "metadata": {},
   "outputs": [
    {
     "data": {
      "text/plain": [
       "[1, 2, 3, 4, 5, 1, 2, 3, 4, 5, 1, 2, 3, 4, 5]"
      ]
     },
     "execution_count": 47,
     "metadata": {},
     "output_type": "execute_result"
    }
   ],
   "source": [
    "numbers * 3"
   ]
  },
  {
   "cell_type": "code",
   "execution_count": 48,
   "id": "10bf838f-f7ac-4cca-abbc-5f8a29beb63a",
   "metadata": {},
   "outputs": [
    {
     "data": {
      "text/plain": [
       "[0, 0, 0, 0, 0, 0, 0, 0, 0, 0]"
      ]
     },
     "execution_count": 48,
     "metadata": {},
     "output_type": "execute_result"
    }
   ],
   "source": [
    "[0] * 10"
   ]
  },
  {
   "cell_type": "code",
   "execution_count": 49,
   "id": "98efed33-86c6-49c1-bd66-ed7affa168f6",
   "metadata": {},
   "outputs": [
    {
     "data": {
      "text/plain": [
       "[1, 2, 3, 4, 5, 10]"
      ]
     },
     "execution_count": 49,
     "metadata": {},
     "output_type": "execute_result"
    }
   ],
   "source": [
    "numbers.append(10)\n",
    "numbers"
   ]
  },
  {
   "cell_type": "code",
   "execution_count": 50,
   "id": "0e468dcf-9049-43d1-8e4b-d8f3087708b1",
   "metadata": {},
   "outputs": [
    {
     "data": {
      "text/plain": [
       "[1, 2, 3, 4, 5, 10, [20, 30, 40, 50], 'Hello']"
      ]
     },
     "execution_count": 50,
     "metadata": {},
     "output_type": "execute_result"
    }
   ],
   "source": [
    "numbers.append(list(range(20,60,10)))\n",
    "numbers.append('Hello')\n",
    "numbers"
   ]
  },
  {
   "cell_type": "code",
   "execution_count": 52,
   "id": "c71a2959-a81b-4480-8b86-b4add14ce8db",
   "metadata": {},
   "outputs": [
    {
     "data": {
      "text/plain": [
       "[1, 2, 3, 4, 5, 10, 20, 30, 40, 50]"
      ]
     },
     "execution_count": 52,
     "metadata": {},
     "output_type": "execute_result"
    }
   ],
   "source": [
    "numbers = list(range(1,6))\n",
    "numbers.extend(list(range(10,60,10)))\n",
    "numbers"
   ]
  },
  {
   "cell_type": "code",
   "execution_count": 53,
   "id": "e945da1d-0dac-465e-b18e-b006ac6233ff",
   "metadata": {},
   "outputs": [
    {
     "data": {
      "text/plain": [
       "[1, 2, 3, 4, 5, 'h', 'e', 'l', 'l', 'o']"
      ]
     },
     "execution_count": 53,
     "metadata": {},
     "output_type": "execute_result"
    }
   ],
   "source": [
    "numbers = list(range(1,6))\n",
    "numbers.extend('hello')\n",
    "numbers"
   ]
  },
  {
   "cell_type": "code",
   "execution_count": 54,
   "id": "1c913317-6092-47b0-a1b5-d56db5924f41",
   "metadata": {},
   "outputs": [
    {
     "data": {
      "text/plain": [
       "[1, 2, 3, 4, 5, 100, 'h', 'e', 'l', 'l', 'o']"
      ]
     },
     "execution_count": 54,
     "metadata": {},
     "output_type": "execute_result"
    }
   ],
   "source": [
    "numbers.insert(5,100)\n",
    "numbers"
   ]
  },
  {
   "cell_type": "code",
   "execution_count": 59,
   "id": "b22f8e22-3584-498e-8e7d-497abdcd86e0",
   "metadata": {},
   "outputs": [
    {
     "data": {
      "text/plain": [
       "2"
      ]
     },
     "execution_count": 59,
     "metadata": {},
     "output_type": "execute_result"
    }
   ],
   "source": [
    "numbers = list(range(1,10,2)) + list(range(1,6))\n",
    "numbers.count(1)"
   ]
  },
  {
   "cell_type": "code",
   "execution_count": 58,
   "id": "8592db0a-e103-4c25-a63b-fed232730fd6",
   "metadata": {},
   "outputs": [
    {
     "data": {
      "text/plain": [
       "2"
      ]
     },
     "execution_count": 58,
     "metadata": {},
     "output_type": "execute_result"
    }
   ],
   "source": [
    "numbers = list(range(1,10,2))\n",
    "numbers.index(5)"
   ]
  },
  {
   "cell_type": "code",
   "execution_count": 60,
   "id": "4dbc998a-4d9e-4579-8fcc-6230b46651d5",
   "metadata": {},
   "outputs": [
    {
     "data": {
      "text/plain": [
       "9"
      ]
     },
     "execution_count": 60,
     "metadata": {},
     "output_type": "execute_result"
    }
   ],
   "source": [
    "numbers = list(range(1,10,2)) + list(range(1,6))\n",
    "numbers.index(5,3)"
   ]
  },
  {
   "cell_type": "code",
   "execution_count": 61,
   "id": "9c79e65c-4fb4-4aeb-805c-c05f02e7623a",
   "metadata": {},
   "outputs": [
    {
     "ename": "ValueError",
     "evalue": "6 is not in list",
     "output_type": "error",
     "traceback": [
      "\u001b[1;31m---------------------------------------------------------------------------\u001b[0m",
      "\u001b[1;31mValueError\u001b[0m                                Traceback (most recent call last)",
      "Cell \u001b[1;32mIn[61], line 2\u001b[0m\n\u001b[0;32m      1\u001b[0m numbers \u001b[38;5;241m=\u001b[39m \u001b[38;5;28mlist\u001b[39m(\u001b[38;5;28mrange\u001b[39m(\u001b[38;5;241m1\u001b[39m,\u001b[38;5;241m10\u001b[39m,\u001b[38;5;241m2\u001b[39m)) \u001b[38;5;241m+\u001b[39m \u001b[38;5;28mlist\u001b[39m(\u001b[38;5;28mrange\u001b[39m(\u001b[38;5;241m1\u001b[39m,\u001b[38;5;241m6\u001b[39m))\n\u001b[1;32m----> 2\u001b[0m numbers\u001b[38;5;241m.\u001b[39mindex(\u001b[38;5;241m6\u001b[39m,\u001b[38;5;241m3\u001b[39m)\n",
      "\u001b[1;31mValueError\u001b[0m: 6 is not in list"
     ]
    }
   ],
   "source": [
    "numbers = list(range(1,10,2)) + list(range(1,6))\n",
    "numbers.index(6,3)"
   ]
  },
  {
   "cell_type": "code",
   "execution_count": 62,
   "id": "d717a5fa-b874-412a-9e19-1f0e913de3ec",
   "metadata": {},
   "outputs": [],
   "source": [
    "numbers = list(range(1,10,2)) + list(range(1,6))"
   ]
  },
  {
   "cell_type": "code",
   "execution_count": 63,
   "id": "60decd7a-59e0-400d-8af0-dd0a5eb7625a",
   "metadata": {},
   "outputs": [
    {
     "data": {
      "text/plain": [
       "(1, 5)"
      ]
     },
     "execution_count": 63,
     "metadata": {},
     "output_type": "execute_result"
    }
   ],
   "source": [
    "numbers[0], numbers[2]"
   ]
  },
  {
   "cell_type": "code",
   "execution_count": 64,
   "id": "cab8478e-5aed-4eec-9f9d-31172ea63b70",
   "metadata": {},
   "outputs": [
    {
     "ename": "IndexError",
     "evalue": "list index out of range",
     "output_type": "error",
     "traceback": [
      "\u001b[1;31m---------------------------------------------------------------------------\u001b[0m",
      "\u001b[1;31mIndexError\u001b[0m                                Traceback (most recent call last)",
      "Cell \u001b[1;32mIn[64], line 1\u001b[0m\n\u001b[1;32m----> 1\u001b[0m numbers[\u001b[38;5;241m20\u001b[39m]\n",
      "\u001b[1;31mIndexError\u001b[0m: list index out of range"
     ]
    }
   ],
   "source": [
    "numbers[20]"
   ]
  },
  {
   "cell_type": "code",
   "execution_count": 65,
   "id": "210b25f9-05a4-40f9-bb5f-0fcfb525b123",
   "metadata": {},
   "outputs": [
    {
     "name": "stdout",
     "output_type": "stream",
     "text": [
      "hello\n"
     ]
    }
   ],
   "source": [
    "a = [1,2,['a','b',['hello','world']]]\n",
    "print(a[2][2][0])"
   ]
  },
  {
   "cell_type": "code",
   "execution_count": 66,
   "id": "eaee169b-06e8-4b87-b103-696f574000a0",
   "metadata": {},
   "outputs": [],
   "source": [
    "numbers = list(range(1,11))"
   ]
  },
  {
   "cell_type": "code",
   "execution_count": 67,
   "id": "3beb64ff-0db6-4e1b-83f9-a3a3a3407679",
   "metadata": {},
   "outputs": [],
   "source": [
    "numbers_2d = [list(range(1,6)), list(range(10,60,10)),\\\n",
    "            list(range(1,10,2)), list(range(2,11,2))]"
   ]
  },
  {
   "cell_type": "code",
   "execution_count": 68,
   "id": "7faaaaa7-9b9e-4e52-8c6f-0c03484f0c3a",
   "metadata": {},
   "outputs": [
    {
     "data": {
      "text/plain": [
       "[3, 4]"
      ]
     },
     "execution_count": 68,
     "metadata": {},
     "output_type": "execute_result"
    }
   ],
   "source": [
    "numbers[2:4]"
   ]
  },
  {
   "cell_type": "code",
   "execution_count": 69,
   "id": "fb052276-8230-43ac-980c-3c6c45b2b971",
   "metadata": {},
   "outputs": [
    {
     "data": {
      "text/plain": [
       "[3, 4, 5, 6, 7, 8, 9, 10]"
      ]
     },
     "execution_count": 69,
     "metadata": {},
     "output_type": "execute_result"
    }
   ],
   "source": [
    "numbers[2:]"
   ]
  },
  {
   "cell_type": "code",
   "execution_count": 70,
   "id": "8f4f2822-0b65-4edc-8820-d9e8a81d4f39",
   "metadata": {},
   "outputs": [
    {
     "data": {
      "text/plain": [
       "[1, 2, 3, 4]"
      ]
     },
     "execution_count": 70,
     "metadata": {},
     "output_type": "execute_result"
    }
   ],
   "source": [
    "numbers[:4]"
   ]
  },
  {
   "cell_type": "code",
   "execution_count": 71,
   "id": "92de31f6-7116-43a8-a4d4-76880bb2875c",
   "metadata": {},
   "outputs": [
    {
     "data": {
      "text/plain": [
       "[1, 2, 3, 4, 5, 6, 7, 8, 9, 10]"
      ]
     },
     "execution_count": 71,
     "metadata": {},
     "output_type": "execute_result"
    }
   ],
   "source": [
    "numbers[:]"
   ]
  },
  {
   "cell_type": "code",
   "execution_count": 72,
   "id": "c01e79f6-2538-4600-a6b9-2a83246dc143",
   "metadata": {},
   "outputs": [
    {
     "data": {
      "text/plain": [
       "[6, 7, 8, 9]"
      ]
     },
     "execution_count": 72,
     "metadata": {},
     "output_type": "execute_result"
    }
   ],
   "source": [
    "numbers[-5:-1]"
   ]
  },
  {
   "cell_type": "code",
   "execution_count": 73,
   "id": "ea34e107-98de-41bd-8f8b-871248a7b8a2",
   "metadata": {},
   "outputs": [
    {
     "data": {
      "text/plain": [
       "[1, 2, 3, 4, 5, 6, 7, 8, 9]"
      ]
     },
     "execution_count": 73,
     "metadata": {},
     "output_type": "execute_result"
    }
   ],
   "source": [
    "numbers[:-1]"
   ]
  },
  {
   "cell_type": "code",
   "execution_count": 74,
   "id": "51725380-1f45-4de5-b6cb-939590be6e98",
   "metadata": {},
   "outputs": [
    {
     "data": {
      "text/plain": [
       "[]"
      ]
     },
     "execution_count": 74,
     "metadata": {},
     "output_type": "execute_result"
    }
   ],
   "source": [
    "numbers[-1:-5]"
   ]
  },
  {
   "cell_type": "code",
   "execution_count": 75,
   "id": "4512d22a-b2b4-4cca-909c-2fb343fc0cf4",
   "metadata": {},
   "outputs": [
    {
     "data": {
      "text/plain": [
       "[[10, 20, 30, 40, 50], [1, 3, 5, 7, 9]]"
      ]
     },
     "execution_count": 75,
     "metadata": {},
     "output_type": "execute_result"
    }
   ],
   "source": [
    "numbers_2d[1:3]"
   ]
  },
  {
   "cell_type": "code",
   "execution_count": 76,
   "id": "85045ec1-d192-4484-a465-c65360cf452c",
   "metadata": {},
   "outputs": [
    {
     "data": {
      "text/plain": [
       "[20, 30, 40]"
      ]
     },
     "execution_count": 76,
     "metadata": {},
     "output_type": "execute_result"
    }
   ],
   "source": [
    "numbers_2d[1][1:4]"
   ]
  },
  {
   "cell_type": "code",
   "execution_count": 77,
   "id": "72e61a7c-7487-4f90-b86f-5e3015ed6b97",
   "metadata": {},
   "outputs": [
    {
     "data": {
      "text/plain": [
       "[1, 3, 5, 7, 9]"
      ]
     },
     "execution_count": 77,
     "metadata": {},
     "output_type": "execute_result"
    }
   ],
   "source": [
    "numbers[::2]"
   ]
  },
  {
   "cell_type": "code",
   "execution_count": 78,
   "id": "73a6ad3f-d76e-4b9a-91d7-b53f60735146",
   "metadata": {},
   "outputs": [
    {
     "data": {
      "text/plain": [
       "[10, 9, 8, 7, 6, 5, 4, 3, 2, 1]"
      ]
     },
     "execution_count": 78,
     "metadata": {},
     "output_type": "execute_result"
    }
   ],
   "source": [
    "numbers[::-1]"
   ]
  },
  {
   "cell_type": "code",
   "execution_count": 79,
   "id": "68856210-3188-47a8-ad2c-0a1012a5bf77",
   "metadata": {},
   "outputs": [
    {
     "data": {
      "text/plain": [
       "[6, 5, 4, 3, 2, 1]"
      ]
     },
     "execution_count": 79,
     "metadata": {},
     "output_type": "execute_result"
    }
   ],
   "source": [
    "numbers[-5::-1]"
   ]
  },
  {
   "cell_type": "code",
   "execution_count": 83,
   "id": "6140bc91-a75c-4cbc-9761-ee2c6d2bda49",
   "metadata": {},
   "outputs": [],
   "source": [
    "numbers = list(range(1,10,2)) + list(range(1,6))"
   ]
  },
  {
   "cell_type": "code",
   "execution_count": 81,
   "id": "75e166aa-c730-4905-9c71-c041167db228",
   "metadata": {},
   "outputs": [],
   "source": [
    "numbers[2] = 2\n",
    "numbers[4] = 40\n",
    "numbers[6] = 600"
   ]
  },
  {
   "cell_type": "code",
   "execution_count": 82,
   "id": "e0d49764-fdb9-4c16-af4e-52f71f7d615d",
   "metadata": {},
   "outputs": [
    {
     "name": "stdout",
     "output_type": "stream",
     "text": [
      "[1, 3, 2, 7, 40, 1, 600, 3, 4, 5]\n"
     ]
    }
   ],
   "source": [
    "print(numbers)"
   ]
  },
  {
   "cell_type": "code",
   "execution_count": 87,
   "id": "ef98f396-5344-4cb7-a458-be385ba67d84",
   "metadata": {},
   "outputs": [
    {
     "data": {
      "text/plain": [
       "[2, 4, 6, 8, 10, 1, 2, 3, 4, 5]"
      ]
     },
     "execution_count": 87,
     "metadata": {},
     "output_type": "execute_result"
    }
   ],
   "source": [
    "numbers = list(range(1,10,2)) + list(range(1,6))\n",
    "numbers[0:5] = list(range(2,11,2))\n",
    "numbers"
   ]
  },
  {
   "cell_type": "code",
   "execution_count": 85,
   "id": "892b4614-6b5e-47ed-8df8-b0c681ff88e2",
   "metadata": {},
   "outputs": [
    {
     "data": {
      "text/plain": [
       "[20, 40, 60, 1, 2, 3, 4, 5]"
      ]
     },
     "execution_count": 85,
     "metadata": {},
     "output_type": "execute_result"
    }
   ],
   "source": [
    "numbers[0:5] = list(range(20,80,20))\n",
    "numbers"
   ]
  },
  {
   "cell_type": "code",
   "execution_count": 88,
   "id": "e1deb04f-5505-4ccc-ad13-0948e74e8893",
   "metadata": {},
   "outputs": [
    {
     "data": {
      "text/plain": [
       "[2, 4, 6, 8, 10, 12, 1, 2, 3, 4, 5]"
      ]
     },
     "execution_count": 88,
     "metadata": {},
     "output_type": "execute_result"
    }
   ],
   "source": [
    "numbers = list(range(1,10,2)) + list(range(1,6))\n",
    "numbers[0:5] = list(range(2,13,2))\n",
    "numbers"
   ]
  },
  {
   "cell_type": "code",
   "execution_count": 89,
   "id": "d47cbb1b-681b-4854-a40a-77d3a9d1d197",
   "metadata": {},
   "outputs": [],
   "source": [
    "numbers = list(range(1,10,2)) + list(range(1,6))\n",
    "numbers[::2] = list(range(10,60,10))"
   ]
  },
  {
   "cell_type": "code",
   "execution_count": 90,
   "id": "af39a430-e419-4cf3-a853-7a5ff4e8c418",
   "metadata": {},
   "outputs": [
    {
     "data": {
      "text/plain": [
       "[10, 3, 20, 7, 30, 1, 40, 3, 50, 5]"
      ]
     },
     "execution_count": 90,
     "metadata": {},
     "output_type": "execute_result"
    }
   ],
   "source": [
    "numbers"
   ]
  },
  {
   "cell_type": "code",
   "execution_count": 91,
   "id": "8fbff3db-442d-42c1-8dd9-a307e676900b",
   "metadata": {},
   "outputs": [
    {
     "ename": "ValueError",
     "evalue": "attempt to assign sequence of size 4 to extended slice of size 5",
     "output_type": "error",
     "traceback": [
      "\u001b[1;31m---------------------------------------------------------------------------\u001b[0m",
      "\u001b[1;31mValueError\u001b[0m                                Traceback (most recent call last)",
      "Cell \u001b[1;32mIn[91], line 1\u001b[0m\n\u001b[1;32m----> 1\u001b[0m numbers[::\u001b[38;5;241m2\u001b[39m] \u001b[38;5;241m=\u001b[39m \u001b[38;5;28mlist\u001b[39m(\u001b[38;5;28mrange\u001b[39m(\u001b[38;5;241m10\u001b[39m,\u001b[38;5;241m50\u001b[39m,\u001b[38;5;241m10\u001b[39m))\n",
      "\u001b[1;31mValueError\u001b[0m: attempt to assign sequence of size 4 to extended slice of size 5"
     ]
    }
   ],
   "source": [
    "numbers[::2] = list(range(10,50,10))"
   ]
  },
  {
   "cell_type": "code",
   "execution_count": 92,
   "id": "d93bf75a-b9de-43c1-a688-7d719171315e",
   "metadata": {},
   "outputs": [],
   "source": [
    "numbers = list(range(1,11))\n",
    "numbers_2d = [list(range(1,6)), list(range(10,60,10)),\\\n",
    "            list(range(1,10,2)), list(range(2,11,2))]"
   ]
  },
  {
   "cell_type": "code",
   "execution_count": 93,
   "id": "c4acbad7-c112-446f-9d32-a34692417d5d",
   "metadata": {},
   "outputs": [
    {
     "data": {
      "text/plain": [
       "10"
      ]
     },
     "execution_count": 93,
     "metadata": {},
     "output_type": "execute_result"
    }
   ],
   "source": [
    "numbers.pop()"
   ]
  },
  {
   "cell_type": "code",
   "execution_count": 94,
   "id": "4da2ddb9-6605-4878-9104-b369254ed0f3",
   "metadata": {},
   "outputs": [
    {
     "data": {
      "text/plain": [
       "[1, 2, 3, 4, 5, 6, 7, 8, 9]"
      ]
     },
     "execution_count": 94,
     "metadata": {},
     "output_type": "execute_result"
    }
   ],
   "source": [
    "numbers"
   ]
  },
  {
   "cell_type": "code",
   "execution_count": 95,
   "id": "f24a036c-cced-448e-97c7-cc8af75cfd27",
   "metadata": {},
   "outputs": [
    {
     "data": {
      "text/plain": [
       "[2, 4, 6, 8, 10]"
      ]
     },
     "execution_count": 95,
     "metadata": {},
     "output_type": "execute_result"
    }
   ],
   "source": [
    "numbers_2d.pop()"
   ]
  },
  {
   "cell_type": "code",
   "execution_count": 96,
   "id": "d11405c3-17e6-4f6d-bb65-6ae4cc4cc19e",
   "metadata": {},
   "outputs": [
    {
     "data": {
      "text/plain": [
       "[[1, 2, 3, 4, 5], [10, 20, 30, 40, 50], [1, 3, 5, 7, 9]]"
      ]
     },
     "execution_count": 96,
     "metadata": {},
     "output_type": "execute_result"
    }
   ],
   "source": [
    "numbers_2d"
   ]
  },
  {
   "cell_type": "code",
   "execution_count": 97,
   "id": "bb34d129-741e-47a3-8f61-7cac0854c422",
   "metadata": {},
   "outputs": [
    {
     "data": {
      "text/plain": [
       "[1, 2, 4, 5, 6, 7, 8, 9, 10]"
      ]
     },
     "execution_count": 97,
     "metadata": {},
     "output_type": "execute_result"
    }
   ],
   "source": [
    "numbers = list(range(1,11))\n",
    "numbers.remove(3)\n",
    "numbers"
   ]
  },
  {
   "cell_type": "code",
   "execution_count": 98,
   "id": "0d0bc5f0-6ba7-43e1-8d49-b571e8c8abc4",
   "metadata": {},
   "outputs": [
    {
     "data": {
      "text/plain": [
       "[[10, 20, 30, 40, 50], [1, 3, 5, 7, 9], [2, 4, 6, 8, 10]]"
      ]
     },
     "execution_count": 98,
     "metadata": {},
     "output_type": "execute_result"
    }
   ],
   "source": [
    "numbers_2d = [list(range(1,6)), list(range(10,60,10)),\\\n",
    "            list(range(1,10,2)), list(range(2,11,2))]\n",
    "numbers_2d.remove(list(range(1,6)))\n",
    "numbers_2d"
   ]
  },
  {
   "cell_type": "code",
   "execution_count": 99,
   "id": "ef6f30bf-0680-43c1-a27c-1b9dedd9d156",
   "metadata": {},
   "outputs": [],
   "source": [
    "numbers = list(range(1,11))"
   ]
  },
  {
   "cell_type": "code",
   "execution_count": 100,
   "id": "77a0479e-bcc6-4aae-a8f1-a93d5bf39616",
   "metadata": {},
   "outputs": [
    {
     "data": {
      "text/plain": [
       "[1, 2, 3, 5, 6, 7, 8, 9, 10]"
      ]
     },
     "execution_count": 100,
     "metadata": {},
     "output_type": "execute_result"
    }
   ],
   "source": [
    "del numbers[3]\n",
    "numbers"
   ]
  },
  {
   "cell_type": "code",
   "execution_count": 101,
   "id": "32d49d77-681a-407a-aa25-552028e8a042",
   "metadata": {},
   "outputs": [
    {
     "data": {
      "text/plain": [
       "[1, 2, 3, 9, 10]"
      ]
     },
     "execution_count": 101,
     "metadata": {},
     "output_type": "execute_result"
    }
   ],
   "source": [
    "numbers = list(range(1,11))\n",
    "del numbers[3:8]\n",
    "numbers"
   ]
  },
  {
   "cell_type": "code",
   "execution_count": 102,
   "id": "d6003ec7-8272-49aa-bc73-4a6caf13db82",
   "metadata": {},
   "outputs": [
    {
     "data": {
      "text/plain": [
       "[2, 4, 6, 8, 10]"
      ]
     },
     "execution_count": 102,
     "metadata": {},
     "output_type": "execute_result"
    }
   ],
   "source": [
    "numbers = list(range(1,11))\n",
    "del numbers[::2]\n",
    "numbers"
   ]
  },
  {
   "cell_type": "code",
   "execution_count": 103,
   "id": "3f02eb41-2fdb-4190-a34e-8483bd5276bb",
   "metadata": {},
   "outputs": [
    {
     "ename": "NameError",
     "evalue": "name 'numbers' is not defined",
     "output_type": "error",
     "traceback": [
      "\u001b[1;31m---------------------------------------------------------------------------\u001b[0m",
      "\u001b[1;31mNameError\u001b[0m                                 Traceback (most recent call last)",
      "Cell \u001b[1;32mIn[103], line 2\u001b[0m\n\u001b[0;32m      1\u001b[0m \u001b[38;5;28;01mdel\u001b[39;00m numbers\n\u001b[1;32m----> 2\u001b[0m \u001b[38;5;28mprint\u001b[39m(numbers)\n",
      "\u001b[1;31mNameError\u001b[0m: name 'numbers' is not defined"
     ]
    }
   ],
   "source": [
    "del numbers\n",
    "print(numbers)"
   ]
  },
  {
   "cell_type": "code",
   "execution_count": 107,
   "id": "2a5725d5-0c03-4845-ac17-078013b4ce38",
   "metadata": {},
   "outputs": [],
   "source": [
    "numbers = list(range(1,11))"
   ]
  },
  {
   "cell_type": "code",
   "execution_count": 108,
   "id": "0b4103d8-a64a-4cfc-b32d-34e0261a4449",
   "metadata": {},
   "outputs": [
    {
     "name": "stdout",
     "output_type": "stream",
     "text": [
      "[1, 2, 3, 4, 5, 6, 7, 8, 9, 10]\n"
     ]
    },
    {
     "data": {
      "text/plain": [
       "[]"
      ]
     },
     "execution_count": 108,
     "metadata": {},
     "output_type": "execute_result"
    }
   ],
   "source": [
    "print(numbers)\n",
    "numbers.clear()\n",
    "numbers"
   ]
  },
  {
   "cell_type": "code",
   "execution_count": 121,
   "id": "5bd9f2a3-8bcd-4032-a82d-ed222a147a4f",
   "metadata": {},
   "outputs": [],
   "source": [
    "numbers = [6,3,1,5,6,7,7,8,3,4,4]"
   ]
  },
  {
   "cell_type": "code",
   "execution_count": 110,
   "id": "36eafb1a-7519-44fa-86fe-2d32934a741e",
   "metadata": {},
   "outputs": [
    {
     "data": {
      "text/plain": [
       "[1, 3, 3, 4, 4, 5, 6, 6, 7, 7, 8]"
      ]
     },
     "execution_count": 110,
     "metadata": {},
     "output_type": "execute_result"
    }
   ],
   "source": [
    "numbers.sort()\n",
    "numbers"
   ]
  },
  {
   "cell_type": "code",
   "execution_count": 112,
   "id": "f16e476d-062a-4cbe-8e33-0c8fe60a807c",
   "metadata": {},
   "outputs": [],
   "source": [
    "numbers.sort(reverse=True)"
   ]
  },
  {
   "cell_type": "code",
   "execution_count": 113,
   "id": "537b4c76-d188-48df-98da-9a7038e913cb",
   "metadata": {},
   "outputs": [
    {
     "data": {
      "text/plain": [
       "[8, 7, 7, 6, 6, 5, 4, 4, 3, 3, 1]"
      ]
     },
     "execution_count": 113,
     "metadata": {},
     "output_type": "execute_result"
    }
   ],
   "source": [
    "numbers"
   ]
  },
  {
   "cell_type": "code",
   "execution_count": 115,
   "id": "ab0528bb-afd8-49aa-9656-e05ab5c53f76",
   "metadata": {},
   "outputs": [],
   "source": [
    "numbers.reverse()"
   ]
  },
  {
   "cell_type": "code",
   "execution_count": 116,
   "id": "51a1b068-c592-4ab5-871b-6fa49df9339f",
   "metadata": {},
   "outputs": [
    {
     "data": {
      "text/plain": [
       "[4, 4, 3, 8, 7, 7, 6, 5, 1, 3, 6]"
      ]
     },
     "execution_count": 116,
     "metadata": {},
     "output_type": "execute_result"
    }
   ],
   "source": [
    "numbers"
   ]
  },
  {
   "cell_type": "code",
   "execution_count": 118,
   "id": "b09bff6d-1b18-4efa-a6e1-7398ece03b12",
   "metadata": {},
   "outputs": [
    {
     "data": {
      "text/plain": [
       "[4, 4, 3, 8, 7, 7, 6, 5, 1, 3, 6]"
      ]
     },
     "execution_count": 118,
     "metadata": {},
     "output_type": "execute_result"
    }
   ],
   "source": [
    "numbers[::-1]"
   ]
  },
  {
   "cell_type": "code",
   "execution_count": 120,
   "id": "d5cb749c-411b-4bc7-9fd4-a64750535fbf",
   "metadata": {},
   "outputs": [
    {
     "data": {
      "text/plain": [
       "[4, 4, 3, 8, 7, 7, 6, 5, 1, 3, 6]"
      ]
     },
     "execution_count": 120,
     "metadata": {},
     "output_type": "execute_result"
    }
   ],
   "source": [
    "new_numbers = numbers[::-1]\n",
    "new_numbers"
   ]
  },
  {
   "cell_type": "code",
   "execution_count": 122,
   "id": "ab05bcc9-01b4-40f5-9241-1a5610d019dc",
   "metadata": {},
   "outputs": [
    {
     "name": "stdout",
     "output_type": "stream",
     "text": [
      "[6, 3, 1, 5, 6, 7, 7, 8, 3, 4, 4] [6, 3, 1, 5, 6, 7, 7, 8, 3, 4, 4]\n"
     ]
    }
   ],
   "source": [
    "new_numbers = numbers.copy()\n",
    "print(numbers, new_numbers)"
   ]
  },
  {
   "cell_type": "code",
   "execution_count": 123,
   "id": "97180b6e-c490-4fa4-b9d7-f7f2fe0eb0c8",
   "metadata": {},
   "outputs": [
    {
     "name": "stdout",
     "output_type": "stream",
     "text": [
      "[3, 1, 5, 6, 7, 7, 8, 3, 4, 4]\n",
      "[6, 3, 1, 5, 6, 7, 7, 8, 3, 4, 4]\n"
     ]
    }
   ],
   "source": [
    "numbers.remove(6)\n",
    "print(numbers)\n",
    "print(new_numbers)"
   ]
  },
  {
   "cell_type": "code",
   "execution_count": 124,
   "id": "d5e9fdf5-4375-44a0-94fa-bdfea0fd43c3",
   "metadata": {},
   "outputs": [
    {
     "name": "stdout",
     "output_type": "stream",
     "text": [
      "[[1, 2, 3, 4], [5, 6, 7, 8]]\n",
      "[[9, 2, 3, 4], [5, 6, 7, 8]]\n"
     ]
    }
   ],
   "source": [
    "L1 = [list(range(1,5)), list(range(5,9))]\n",
    "L2 = [sub.copy() for sub in L1]\n",
    "L2[0][0] = 9\n",
    "print(L1)\n",
    "print(L2)"
   ]
  },
  {
   "cell_type": "code",
   "execution_count": 125,
   "id": "78b0eddf-2bbe-4c77-8217-469026a45691",
   "metadata": {},
   "outputs": [],
   "source": [
    "import copy\n",
    "L3 = copy.deepcopy(L1)\n",
    "L3[0][0] = 9"
   ]
  },
  {
   "cell_type": "code",
   "execution_count": 126,
   "id": "76f42160-4ed3-4733-ab39-d804d4035a09",
   "metadata": {},
   "outputs": [
    {
     "name": "stdout",
     "output_type": "stream",
     "text": [
      "[[1, 2, 3, 4], [5, 6, 7, 8]]\n",
      "[[9, 2, 3, 4], [5, 6, 7, 8]]\n"
     ]
    }
   ],
   "source": [
    "print(L1)\n",
    "print(L3)"
   ]
  },
  {
   "cell_type": "code",
   "execution_count": 127,
   "id": "b2b0127e-d8b8-4f2f-9f05-942f43bca555",
   "metadata": {},
   "outputs": [
    {
     "name": "stdout",
     "output_type": "stream",
     "text": [
      "[5, 3, 4, 5, 6, 3, 3, 5, 6, 7, 4, 3, 6, 7, 8, 6]\n",
      "[5, 3, 4, 5, 6, 3, 3, 5, 6, 7, 4, 3, 6, 7, 8, 6]\n"
     ]
    }
   ],
   "source": [
    "numbers = [5,3,4,5,6,3,3,5,6,7,4,3,6,7,8,6]\n",
    "new_numbers = numbers\n",
    "print(numbers)\n",
    "print(new_numbers)"
   ]
  },
  {
   "cell_type": "code",
   "execution_count": 128,
   "id": "33208553-62eb-40ef-9747-a4fbe47aa2d1",
   "metadata": {},
   "outputs": [
    {
     "name": "stdout",
     "output_type": "stream",
     "text": [
      "[3, 4, 5, 6, 3, 3, 5, 6, 7, 4, 3, 6, 7, 8, 6]\n",
      "[3, 4, 5, 6, 3, 3, 5, 6, 7, 4, 3, 6, 7, 8, 6]\n"
     ]
    }
   ],
   "source": [
    "numbers.remove(5)\n",
    "print(numbers)\n",
    "print(new_numbers)"
   ]
  },
  {
   "cell_type": "code",
   "execution_count": 129,
   "id": "0419ef22-103a-4529-a47f-5bfdd23edddf",
   "metadata": {},
   "outputs": [],
   "source": [
    "L = list(range(1,11))\n",
    "T = tuple(range(1,11))"
   ]
  },
  {
   "cell_type": "code",
   "execution_count": 130,
   "id": "45415abc-4432-4f20-93a7-687a9af343ed",
   "metadata": {},
   "outputs": [
    {
     "name": "stdout",
     "output_type": "stream",
     "text": [
      "[1, 2, 3, 4, 5, 6, 7, 8, 9, 10]\n",
      "(1, 2, 3, 4, 5, 6, 7, 8, 9, 10)\n"
     ]
    }
   ],
   "source": [
    "print(L)\n",
    "print(T)"
   ]
  },
  {
   "cell_type": "markdown",
   "id": "4af312b6-5e03-4555-a559-4a44fc596905",
   "metadata": {},
   "source": [
    "TUPLE"
   ]
  },
  {
   "cell_type": "markdown",
   "id": "67be60b4-58f1-497d-99f0-5223b3b8d07a",
   "metadata": {},
   "source": [
    "1차원 튜플"
   ]
  },
  {
   "cell_type": "code",
   "execution_count": 131,
   "id": "3a558470-fab9-4f3a-b739-6d0d84f07208",
   "metadata": {},
   "outputs": [
    {
     "data": {
      "text/plain": [
       "tuple"
      ]
     },
     "execution_count": 131,
     "metadata": {},
     "output_type": "execute_result"
    }
   ],
   "source": [
    "numbers1 = tuple(range(1,6))\n",
    "type(numbers1)"
   ]
  },
  {
   "cell_type": "code",
   "execution_count": 134,
   "id": "277f92f0-766e-4947-9ea9-e3825a893b83",
   "metadata": {},
   "outputs": [
    {
     "data": {
      "text/plain": [
       "tuple"
      ]
     },
     "execution_count": 134,
     "metadata": {},
     "output_type": "execute_result"
    }
   ],
   "source": [
    "numbers2 = (1,)\n",
    "type(numbers2)"
   ]
  },
  {
   "cell_type": "code",
   "execution_count": 137,
   "id": "26a85343-3cfd-4b87-8f0c-9baa3d6673f9",
   "metadata": {},
   "outputs": [
    {
     "data": {
      "text/plain": [
       "tuple"
      ]
     },
     "execution_count": 137,
     "metadata": {},
     "output_type": "execute_result"
    }
   ],
   "source": [
    "numbers3 = 1,\n",
    "type(number3)"
   ]
  },
  {
   "cell_type": "code",
   "execution_count": 138,
   "id": "212bdbf6-2300-41bc-b492-dd90b711de2a",
   "metadata": {},
   "outputs": [
    {
     "name": "stdout",
     "output_type": "stream",
     "text": [
      "(1, 2, 3, 4, 5)\n",
      "(1,)\n",
      "(1,)\n"
     ]
    }
   ],
   "source": [
    "print(numbers1)\n",
    "print(numbers2)\n",
    "print(numbers3)"
   ]
  },
  {
   "cell_type": "code",
   "execution_count": 139,
   "id": "bb788314-c8bc-4c1b-a930-4ce9ea2536c3",
   "metadata": {},
   "outputs": [
    {
     "name": "stdout",
     "output_type": "stream",
     "text": [
      "(1, 2, 3)\n",
      "(1, 2, 3)\n"
     ]
    }
   ],
   "source": [
    "numbers3 = tuple(range(1,4))\n",
    "numbers5 = 1,2,3\n",
    "print(numbers3)\n",
    "print(numbers5)"
   ]
  },
  {
   "cell_type": "markdown",
   "id": "92428b69-156d-4d3a-8a96-0fce26e199fb",
   "metadata": {},
   "source": [
    "다차원 튜플"
   ]
  },
  {
   "cell_type": "code",
   "execution_count": 141,
   "id": "78fd05d6-159c-4743-9d5e-36b322a2af17",
   "metadata": {},
   "outputs": [
    {
     "data": {
      "text/plain": [
       "((1, 2, 3), (4, 5, 6))"
      ]
     },
     "execution_count": 141,
     "metadata": {},
     "output_type": "execute_result"
    }
   ],
   "source": [
    "numbers_2d = (tuple(range(1,4)), tuple(range(4,7)))\n",
    "numbers_2d"
   ]
  },
  {
   "cell_type": "markdown",
   "id": "2587a417-d6bb-4966-9bc5-d9063cca003f",
   "metadata": {},
   "source": [
    "요소 수"
   ]
  },
  {
   "cell_type": "code",
   "execution_count": 142,
   "id": "5af0b055-1a1b-4a49-ad28-4ebf5026e883",
   "metadata": {},
   "outputs": [],
   "source": [
    "numbers = tuple(range(1,6))"
   ]
  },
  {
   "cell_type": "code",
   "execution_count": 144,
   "id": "848af2a6-0a32-41d0-83a8-3b28acec6c00",
   "metadata": {},
   "outputs": [],
   "source": [
    "numbers_2d = (tuple(range(1,6)), tuple(range(10,60,10)), tuple(range(1,10,2)), tuple(range(2,12,2)))"
   ]
  },
  {
   "cell_type": "code",
   "execution_count": 145,
   "id": "aaf5df7b-d28e-4b9f-9c13-cd5c8a3cc2e9",
   "metadata": {},
   "outputs": [
    {
     "data": {
      "text/plain": [
       "5"
      ]
     },
     "execution_count": 145,
     "metadata": {},
     "output_type": "execute_result"
    }
   ],
   "source": [
    "len(numbers)"
   ]
  },
  {
   "cell_type": "code",
   "execution_count": 146,
   "id": "aafa3adb-b4a7-455f-a7b6-d2725f38db68",
   "metadata": {},
   "outputs": [
    {
     "data": {
      "text/plain": [
       "4"
      ]
     },
     "execution_count": 146,
     "metadata": {},
     "output_type": "execute_result"
    }
   ],
   "source": [
    "len(numbers_2d)"
   ]
  },
  {
   "cell_type": "code",
   "execution_count": 147,
   "id": "50273d4d-9a01-452c-b98f-fac70b4c6694",
   "metadata": {},
   "outputs": [
    {
     "data": {
      "text/plain": [
       "5"
      ]
     },
     "execution_count": 147,
     "metadata": {},
     "output_type": "execute_result"
    }
   ],
   "source": [
    "len(numbers_2d[0])"
   ]
  },
  {
   "cell_type": "markdown",
   "id": "e98c08eb-c7ca-4158-a627-6c41e5763065",
   "metadata": {},
   "source": [
    "최솟값과 최댓값"
   ]
  },
  {
   "cell_type": "code",
   "execution_count": 148,
   "id": "a6b3fc27-c017-461f-8da2-107dc78a5f49",
   "metadata": {},
   "outputs": [
    {
     "data": {
      "text/plain": [
       "1"
      ]
     },
     "execution_count": 148,
     "metadata": {},
     "output_type": "execute_result"
    }
   ],
   "source": [
    "min(numbers)"
   ]
  },
  {
   "cell_type": "code",
   "execution_count": 149,
   "id": "d7fa6aba-2771-4b02-a60b-27017e328ac5",
   "metadata": {},
   "outputs": [
    {
     "data": {
      "text/plain": [
       "5"
      ]
     },
     "execution_count": 149,
     "metadata": {},
     "output_type": "execute_result"
    }
   ],
   "source": [
    "max(numbers)"
   ]
  },
  {
   "cell_type": "code",
   "execution_count": 150,
   "id": "aaef1989-0cee-400a-818d-6bfc461904bf",
   "metadata": {},
   "outputs": [
    {
     "data": {
      "text/plain": [
       "(10, 20, 30, 40, 50)"
      ]
     },
     "execution_count": 150,
     "metadata": {},
     "output_type": "execute_result"
    }
   ],
   "source": [
    "max(numbers_2d)"
   ]
  },
  {
   "cell_type": "markdown",
   "id": "30cbabec-0ffa-4ed5-bfac-d433ccecf689",
   "metadata": {},
   "source": [
    "데이터 수 세기"
   ]
  },
  {
   "cell_type": "code",
   "execution_count": 151,
   "id": "c55e1ca8-02b7-4d4d-ba42-39b294ffe748",
   "metadata": {},
   "outputs": [],
   "source": [
    "numbers = tuple(range(1,10,2)) + tuple(range(1,6))"
   ]
  },
  {
   "cell_type": "code",
   "execution_count": 152,
   "id": "d7419fdf-f775-433a-ae21-92a91684ecfe",
   "metadata": {},
   "outputs": [
    {
     "data": {
      "text/plain": [
       "2"
      ]
     },
     "execution_count": 152,
     "metadata": {},
     "output_type": "execute_result"
    }
   ],
   "source": [
    "numbers.count(1)"
   ]
  },
  {
   "cell_type": "markdown",
   "id": "1ccda1f4-9ec6-4e0e-9d7d-973fdb53e807",
   "metadata": {},
   "source": [
    "요소의 위치 반환하기"
   ]
  },
  {
   "cell_type": "code",
   "execution_count": 153,
   "id": "18a5ea3c-a374-4bbf-b230-eab140e3fa18",
   "metadata": {},
   "outputs": [],
   "source": [
    "numbers = tuple(range(1,10,2))"
   ]
  },
  {
   "cell_type": "code",
   "execution_count": 154,
   "id": "86223100-0357-45ed-9660-48a85d9bad7a",
   "metadata": {},
   "outputs": [
    {
     "data": {
      "text/plain": [
       "2"
      ]
     },
     "execution_count": 154,
     "metadata": {},
     "output_type": "execute_result"
    }
   ],
   "source": [
    "numbers.index(5)"
   ]
  },
  {
   "cell_type": "code",
   "execution_count": 155,
   "id": "c162b0ae-9fb7-4060-9300-b621febd3a98",
   "metadata": {},
   "outputs": [
    {
     "data": {
      "text/plain": [
       "9"
      ]
     },
     "execution_count": 155,
     "metadata": {},
     "output_type": "execute_result"
    }
   ],
   "source": [
    "numbers = tuple(range(1,10,2)) + tuple(range(1,6))\n",
    "numbers.index(5,3)"
   ]
  },
  {
   "cell_type": "code",
   "execution_count": 156,
   "id": "699927bb-3947-496f-8297-0a250cc61c19",
   "metadata": {},
   "outputs": [
    {
     "ename": "ValueError",
     "evalue": "tuple.index(x): x not in tuple",
     "output_type": "error",
     "traceback": [
      "\u001b[1;31m---------------------------------------------------------------------------\u001b[0m",
      "\u001b[1;31mValueError\u001b[0m                                Traceback (most recent call last)",
      "Cell \u001b[1;32mIn[156], line 1\u001b[0m\n\u001b[1;32m----> 1\u001b[0m numbers\u001b[38;5;241m.\u001b[39mindex(\u001b[38;5;241m6\u001b[39m,\u001b[38;5;241m3\u001b[39m)\n",
      "\u001b[1;31mValueError\u001b[0m: tuple.index(x): x not in tuple"
     ]
    }
   ],
   "source": [
    "numbers.index(6,3)"
   ]
  },
  {
   "cell_type": "markdown",
   "id": "1c5a3fd8-f395-4e11-8259-f867b7cf0228",
   "metadata": {},
   "source": [
    "인덱스를 이용한 직접 접근"
   ]
  },
  {
   "cell_type": "code",
   "execution_count": 157,
   "id": "5d746b1e-16f4-48f8-b18a-db60018ea3fc",
   "metadata": {},
   "outputs": [
    {
     "data": {
      "text/plain": [
       "5"
      ]
     },
     "execution_count": 157,
     "metadata": {},
     "output_type": "execute_result"
    }
   ],
   "source": [
    "numbers[2]"
   ]
  },
  {
   "cell_type": "code",
   "execution_count": 158,
   "id": "43a1518a-5f2a-45fd-8627-7b8dc5bd0b24",
   "metadata": {},
   "outputs": [
    {
     "data": {
      "text/plain": [
       "1"
      ]
     },
     "execution_count": 158,
     "metadata": {},
     "output_type": "execute_result"
    }
   ],
   "source": [
    "numbers[0]"
   ]
  },
  {
   "cell_type": "code",
   "execution_count": 159,
   "id": "c0a064e5-1dd0-40c6-ac7b-ea8dd7b9e9bb",
   "metadata": {},
   "outputs": [
    {
     "ename": "IndexError",
     "evalue": "tuple index out of range",
     "output_type": "error",
     "traceback": [
      "\u001b[1;31m---------------------------------------------------------------------------\u001b[0m",
      "\u001b[1;31mIndexError\u001b[0m                                Traceback (most recent call last)",
      "Cell \u001b[1;32mIn[159], line 1\u001b[0m\n\u001b[1;32m----> 1\u001b[0m numbers[\u001b[38;5;241m20\u001b[39m]\n",
      "\u001b[1;31mIndexError\u001b[0m: tuple index out of range"
     ]
    }
   ],
   "source": [
    "numbers[20]"
   ]
  },
  {
   "cell_type": "markdown",
   "id": "cd65605f-ee9f-4ce5-8990-d04e047f50c5",
   "metadata": {},
   "source": [
    "다차원 튜플에서 인덱스 사용"
   ]
  },
  {
   "cell_type": "code",
   "execution_count": 160,
   "id": "6ed192c6-fbd6-4525-961a-785d05c08808",
   "metadata": {},
   "outputs": [
    {
     "name": "stdout",
     "output_type": "stream",
     "text": [
      "hello\n"
     ]
    }
   ],
   "source": [
    "a = (1,2,('a','b',('hello','world')))\n",
    "print(a[2][2][0])"
   ]
  },
  {
   "cell_type": "markdown",
   "id": "798d5667-0c7c-469e-a43f-d3dd4f536a1c",
   "metadata": {},
   "source": [
    "부분 튜플 추출"
   ]
  },
  {
   "cell_type": "code",
   "execution_count": 161,
   "id": "8f99f5c5-ae42-43c1-ab8b-3648ca21ac42",
   "metadata": {},
   "outputs": [],
   "source": [
    "numbers = tuple(range(1,11))"
   ]
  },
  {
   "cell_type": "code",
   "execution_count": 163,
   "id": "0d7cb55a-923b-41f7-b3fc-fae5c4bf9907",
   "metadata": {},
   "outputs": [],
   "source": [
    "numbers_2d = (tuple(range(1,6)), tuple(range(10,60,10)), tuple(range(1,10,2)), tuple(range(2,12,2)))"
   ]
  },
  {
   "cell_type": "code",
   "execution_count": 164,
   "id": "d95c97d5-daef-4e0f-b2f0-57560a4d7abb",
   "metadata": {},
   "outputs": [
    {
     "data": {
      "text/plain": [
       "(3, 4)"
      ]
     },
     "execution_count": 164,
     "metadata": {},
     "output_type": "execute_result"
    }
   ],
   "source": [
    "numbers[2:4]"
   ]
  },
  {
   "cell_type": "code",
   "execution_count": 165,
   "id": "e986ab19-e4ee-4dbb-92e9-4c14f4720d91",
   "metadata": {},
   "outputs": [
    {
     "data": {
      "text/plain": [
       "(3, 4, 5, 6, 7, 8, 9, 10)"
      ]
     },
     "execution_count": 165,
     "metadata": {},
     "output_type": "execute_result"
    }
   ],
   "source": [
    "numbers[2:]"
   ]
  },
  {
   "cell_type": "code",
   "execution_count": 166,
   "id": "d987fdb1-a90b-4a0c-959e-452c509393a9",
   "metadata": {},
   "outputs": [
    {
     "data": {
      "text/plain": [
       "(1, 2, 3, 4)"
      ]
     },
     "execution_count": 166,
     "metadata": {},
     "output_type": "execute_result"
    }
   ],
   "source": [
    "numbers[:4]"
   ]
  },
  {
   "cell_type": "code",
   "execution_count": 167,
   "id": "ee160dd6-e275-42a3-b7f8-4d8782f2d2f5",
   "metadata": {},
   "outputs": [
    {
     "data": {
      "text/plain": [
       "(1, 2, 3, 4, 5, 6, 7, 8, 9, 10)"
      ]
     },
     "execution_count": 167,
     "metadata": {},
     "output_type": "execute_result"
    }
   ],
   "source": [
    "numbers[:]"
   ]
  },
  {
   "cell_type": "code",
   "execution_count": 168,
   "id": "db255dd9-33fe-43ac-af53-3f7b383e1a49",
   "metadata": {},
   "outputs": [
    {
     "data": {
      "text/plain": [
       "(6, 7, 8, 9)"
      ]
     },
     "execution_count": 168,
     "metadata": {},
     "output_type": "execute_result"
    }
   ],
   "source": [
    "numbers[-5:-1]"
   ]
  },
  {
   "cell_type": "code",
   "execution_count": 169,
   "id": "b462d1f6-b9a9-4c00-9be6-b0614b9641f3",
   "metadata": {},
   "outputs": [
    {
     "data": {
      "text/plain": [
       "(1, 2, 3, 4, 5, 6, 7, 8, 9)"
      ]
     },
     "execution_count": 169,
     "metadata": {},
     "output_type": "execute_result"
    }
   ],
   "source": [
    "numbers[:-1]"
   ]
  },
  {
   "cell_type": "code",
   "execution_count": 170,
   "id": "3704032b-e1d1-4c79-ad7f-5ff59357dd54",
   "metadata": {},
   "outputs": [
    {
     "data": {
      "text/plain": [
       "()"
      ]
     },
     "execution_count": 170,
     "metadata": {},
     "output_type": "execute_result"
    }
   ],
   "source": [
    "numbers[-1:-5]"
   ]
  },
  {
   "cell_type": "code",
   "execution_count": 171,
   "id": "55fca930-04ac-46a0-a9aa-3e45ab1c88ee",
   "metadata": {},
   "outputs": [
    {
     "data": {
      "text/plain": [
       "((10, 20, 30, 40, 50), (1, 3, 5, 7, 9))"
      ]
     },
     "execution_count": 171,
     "metadata": {},
     "output_type": "execute_result"
    }
   ],
   "source": [
    "numbers_2d[1:3]"
   ]
  },
  {
   "cell_type": "code",
   "execution_count": 172,
   "id": "5b913e24-371e-4bad-8e94-696fdc378e43",
   "metadata": {},
   "outputs": [
    {
     "data": {
      "text/plain": [
       "(20, 30, 40)"
      ]
     },
     "execution_count": 172,
     "metadata": {},
     "output_type": "execute_result"
    }
   ],
   "source": [
    "numbers_2d[1][1:4]"
   ]
  },
  {
   "cell_type": "code",
   "execution_count": 173,
   "id": "4a428ab8-75d0-4de4-8005-079aa56a50dc",
   "metadata": {},
   "outputs": [
    {
     "data": {
      "text/plain": [
       "(1, 3, 5, 7, 9)"
      ]
     },
     "execution_count": 173,
     "metadata": {},
     "output_type": "execute_result"
    }
   ],
   "source": [
    "numbers[::2]"
   ]
  },
  {
   "cell_type": "code",
   "execution_count": 174,
   "id": "0c4aaa37-1426-47a2-8326-115f8971b14f",
   "metadata": {},
   "outputs": [
    {
     "data": {
      "text/plain": [
       "(10, 9, 8, 7, 6, 5, 4, 3, 2, 1)"
      ]
     },
     "execution_count": 174,
     "metadata": {},
     "output_type": "execute_result"
    }
   ],
   "source": [
    "numbers[::-1]"
   ]
  },
  {
   "cell_type": "code",
   "execution_count": 175,
   "id": "91012024-466d-4833-ac19-c1816de826f7",
   "metadata": {},
   "outputs": [
    {
     "data": {
      "text/plain": [
       "(6, 5, 4, 3, 2, 1)"
      ]
     },
     "execution_count": 175,
     "metadata": {},
     "output_type": "execute_result"
    }
   ],
   "source": [
    "numbers[-5::-1]"
   ]
  },
  {
   "cell_type": "markdown",
   "id": "599bbada-fa5c-4756-8361-0e7448cd7ff5",
   "metadata": {},
   "source": [
    "튜플에 요소 추가, 수정 및 삭제(는 안됨)"
   ]
  },
  {
   "cell_type": "code",
   "execution_count": 176,
   "id": "d938bcac-f35b-4dde-a2a4-9d536c47afaa",
   "metadata": {},
   "outputs": [],
   "source": [
    "numbers = tuple(range(1,6))"
   ]
  },
  {
   "cell_type": "code",
   "execution_count": 177,
   "id": "74421649-8817-472a-b50b-cef0d67a143e",
   "metadata": {},
   "outputs": [
    {
     "data": {
      "text/plain": [
       "(1, 2, 3, 4, 5, 1, 2, 3, 4, 5)"
      ]
     },
     "execution_count": 177,
     "metadata": {},
     "output_type": "execute_result"
    }
   ],
   "source": [
    "numbers + numbers"
   ]
  },
  {
   "cell_type": "code",
   "execution_count": 178,
   "id": "a6fa30cb-93cd-4e2f-a8af-c78c0f9b1885",
   "metadata": {},
   "outputs": [
    {
     "data": {
      "text/plain": [
       "(1, 2, 3, 4, 5)"
      ]
     },
     "execution_count": 178,
     "metadata": {},
     "output_type": "execute_result"
    }
   ],
   "source": [
    "numbers"
   ]
  },
  {
   "cell_type": "code",
   "execution_count": 180,
   "id": "e2eac456-50ba-434a-9e1f-8044457bb7d2",
   "metadata": {},
   "outputs": [
    {
     "data": {
      "text/plain": [
       "(1, 2, 3, 4, 5, 1, 2, 3, 4, 5)"
      ]
     },
     "execution_count": 180,
     "metadata": {},
     "output_type": "execute_result"
    }
   ],
   "source": [
    "new_numbers = numbers + numbers\n",
    "new_numbers"
   ]
  },
  {
   "cell_type": "code",
   "execution_count": 181,
   "id": "1ba0daa7-e798-474d-959f-d776b1f8619f",
   "metadata": {},
   "outputs": [
    {
     "data": {
      "text/plain": [
       "(1, 2, 3, 4, 5, 1, 2, 3, 4, 5, 1, 2, 3, 4, 5)"
      ]
     },
     "execution_count": 181,
     "metadata": {},
     "output_type": "execute_result"
    }
   ],
   "source": [
    "numbers = tuple(range(1,6))\n",
    "3 * numbers"
   ]
  },
  {
   "cell_type": "code",
   "execution_count": 182,
   "id": "8ee0c040-4dbb-4b52-bad0-e72a5dc65e93",
   "metadata": {},
   "outputs": [],
   "source": [
    "numbers = tuple(range(1,6))"
   ]
  },
  {
   "cell_type": "code",
   "execution_count": 183,
   "id": "c9f8e5b7-5642-4458-809c-4f1c2204f7e0",
   "metadata": {},
   "outputs": [
    {
     "ename": "AttributeError",
     "evalue": "'tuple' object has no attribute 'append'",
     "output_type": "error",
     "traceback": [
      "\u001b[1;31m---------------------------------------------------------------------------\u001b[0m",
      "\u001b[1;31mAttributeError\u001b[0m                            Traceback (most recent call last)",
      "Cell \u001b[1;32mIn[183], line 1\u001b[0m\n\u001b[1;32m----> 1\u001b[0m numbers\u001b[38;5;241m.\u001b[39mappend(\u001b[38;5;241m6\u001b[39m)\n",
      "\u001b[1;31mAttributeError\u001b[0m: 'tuple' object has no attribute 'append'"
     ]
    }
   ],
   "source": [
    "numbers.append(6)"
   ]
  },
  {
   "cell_type": "code",
   "execution_count": 184,
   "id": "43c51cd4-bae2-4b26-ba81-1a0025b61031",
   "metadata": {},
   "outputs": [
    {
     "ename": "AttributeError",
     "evalue": "'tuple' object has no attribute 'insert'",
     "output_type": "error",
     "traceback": [
      "\u001b[1;31m---------------------------------------------------------------------------\u001b[0m",
      "\u001b[1;31mAttributeError\u001b[0m                            Traceback (most recent call last)",
      "Cell \u001b[1;32mIn[184], line 2\u001b[0m\n\u001b[0;32m      1\u001b[0m numbers \u001b[38;5;241m=\u001b[39m \u001b[38;5;28mtuple\u001b[39m(\u001b[38;5;28mrange\u001b[39m(\u001b[38;5;241m1\u001b[39m,\u001b[38;5;241m6\u001b[39m))\n\u001b[1;32m----> 2\u001b[0m numbers\u001b[38;5;241m.\u001b[39minsert(\u001b[38;5;241m1\u001b[39m,\u001b[38;5;241m6\u001b[39m)\n",
      "\u001b[1;31mAttributeError\u001b[0m: 'tuple' object has no attribute 'insert'"
     ]
    }
   ],
   "source": [
    "numbers = tuple(range(1,6))\n",
    "numbers.insert(1,6)"
   ]
  },
  {
   "cell_type": "code",
   "execution_count": 185,
   "id": "a9232322-123d-4ae8-b890-77fc858b1ab7",
   "metadata": {},
   "outputs": [
    {
     "ename": "TypeError",
     "evalue": "'tuple' object does not support item assignment",
     "output_type": "error",
     "traceback": [
      "\u001b[1;31m---------------------------------------------------------------------------\u001b[0m",
      "\u001b[1;31mTypeError\u001b[0m                                 Traceback (most recent call last)",
      "Cell \u001b[1;32mIn[185], line 1\u001b[0m\n\u001b[1;32m----> 1\u001b[0m numbers[\u001b[38;5;241m0\u001b[39m] \u001b[38;5;241m=\u001b[39m \u001b[38;5;241m6\u001b[39m\n",
      "\u001b[1;31mTypeError\u001b[0m: 'tuple' object does not support item assignment"
     ]
    }
   ],
   "source": [
    "numbers[0] = 6"
   ]
  },
  {
   "cell_type": "code",
   "execution_count": 186,
   "id": "f29728c9-2bbf-4abe-a55a-1022e99576c1",
   "metadata": {},
   "outputs": [
    {
     "ename": "TypeError",
     "evalue": "'tuple' object doesn't support item deletion",
     "output_type": "error",
     "traceback": [
      "\u001b[1;31m---------------------------------------------------------------------------\u001b[0m",
      "\u001b[1;31mTypeError\u001b[0m                                 Traceback (most recent call last)",
      "Cell \u001b[1;32mIn[186], line 1\u001b[0m\n\u001b[1;32m----> 1\u001b[0m \u001b[38;5;28;01mdel\u001b[39;00m numbers[\u001b[38;5;241m0\u001b[39m]\n",
      "\u001b[1;31mTypeError\u001b[0m: 'tuple' object doesn't support item deletion"
     ]
    }
   ],
   "source": [
    "del numbers[0]"
   ]
  },
  {
   "cell_type": "code",
   "execution_count": 187,
   "id": "8af8e022-db70-404d-8b66-acf54b52e460",
   "metadata": {},
   "outputs": [
    {
     "ename": "AttributeError",
     "evalue": "'tuple' object has no attribute 'remove'",
     "output_type": "error",
     "traceback": [
      "\u001b[1;31m---------------------------------------------------------------------------\u001b[0m",
      "\u001b[1;31mAttributeError\u001b[0m                            Traceback (most recent call last)",
      "Cell \u001b[1;32mIn[187], line 1\u001b[0m\n\u001b[1;32m----> 1\u001b[0m numbers\u001b[38;5;241m.\u001b[39mremove(\u001b[38;5;241m3\u001b[39m)\n",
      "\u001b[1;31mAttributeError\u001b[0m: 'tuple' object has no attribute 'remove'"
     ]
    }
   ],
   "source": [
    "numbers.remove(3)"
   ]
  },
  {
   "cell_type": "markdown",
   "id": "94ca0a2a-ca7a-42b0-af89-f425af98c437",
   "metadata": {},
   "source": [
    "딕셔너리"
   ]
  },
  {
   "cell_type": "code",
   "execution_count": 188,
   "id": "57802652-0eb0-4fb9-b214-17e5d3e874f9",
   "metadata": {},
   "outputs": [
    {
     "data": {
      "text/plain": [
       "dict"
      ]
     },
     "execution_count": 188,
     "metadata": {},
     "output_type": "execute_result"
    }
   ],
   "source": [
    "my_favorite = {\"fruit\" : \"apple\", 'number':1, 'sports':'golf'}\n",
    "type(my_favorite)"
   ]
  },
  {
   "cell_type": "code",
   "execution_count": 189,
   "id": "fed0f797-837a-4314-8266-22334da95cdb",
   "metadata": {},
   "outputs": [
    {
     "data": {
      "text/plain": [
       "1"
      ]
     },
     "execution_count": 189,
     "metadata": {},
     "output_type": "execute_result"
    }
   ],
   "source": [
    "my_favorite.get('number')"
   ]
  },
  {
   "cell_type": "code",
   "execution_count": 193,
   "id": "1f8e44f6-eb25-4264-b8d9-a66480ca7175",
   "metadata": {},
   "outputs": [
    {
     "data": {
      "text/plain": [
       "'키 없음'"
      ]
     },
     "execution_count": 193,
     "metadata": {},
     "output_type": "execute_result"
    }
   ],
   "source": [
    "my_favorite.get(\"hobby\", '키 없음')"
   ]
  },
  {
   "cell_type": "code",
   "execution_count": 194,
   "id": "7f74679b-998d-4b57-91a1-785b9581304c",
   "metadata": {},
   "outputs": [
    {
     "data": {
      "text/plain": [
       "1"
      ]
     },
     "execution_count": 194,
     "metadata": {},
     "output_type": "execute_result"
    }
   ],
   "source": [
    "my_favorite.get('number', '키 없음')"
   ]
  },
  {
   "cell_type": "markdown",
   "id": "79e9a2af-1ca3-4143-bd47-02b8eb3d4ce2",
   "metadata": {},
   "source": [
    "키 타입과 값 타입"
   ]
  },
  {
   "cell_type": "code",
   "execution_count": 195,
   "id": "8b2baf5e-1837-45b7-ba95-8bf413568bf3",
   "metadata": {},
   "outputs": [],
   "source": [
    "my_dic1 = {1:'Hello', 2:'World', 'KEY': 'VALUE'}"
   ]
  },
  {
   "cell_type": "code",
   "execution_count": 196,
   "id": "0cf43492-7784-4b1e-980d-a718a7e2112b",
   "metadata": {},
   "outputs": [
    {
     "data": {
      "text/plain": [
       "{1: 'Hello', 2: 'World', 'KEY': 'VALUE'}"
      ]
     },
     "execution_count": 196,
     "metadata": {},
     "output_type": "execute_result"
    }
   ],
   "source": [
    "my_dic1"
   ]
  },
  {
   "cell_type": "code",
   "execution_count": 197,
   "id": "0651247f-6151-476f-8624-ff4f9269e5c3",
   "metadata": {},
   "outputs": [
    {
     "data": {
      "text/plain": [
       "'Hello'"
      ]
     },
     "execution_count": 197,
     "metadata": {},
     "output_type": "execute_result"
    }
   ],
   "source": [
    "my_dic1.get(1)"
   ]
  },
  {
   "cell_type": "code",
   "execution_count": 198,
   "id": "656e2a57-56af-450a-8666-a7c5dc815746",
   "metadata": {},
   "outputs": [
    {
     "data": {
      "text/plain": [
       "'VALUE'"
      ]
     },
     "execution_count": 198,
     "metadata": {},
     "output_type": "execute_result"
    }
   ],
   "source": [
    "my_dic1.get('KEY')"
   ]
  },
  {
   "cell_type": "code",
   "execution_count": 199,
   "id": "5d5e72b1-8dde-440a-90bf-afb5b93c7ed0",
   "metadata": {},
   "outputs": [],
   "source": [
    "my_dic1.get('key')"
   ]
  },
  {
   "cell_type": "code",
   "execution_count": 200,
   "id": "602ebb9a-f133-4f90-a63f-43a379a89206",
   "metadata": {},
   "outputs": [],
   "source": [
    "my_dic2 = {1:'Hello', True:'World', 'KEY': 'VALUE'}"
   ]
  },
  {
   "cell_type": "code",
   "execution_count": 201,
   "id": "fabaeae1-5bbd-4029-b491-a5735bb2c75a",
   "metadata": {},
   "outputs": [
    {
     "data": {
      "text/plain": [
       "'World'"
      ]
     },
     "execution_count": 201,
     "metadata": {},
     "output_type": "execute_result"
    }
   ],
   "source": [
    "my_dic2.get(True)"
   ]
  },
  {
   "cell_type": "code",
   "execution_count": 202,
   "id": "167b6ef2-2363-49e1-a657-fe1697aa10c6",
   "metadata": {},
   "outputs": [
    {
     "data": {
      "text/plain": [
       "{1: 'World', 'KEY': 'VALUE'}"
      ]
     },
     "execution_count": 202,
     "metadata": {},
     "output_type": "execute_result"
    }
   ],
   "source": [
    "my_dic2"
   ]
  },
  {
   "cell_type": "code",
   "execution_count": 203,
   "id": "dde22664-7fba-41c4-9ffd-2df5eb01c1e5",
   "metadata": {},
   "outputs": [
    {
     "data": {
      "text/plain": [
       "'World'"
      ]
     },
     "execution_count": 203,
     "metadata": {},
     "output_type": "execute_result"
    }
   ],
   "source": [
    "my_dic2.get(1)"
   ]
  },
  {
   "cell_type": "code",
   "execution_count": 204,
   "id": "bbb7bcc7-7fb5-469f-aa6b-ae4626c15317",
   "metadata": {},
   "outputs": [],
   "source": [
    "my_dic3 = {1:'Hello', False:'World', 'KEY': 'VALUE', 0:'NO_VAL'}"
   ]
  },
  {
   "cell_type": "code",
   "execution_count": 205,
   "id": "0fef87aa-1fb4-4c51-b413-b59dc170bdc9",
   "metadata": {},
   "outputs": [
    {
     "data": {
      "text/plain": [
       "{1: 'Hello', False: 'NO_VAL', 'KEY': 'VALUE'}"
      ]
     },
     "execution_count": 205,
     "metadata": {},
     "output_type": "execute_result"
    }
   ],
   "source": [
    "my_dic3"
   ]
  },
  {
   "cell_type": "code",
   "execution_count": 206,
   "id": "26749405-824f-4826-8e1f-a0bad5e17ca4",
   "metadata": {},
   "outputs": [
    {
     "data": {
      "text/plain": [
       "'NO_VAL'"
      ]
     },
     "execution_count": 206,
     "metadata": {},
     "output_type": "execute_result"
    }
   ],
   "source": [
    "my_dic3.get(False)"
   ]
  },
  {
   "cell_type": "code",
   "execution_count": 207,
   "id": "56f9a647-cba4-4789-90fe-c0ba804052bc",
   "metadata": {},
   "outputs": [
    {
     "data": {
      "text/plain": [
       "'NO_VAL'"
      ]
     },
     "execution_count": 207,
     "metadata": {},
     "output_type": "execute_result"
    }
   ],
   "source": [
    "my_dic3.get(0)"
   ]
  },
  {
   "cell_type": "code",
   "execution_count": 208,
   "id": "4208183f-d97d-421b-b03a-3326d6317f31",
   "metadata": {},
   "outputs": [],
   "source": [
    "my_dic4 = {'Key':'Value', 'key':'value', 'KEY':'VALUE'}"
   ]
  },
  {
   "cell_type": "code",
   "execution_count": 209,
   "id": "5462c585-2606-4be0-a67b-7a5ec1ddf0ec",
   "metadata": {},
   "outputs": [
    {
     "data": {
      "text/plain": [
       "{'Key': 'Value', 'key': 'value', 'KEY': 'VALUE'}"
      ]
     },
     "execution_count": 209,
     "metadata": {},
     "output_type": "execute_result"
    }
   ],
   "source": [
    "my_dic4"
   ]
  },
  {
   "cell_type": "markdown",
   "id": "4d8185d7-e0c1-4542-8874-a40c7cb2829a",
   "metadata": {},
   "source": [
    "추가하기"
   ]
  },
  {
   "cell_type": "code",
   "execution_count": 210,
   "id": "7cff2624-49e1-4558-a672-81c61cc189f0",
   "metadata": {},
   "outputs": [],
   "source": [
    "my_favorite = {'fruit':'apple', 'number':1, 'sports':'golf'}"
   ]
  },
  {
   "cell_type": "code",
   "execution_count": 211,
   "id": "bc650ee5-1ed6-42da-8ee6-b0c806793deb",
   "metadata": {},
   "outputs": [
    {
     "data": {
      "text/plain": [
       "{'fruit': 'banana', 'number': 1, 'sports': 'golf'}"
      ]
     },
     "execution_count": 211,
     "metadata": {},
     "output_type": "execute_result"
    }
   ],
   "source": [
    "my_favorite['fruit'] = 'banana'\n",
    "my_favorite"
   ]
  },
  {
   "cell_type": "code",
   "execution_count": 212,
   "id": "47d22bf2-2698-40d9-a7f9-128302566d86",
   "metadata": {},
   "outputs": [
    {
     "data": {
      "text/plain": [
       "{'fruit': 'banana', 'number': 1, 'sports': 'golf', 'language': 'python'}"
      ]
     },
     "execution_count": 212,
     "metadata": {},
     "output_type": "execute_result"
    }
   ],
   "source": [
    "my_favorite['language'] = 'python'\n",
    "my_favorite"
   ]
  },
  {
   "cell_type": "code",
   "execution_count": 213,
   "id": "25084e09-4ab4-45dd-8803-e292c0de97e8",
   "metadata": {},
   "outputs": [
    {
     "ename": "AttributeError",
     "evalue": "'dict' object has no attribute 'append'",
     "output_type": "error",
     "traceback": [
      "\u001b[1;31m---------------------------------------------------------------------------\u001b[0m",
      "\u001b[1;31mAttributeError\u001b[0m                            Traceback (most recent call last)",
      "Cell \u001b[1;32mIn[213], line 1\u001b[0m\n\u001b[1;32m----> 1\u001b[0m my_favorite\u001b[38;5;241m.\u001b[39mappend({\u001b[38;5;124m\"\u001b[39m\u001b[38;5;124mnumber\u001b[39m\u001b[38;5;124m\"\u001b[39m:\u001b[38;5;241m1\u001b[39m})\n",
      "\u001b[1;31mAttributeError\u001b[0m: 'dict' object has no attribute 'append'"
     ]
    }
   ],
   "source": [
    "my_favorite.append({\"number\":1})"
   ]
  },
  {
   "cell_type": "code",
   "execution_count": 214,
   "id": "c6726c16-8a86-437e-b826-99be91dc2be1",
   "metadata": {},
   "outputs": [
    {
     "ename": "AttributeError",
     "evalue": "'dict' object has no attribute 'extend'",
     "output_type": "error",
     "traceback": [
      "\u001b[1;31m---------------------------------------------------------------------------\u001b[0m",
      "\u001b[1;31mAttributeError\u001b[0m                            Traceback (most recent call last)",
      "Cell \u001b[1;32mIn[214], line 1\u001b[0m\n\u001b[1;32m----> 1\u001b[0m my_favorite\u001b[38;5;241m.\u001b[39mextend({\u001b[38;5;124m\"\u001b[39m\u001b[38;5;124mnumber\u001b[39m\u001b[38;5;124m\"\u001b[39m:\u001b[38;5;241m1\u001b[39m})\n",
      "\u001b[1;31mAttributeError\u001b[0m: 'dict' object has no attribute 'extend'"
     ]
    }
   ],
   "source": [
    "my_favorite.extend({\"number\":1})"
   ]
  },
  {
   "cell_type": "code",
   "execution_count": 215,
   "id": "7a884d31-6d88-4825-a636-72b3ccb7c38a",
   "metadata": {},
   "outputs": [
    {
     "ename": "AttributeError",
     "evalue": "'dict' object has no attribute 'insert'",
     "output_type": "error",
     "traceback": [
      "\u001b[1;31m---------------------------------------------------------------------------\u001b[0m",
      "\u001b[1;31mAttributeError\u001b[0m                            Traceback (most recent call last)",
      "Cell \u001b[1;32mIn[215], line 1\u001b[0m\n\u001b[1;32m----> 1\u001b[0m my_favorite\u001b[38;5;241m.\u001b[39minsert(\u001b[38;5;241m1\u001b[39m,{\u001b[38;5;124m\"\u001b[39m\u001b[38;5;124mnumbe\u001b[39m\u001b[38;5;124m\"\u001b[39m:\u001b[38;5;241m1\u001b[39m})\n",
      "\u001b[1;31mAttributeError\u001b[0m: 'dict' object has no attribute 'insert'"
     ]
    }
   ],
   "source": [
    "my_favorite.insert(1,{\"numbe\":1})"
   ]
  },
  {
   "cell_type": "markdown",
   "id": "ebde0795-67a9-49f3-b32f-1f5eb45db201",
   "metadata": {},
   "source": [
    "삭제하기"
   ]
  },
  {
   "cell_type": "code",
   "execution_count": 216,
   "id": "d80bb85f-12c3-41d0-8945-a4ad6a8c0a5c",
   "metadata": {},
   "outputs": [],
   "source": [
    "my_favorite = {\"fruit\":\"apple\", \"number\":1, \"sports\":\"golf\"}"
   ]
  },
  {
   "cell_type": "code",
   "execution_count": 217,
   "id": "5cdf91db-6f0c-4634-b4dd-f166f58f60cd",
   "metadata": {},
   "outputs": [
    {
     "data": {
      "text/plain": [
       "{'number': 1, 'sports': 'golf'}"
      ]
     },
     "execution_count": 217,
     "metadata": {},
     "output_type": "execute_result"
    }
   ],
   "source": [
    "del my_favorite['fruit']\n",
    "my_favorite"
   ]
  },
  {
   "cell_type": "code",
   "execution_count": 218,
   "id": "3adb0515-3e6c-47aa-bbff-2a22e5741fa1",
   "metadata": {},
   "outputs": [],
   "source": [
    "my_favorite = {\"fruit\":\"apple\", \"number\":1, \"sports\":\"golf\"}"
   ]
  },
  {
   "cell_type": "code",
   "execution_count": 219,
   "id": "4b4b25f9-0455-4944-8e8f-c48a80483ee3",
   "metadata": {},
   "outputs": [
    {
     "data": {
      "text/plain": [
       "1"
      ]
     },
     "execution_count": 219,
     "metadata": {},
     "output_type": "execute_result"
    }
   ],
   "source": [
    "my_favorite.pop(\"number\")"
   ]
  },
  {
   "cell_type": "code",
   "execution_count": 220,
   "id": "352b2b80-82d9-46b7-909f-85591498ba90",
   "metadata": {},
   "outputs": [
    {
     "data": {
      "text/plain": [
       "{'fruit': 'apple', 'sports': 'golf'}"
      ]
     },
     "execution_count": 220,
     "metadata": {},
     "output_type": "execute_result"
    }
   ],
   "source": [
    "my_favorite"
   ]
  },
  {
   "cell_type": "markdown",
   "id": "03ed8ec6-462f-4b2c-84cf-8bf811d6b255",
   "metadata": {},
   "source": [
    "딕셔너리 조회하기"
   ]
  },
  {
   "cell_type": "code",
   "execution_count": 221,
   "id": "6f362bd1-8dcf-40fd-8a12-e8d4b8f46fea",
   "metadata": {},
   "outputs": [],
   "source": [
    "my_favorite = {\"fruit\":\"apple\", \"number\":1, \"sports\":\"golf\", 'food':'라면'}"
   ]
  },
  {
   "cell_type": "code",
   "execution_count": 222,
   "id": "3279006d-a2a0-4c3e-8ecc-cd0ec8658a8f",
   "metadata": {},
   "outputs": [
    {
     "name": "stdout",
     "output_type": "stream",
     "text": [
      "fruit\n",
      "number\n",
      "sports\n",
      "food\n"
     ]
    }
   ],
   "source": [
    "for fav in my_favorite:\n",
    "    print(fav)"
   ]
  },
  {
   "cell_type": "code",
   "execution_count": 223,
   "id": "0a911ed7-0b9d-4c30-b647-8a58f9020dd6",
   "metadata": {},
   "outputs": [
    {
     "name": "stdout",
     "output_type": "stream",
     "text": [
      "apple\n",
      "1\n",
      "golf\n",
      "라면\n"
     ]
    }
   ],
   "source": [
    "for fav in my_favorite:\n",
    "    print(my_favorite[fav])"
   ]
  },
  {
   "cell_type": "code",
   "execution_count": 224,
   "id": "24c6c609-51d0-4ebe-ba5c-dbec1f1926d8",
   "metadata": {},
   "outputs": [
    {
     "name": "stdout",
     "output_type": "stream",
     "text": [
      "apple\n",
      "1\n",
      "golf\n",
      "라면\n"
     ]
    }
   ],
   "source": [
    "for fav in my_favorite:\n",
    "    print(my_favorite.get(fav))"
   ]
  },
  {
   "cell_type": "code",
   "execution_count": 225,
   "id": "5f7ca87f-ff1a-428a-83db-5e897e36abba",
   "metadata": {},
   "outputs": [
    {
     "name": "stdout",
     "output_type": "stream",
     "text": [
      "fruit\n",
      "number\n",
      "sports\n",
      "food\n"
     ]
    }
   ],
   "source": [
    "for key in my_favorite.keys():\n",
    "    print(key)"
   ]
  },
  {
   "cell_type": "code",
   "execution_count": 226,
   "id": "c0f9aeb5-1dd2-41c6-ae0a-9e8b70c91b4c",
   "metadata": {},
   "outputs": [
    {
     "name": "stdout",
     "output_type": "stream",
     "text": [
      "apple\n",
      "1\n",
      "golf\n",
      "라면\n"
     ]
    }
   ],
   "source": [
    "for value in my_favorite.values():\n",
    "    print(value)"
   ]
  },
  {
   "cell_type": "code",
   "execution_count": 227,
   "id": "4671ac6a-3eac-4416-a189-031c5123588e",
   "metadata": {},
   "outputs": [
    {
     "name": "stdout",
     "output_type": "stream",
     "text": [
      "('fruit', 'apple')\n",
      "('number', 1)\n",
      "('sports', 'golf')\n",
      "('food', '라면')\n"
     ]
    }
   ],
   "source": [
    "for item in my_favorite.items():\n",
    "    print(item)"
   ]
  },
  {
   "cell_type": "code",
   "execution_count": 228,
   "id": "952d2d95-c0bd-4f3d-88e8-96644794a8cb",
   "metadata": {},
   "outputs": [
    {
     "name": "stdout",
     "output_type": "stream",
     "text": [
      "fruit apple\n",
      "number 1\n",
      "sports golf\n",
      "food 라면\n"
     ]
    }
   ],
   "source": [
    "for item in my_favorite.items():\n",
    "    print(item[0], item[1])"
   ]
  },
  {
   "cell_type": "code",
   "execution_count": 229,
   "id": "ddf3792d-0a30-42c3-aac2-6064451e0a4b",
   "metadata": {},
   "outputs": [
    {
     "name": "stdout",
     "output_type": "stream",
     "text": [
      "fruit apple\n",
      "number 1\n",
      "sports golf\n",
      "food 라면\n"
     ]
    }
   ],
   "source": [
    "for key, value in my_favorite.items():\n",
    "    print(key, value)"
   ]
  },
  {
   "cell_type": "markdown",
   "id": "e8517b3d-c292-421c-a2b6-ff2df39ff242",
   "metadata": {},
   "source": [
    "in 연산자"
   ]
  },
  {
   "cell_type": "code",
   "execution_count": 230,
   "id": "15367c04-8d07-4a2d-af95-3f8f1cc7917d",
   "metadata": {},
   "outputs": [],
   "source": [
    "my_favorite = {\"fruit\":\"apple\", \"number\":1, \"sports\":\"golf\"}"
   ]
  },
  {
   "cell_type": "code",
   "execution_count": 231,
   "id": "23dadb30-eccc-4c76-b5ad-6f34021c720b",
   "metadata": {},
   "outputs": [
    {
     "data": {
      "text/plain": [
       "True"
      ]
     },
     "execution_count": 231,
     "metadata": {},
     "output_type": "execute_result"
    }
   ],
   "source": [
    "\"sports\" in my_favorite"
   ]
  },
  {
   "cell_type": "code",
   "execution_count": 232,
   "id": "023f02a7-6a25-493c-9414-def027b2c501",
   "metadata": {},
   "outputs": [
    {
     "data": {
      "text/plain": [
       "False"
      ]
     },
     "execution_count": 232,
     "metadata": {},
     "output_type": "execute_result"
    }
   ],
   "source": [
    "\"golf\" in my_favorite"
   ]
  },
  {
   "cell_type": "markdown",
   "id": "74ce881a-f2c2-42c3-bc2b-1489b04cf7d5",
   "metadata": {},
   "source": [
    "딕셔너리 복제"
   ]
  },
  {
   "cell_type": "code",
   "execution_count": 233,
   "id": "423389ef-e2e3-42aa-8d22-b3b2d5077c76",
   "metadata": {},
   "outputs": [],
   "source": [
    "my_fav = my_favorite.copy()"
   ]
  },
  {
   "cell_type": "code",
   "execution_count": 234,
   "id": "fd2979e2-ea21-4083-ae06-ac29c4fe94fe",
   "metadata": {},
   "outputs": [
    {
     "name": "stdout",
     "output_type": "stream",
     "text": [
      "{'fruit': 'apple', 'number': 1, 'sports': 'golf'}\n",
      "{'fruit': 'apple', 'number': 1, 'sports': 'golf'}\n"
     ]
    }
   ],
   "source": [
    "print(my_fav)\n",
    "print(my_favorite)"
   ]
  },
  {
   "cell_type": "code",
   "execution_count": 236,
   "id": "e7667a50-8c0f-4a29-af17-129e6e490210",
   "metadata": {},
   "outputs": [],
   "source": [
    "del my_fav['fruit']"
   ]
  },
  {
   "cell_type": "code",
   "execution_count": 237,
   "id": "d158e595-9a37-460b-9df9-b8770cdc7d75",
   "metadata": {},
   "outputs": [
    {
     "name": "stdout",
     "output_type": "stream",
     "text": [
      "{'number': 1, 'sports': 'golf'}\n",
      "{'fruit': 'apple', 'number': 1, 'sports': 'golf'}\n"
     ]
    }
   ],
   "source": [
    "print(my_fav)\n",
    "print(my_favorite)"
   ]
  },
  {
   "cell_type": "code",
   "execution_count": 238,
   "id": "d8e5e562-6f8c-4bae-9c0e-08bded2d3dda",
   "metadata": {},
   "outputs": [
    {
     "name": "stdout",
     "output_type": "stream",
     "text": [
      "{'fruit': 'apple', 'number': 1, 'sports': 'golf'}\n",
      "{'fruit': 'apple', 'number': 1, 'sports': 'golf'}\n"
     ]
    }
   ],
   "source": [
    "my_favorite = {'fruit':'apple', 'number':1, 'sports':'golf'}\n",
    "my_fav = my_favorite\n",
    "print(my_fav)\n",
    "print(my_favorite)"
   ]
  },
  {
   "cell_type": "code",
   "execution_count": 239,
   "id": "f8d36805-4d75-48dd-b908-22743624080f",
   "metadata": {},
   "outputs": [
    {
     "name": "stdout",
     "output_type": "stream",
     "text": [
      "{'number': 1, 'sports': 'golf'}\n",
      "{'number': 1, 'sports': 'golf'}\n"
     ]
    }
   ],
   "source": [
    "del my_fav['fruit']\n",
    "print(my_fav)\n",
    "print(my_favorite)"
   ]
  },
  {
   "cell_type": "markdown",
   "id": "8e99316d-fd0f-4123-846b-05125f31336e",
   "metadata": {},
   "source": [
    "SET"
   ]
  },
  {
   "cell_type": "code",
   "execution_count": 240,
   "id": "3743fe5d-bdbd-421c-ae7f-cf3806b41fc7",
   "metadata": {},
   "outputs": [],
   "source": [
    "fruits = {'apple', 'orange', 'banana', 'apple', 'pear'}"
   ]
  },
  {
   "cell_type": "code",
   "execution_count": 241,
   "id": "0b3c9ac6-b965-4713-8991-3ef8386202ce",
   "metadata": {},
   "outputs": [
    {
     "data": {
      "text/plain": [
       "{'apple', 'banana', 'orange', 'pear'}"
      ]
     },
     "execution_count": 241,
     "metadata": {},
     "output_type": "execute_result"
    }
   ],
   "source": [
    "fruits"
   ]
  },
  {
   "cell_type": "code",
   "execution_count": 244,
   "id": "9cab5e20-5ea0-44f9-b037-10cdd4db1795",
   "metadata": {},
   "outputs": [
    {
     "data": {
      "text/plain": [
       "{1, 2, 3}"
      ]
     },
     "execution_count": 244,
     "metadata": {},
     "output_type": "execute_result"
    }
   ],
   "source": [
    "s1 = set([1,2,3])\n",
    "s1"
   ]
  },
  {
   "cell_type": "code",
   "execution_count": 246,
   "id": "4b981a47-03bb-4910-a500-5c275aca7afc",
   "metadata": {},
   "outputs": [
    {
     "data": {
      "text/plain": [
       "{10, 20}"
      ]
     },
     "execution_count": 246,
     "metadata": {},
     "output_type": "execute_result"
    }
   ],
   "source": [
    "s2 = set((10,20))\n",
    "s2"
   ]
  },
  {
   "cell_type": "code",
   "execution_count": 251,
   "id": "5dda2d31-cc86-41cb-b88d-8d7ed856e743",
   "metadata": {},
   "outputs": [
    {
     "name": "stdout",
     "output_type": "stream",
     "text": [
      "{'key'}\n"
     ]
    }
   ],
   "source": [
    "s3 = set({'key':'value'})\n",
    "print(s3)"
   ]
  },
  {
   "cell_type": "code",
   "execution_count": 252,
   "id": "86751adf-2e62-46e0-9807-6b77b0390f5f",
   "metadata": {},
   "outputs": [],
   "source": [
    "fruits.add('apple')"
   ]
  },
  {
   "cell_type": "code",
   "execution_count": 253,
   "id": "a761197c-4a50-4c0f-b65a-b9d4e308b7de",
   "metadata": {},
   "outputs": [
    {
     "data": {
      "text/plain": [
       "{'apple', 'banana', 'orange', 'pear'}"
      ]
     },
     "execution_count": 253,
     "metadata": {},
     "output_type": "execute_result"
    }
   ],
   "source": [
    "fruits"
   ]
  },
  {
   "cell_type": "code",
   "execution_count": 254,
   "id": "634519ce-390e-4ce1-8cf7-c224d44a044d",
   "metadata": {},
   "outputs": [
    {
     "data": {
      "text/plain": [
       "{'apple', 'banana', 'mango', 'orange', 'pear'}"
      ]
     },
     "execution_count": 254,
     "metadata": {},
     "output_type": "execute_result"
    }
   ],
   "source": [
    "fruits.add('mango')\n",
    "fruits"
   ]
  },
  {
   "cell_type": "code",
   "execution_count": 255,
   "id": "ed64f61d-d1be-4720-b1d7-9be3383bbdae",
   "metadata": {},
   "outputs": [],
   "source": [
    "s1 = {1,2}\n",
    "s1.add('Hello')\n",
    "s1.add(False)\n",
    "s1.add((10,20))\n",
    "s1.add('abc')"
   ]
  },
  {
   "cell_type": "code",
   "execution_count": 256,
   "id": "1f3581f4-0359-47f2-afdc-345f6addeaba",
   "metadata": {},
   "outputs": [
    {
     "data": {
      "text/plain": [
       "{(10, 20), 1, 2, False, 'Hello', 'abc'}"
      ]
     },
     "execution_count": 256,
     "metadata": {},
     "output_type": "execute_result"
    }
   ],
   "source": [
    "s1"
   ]
  },
  {
   "cell_type": "code",
   "execution_count": 257,
   "id": "259bf595-c7bc-4880-a87d-dae3f03fceb3",
   "metadata": {},
   "outputs": [],
   "source": [
    "s1.add(True)\n",
    "s1.add(0)"
   ]
  },
  {
   "cell_type": "code",
   "execution_count": 258,
   "id": "2c894c8d-8e13-46e6-a53e-3834b0cef886",
   "metadata": {},
   "outputs": [
    {
     "data": {
      "text/plain": [
       "{(10, 20), 1, 2, False, 'Hello', 'abc'}"
      ]
     },
     "execution_count": 258,
     "metadata": {},
     "output_type": "execute_result"
    }
   ],
   "source": [
    "s1"
   ]
  },
  {
   "cell_type": "code",
   "execution_count": 261,
   "id": "999a29cf-cf79-446e-b2f3-32e83c4274da",
   "metadata": {},
   "outputs": [],
   "source": [
    "s1 = {0,2}\n",
    "s1.add(False)"
   ]
  },
  {
   "cell_type": "code",
   "execution_count": 262,
   "id": "6dffa66d-af9a-4fab-9071-755a32f2cc66",
   "metadata": {},
   "outputs": [
    {
     "data": {
      "text/plain": [
       "{0, 2}"
      ]
     },
     "execution_count": 262,
     "metadata": {},
     "output_type": "execute_result"
    }
   ],
   "source": [
    "s1"
   ]
  },
  {
   "cell_type": "code",
   "execution_count": 264,
   "id": "49217d7d-4d3e-4537-917c-2ddcaafb7776",
   "metadata": {},
   "outputs": [
    {
     "ename": "TypeError",
     "evalue": "unhashable type: 'list'",
     "output_type": "error",
     "traceback": [
      "\u001b[1;31m---------------------------------------------------------------------------\u001b[0m",
      "\u001b[1;31mTypeError\u001b[0m                                 Traceback (most recent call last)",
      "Cell \u001b[1;32mIn[264], line 2\u001b[0m\n\u001b[0;32m      1\u001b[0m s1 \u001b[38;5;241m=\u001b[39m {\u001b[38;5;241m1\u001b[39m,\u001b[38;5;241m2\u001b[39m}\n\u001b[1;32m----> 2\u001b[0m s1\u001b[38;5;241m.\u001b[39madd([\u001b[38;5;241m10\u001b[39m,\u001b[38;5;241m20\u001b[39m,\u001b[38;5;241m30\u001b[39m])\n",
      "\u001b[1;31mTypeError\u001b[0m: unhashable type: 'list'"
     ]
    }
   ],
   "source": [
    "s1 = {1,2}\n",
    "s1.add([10,20,30])"
   ]
  },
  {
   "cell_type": "code",
   "execution_count": 266,
   "id": "0cac3783-94fc-491b-942d-128e9d4a5aec",
   "metadata": {},
   "outputs": [
    {
     "data": {
      "text/plain": [
       "{1, 2, 10, 20, 30}"
      ]
     },
     "execution_count": 266,
     "metadata": {},
     "output_type": "execute_result"
    }
   ],
   "source": [
    "s2 = {1,2}\n",
    "s2.update([10,20,30])\n",
    "s2"
   ]
  },
  {
   "cell_type": "code",
   "execution_count": 267,
   "id": "ce9deff5-df49-45cc-abdf-b11c805fb9e7",
   "metadata": {},
   "outputs": [
    {
     "data": {
      "text/plain": [
       "{1, 2, 10, 20, 30, 100, 200, 300}"
      ]
     },
     "execution_count": 267,
     "metadata": {},
     "output_type": "execute_result"
    }
   ],
   "source": [
    "s2.update((100,200,300))\n",
    "s2"
   ]
  },
  {
   "cell_type": "code",
   "execution_count": 268,
   "id": "8dcf7d3b-a87f-41cf-b11a-b705947106ac",
   "metadata": {},
   "outputs": [
    {
     "data": {
      "text/plain": [
       "{1, 10, 100, 2, 20, 200, 30, 300, 'age', 'city'}"
      ]
     },
     "execution_count": 268,
     "metadata": {},
     "output_type": "execute_result"
    }
   ],
   "source": [
    "s2.update({'city':'seoul', 'age':20})\n",
    "s2"
   ]
  },
  {
   "cell_type": "code",
   "execution_count": 273,
   "id": "89561b42-75f2-4c46-9b46-18fe255761e6",
   "metadata": {},
   "outputs": [
    {
     "data": {
      "text/plain": [
       "({1, 2, 3, 4, 5, 6}, {4, 5, 6, 7, 8, 9})"
      ]
     },
     "execution_count": 273,
     "metadata": {},
     "output_type": "execute_result"
    }
   ],
   "source": [
    "s1 = set(range(1,7))\n",
    "s2 = set(range(4,10))\n",
    "s1, s2"
   ]
  },
  {
   "cell_type": "code",
   "execution_count": 274,
   "id": "a88f61f7-8a66-4598-aa2e-e68e49ed8764",
   "metadata": {},
   "outputs": [
    {
     "data": {
      "text/plain": [
       "{4, 5, 6}"
      ]
     },
     "execution_count": 274,
     "metadata": {},
     "output_type": "execute_result"
    }
   ],
   "source": [
    "s1 & s2"
   ]
  },
  {
   "cell_type": "code",
   "execution_count": 275,
   "id": "03d268cc-562a-4007-a25e-fcc34b81dc7c",
   "metadata": {},
   "outputs": [
    {
     "data": {
      "text/plain": [
       "{1, 2, 3, 4, 5, 6, 7, 8, 9}"
      ]
     },
     "execution_count": 275,
     "metadata": {},
     "output_type": "execute_result"
    }
   ],
   "source": [
    "s1 | s2"
   ]
  },
  {
   "cell_type": "code",
   "execution_count": 277,
   "id": "0c00922d-1971-419a-83d8-e52d58280156",
   "metadata": {},
   "outputs": [
    {
     "data": {
      "text/plain": [
       "{7, 8, 9}"
      ]
     },
     "execution_count": 277,
     "metadata": {},
     "output_type": "execute_result"
    }
   ],
   "source": [
    "s2 - s1"
   ]
  },
  {
   "cell_type": "code",
   "execution_count": 278,
   "id": "4ad5e724-a31c-42c0-8834-8996d78ba944",
   "metadata": {},
   "outputs": [
    {
     "data": {
      "text/plain": [
       "{(10, 20), 2, False, 'Hello', 'abc'}"
      ]
     },
     "execution_count": 278,
     "metadata": {},
     "output_type": "execute_result"
    }
   ],
   "source": [
    "s1 = {(10,20),1,2,False,'Hello','abc'}\n",
    "s1.remove(1)\n",
    "s1"
   ]
  },
  {
   "cell_type": "code",
   "execution_count": 279,
   "id": "0d07b050-1fbc-4e02-9199-bbd9aa7735bb",
   "metadata": {},
   "outputs": [
    {
     "ename": "KeyError",
     "evalue": "200",
     "output_type": "error",
     "traceback": [
      "\u001b[1;31m---------------------------------------------------------------------------\u001b[0m",
      "\u001b[1;31mKeyError\u001b[0m                                  Traceback (most recent call last)",
      "Cell \u001b[1;32mIn[279], line 1\u001b[0m\n\u001b[1;32m----> 1\u001b[0m s1\u001b[38;5;241m.\u001b[39mremove(\u001b[38;5;241m200\u001b[39m)\n",
      "\u001b[1;31mKeyError\u001b[0m: 200"
     ]
    }
   ],
   "source": [
    "s1.remove(200)"
   ]
  },
  {
   "cell_type": "code",
   "execution_count": 280,
   "id": "4954704e-b7af-4d0d-b11e-eb7532854c44",
   "metadata": {},
   "outputs": [
    {
     "data": {
      "text/plain": [
       "{(10, 20), 2, False, 'abc'}"
      ]
     },
     "execution_count": 280,
     "metadata": {},
     "output_type": "execute_result"
    }
   ],
   "source": [
    "s1.remove('Hello')\n",
    "s1"
   ]
  },
  {
   "cell_type": "code",
   "execution_count": 281,
   "id": "cf804e53-8c94-4e6c-8421-b10a06346d39",
   "metadata": {},
   "outputs": [
    {
     "data": {
      "text/plain": [
       "{2, False, 'abc'}"
      ]
     },
     "execution_count": 281,
     "metadata": {},
     "output_type": "execute_result"
    }
   ],
   "source": [
    "s1.remove((10,20))\n",
    "s1"
   ]
  },
  {
   "cell_type": "code",
   "execution_count": 282,
   "id": "2ba81674-f65c-4899-9bb5-4d0cb499de18",
   "metadata": {},
   "outputs": [
    {
     "data": {
      "text/plain": [
       "{2, 'abc'}"
      ]
     },
     "execution_count": 282,
     "metadata": {},
     "output_type": "execute_result"
    }
   ],
   "source": [
    "s1.remove(0)\n",
    "s1"
   ]
  },
  {
   "cell_type": "code",
   "execution_count": 283,
   "id": "3802bd94-89e4-41e1-82ce-f9658e806230",
   "metadata": {},
   "outputs": [],
   "source": [
    "fruits = ['watermelon', 'orange', 'mango', 'grape', 'banana']"
   ]
  },
  {
   "cell_type": "code",
   "execution_count": 284,
   "id": "469af0e5-9a44-45b4-9278-d2589d2ed720",
   "metadata": {},
   "outputs": [
    {
     "name": "stdout",
     "output_type": "stream",
     "text": [
      "데이터는 watermelon입니다.\n",
      "데이터는 orange입니다.\n",
      "데이터는 mango입니다.\n",
      "데이터는 grape입니다.\n",
      "데이터는 banana입니다.\n"
     ]
    }
   ],
   "source": [
    "for fruit in fruits:\n",
    "    print(f\"데이터는 {fruit}입니다.\")"
   ]
  },
  {
   "cell_type": "code",
   "execution_count": 285,
   "id": "2d1a578c-e153-47ae-b413-aa2fb631f626",
   "metadata": {},
   "outputs": [
    {
     "name": "stdout",
     "output_type": "stream",
     "text": [
      "1번째 데이터는 watermelon입니다.\n",
      "2번째 데이터는 orange입니다.\n",
      "3번째 데이터는 mango입니다.\n",
      "4번째 데이터는 grape입니다.\n",
      "5번째 데이터는 banana입니다.\n"
     ]
    }
   ],
   "source": [
    "for i in range(len(fruits)):\n",
    "    print(f\"{i+1}번째 데이터는 {fruits[i]}입니다.\")"
   ]
  },
  {
   "cell_type": "code",
   "execution_count": 286,
   "id": "45e42aeb-3f09-407f-b187-74208221b009",
   "metadata": {},
   "outputs": [
    {
     "data": {
      "text/plain": [
       "<enumerate at 0x22af7cf9c10>"
      ]
     },
     "execution_count": 286,
     "metadata": {},
     "output_type": "execute_result"
    }
   ],
   "source": [
    "enumerate(fruits)"
   ]
  },
  {
   "cell_type": "code",
   "execution_count": 287,
   "id": "7023d194-99ee-405e-abe0-9ee233c872de",
   "metadata": {},
   "outputs": [
    {
     "name": "stdout",
     "output_type": "stream",
     "text": [
      "1번째 데이터는 watermelon입니다.\n",
      "2번째 데이터는 orange입니다.\n",
      "3번째 데이터는 mango입니다.\n",
      "4번째 데이터는 grape입니다.\n",
      "5번째 데이터는 banana입니다.\n"
     ]
    }
   ],
   "source": [
    "for index, value in enumerate(fruits):\n",
    "    print(f\"{index+1}번째 데이터는 {value}입니다.\")"
   ]
  },
  {
   "cell_type": "code",
   "execution_count": 288,
   "id": "46990d1f-181f-47b6-8c34-a4adce94898b",
   "metadata": {},
   "outputs": [
    {
     "data": {
      "text/plain": [
       "[2, 4, 6, 8, 10]"
      ]
     },
     "execution_count": 288,
     "metadata": {},
     "output_type": "execute_result"
    }
   ],
   "source": [
    "L = list(range(1,11))\n",
    "L2 = [ item for item in L if item%2==0 ]\n",
    "L2"
   ]
  },
  {
   "cell_type": "code",
   "execution_count": 290,
   "id": "8ac8f1c6-d305-4f82-8a25-adf544d93a3b",
   "metadata": {},
   "outputs": [
    {
     "data": {
      "text/plain": [
       "[4, 8, 12, 16, 20]"
      ]
     },
     "execution_count": 290,
     "metadata": {},
     "output_type": "execute_result"
    }
   ],
   "source": [
    "L2 = [ item*2 for item in L if item%2==0 ]\n",
    "L2"
   ]
  },
  {
   "cell_type": "code",
   "execution_count": 292,
   "id": "dcfda8a1-f5ef-44d2-8378-8f1b12e82922",
   "metadata": {},
   "outputs": [
    {
     "data": {
      "text/plain": [
       "[(2, 4), (4, 8), (6, 12), (8, 16), (10, 20)]"
      ]
     },
     "execution_count": 292,
     "metadata": {},
     "output_type": "execute_result"
    }
   ],
   "source": [
    "L2 = [ (item, item*2) for item in L if item%2==0 ]\n",
    "L2"
   ]
  },
  {
   "cell_type": "code",
   "execution_count": 297,
   "id": "59783fa3-c378-4ee8-b843-5b86129c9ccf",
   "metadata": {},
   "outputs": [
    {
     "data": {
      "text/plain": [
       "[{2, 4}, {4, 8}, {6, 12}, {8, 16}, {10, 20}]"
      ]
     },
     "execution_count": 297,
     "metadata": {},
     "output_type": "execute_result"
    }
   ],
   "source": [
    "L2 = [ {item, item*2} for item in L if item%2==0 ]\n",
    "L2"
   ]
  },
  {
   "cell_type": "code",
   "execution_count": 298,
   "id": "38b07777-e90b-42b0-8ac8-e1acd7589ac7",
   "metadata": {},
   "outputs": [
    {
     "ename": "AttributeError",
     "evalue": "'list' object has no attribute 'get'",
     "output_type": "error",
     "traceback": [
      "\u001b[1;31m---------------------------------------------------------------------------\u001b[0m",
      "\u001b[1;31mAttributeError\u001b[0m                            Traceback (most recent call last)",
      "Cell \u001b[1;32mIn[298], line 1\u001b[0m\n\u001b[1;32m----> 1\u001b[0m L2\u001b[38;5;241m.\u001b[39mget(\u001b[38;5;241m2\u001b[39m)\n",
      "\u001b[1;31mAttributeError\u001b[0m: 'list' object has no attribute 'get'"
     ]
    }
   ],
   "source": [
    "L2.get(2)"
   ]
  },
  {
   "cell_type": "code",
   "execution_count": 289,
   "id": "26b8a4fa-7cb9-4652-9255-983ddfc8ab27",
   "metadata": {},
   "outputs": [
    {
     "data": {
      "text/plain": [
       "2"
      ]
     },
     "execution_count": 289,
     "metadata": {},
     "output_type": "execute_result"
    }
   ],
   "source": [
    "G = (item for item in L if item%2==0)\n",
    "next(G)"
   ]
  },
  {
   "cell_type": "code",
   "execution_count": 299,
   "id": "6cbe3fd6-7153-4aa5-8242-dbad59ed35ac",
   "metadata": {},
   "outputs": [
    {
     "data": {
      "text/plain": [
       "generator"
      ]
     },
     "execution_count": 299,
     "metadata": {},
     "output_type": "execute_result"
    }
   ],
   "source": [
    "type(G)"
   ]
  },
  {
   "cell_type": "markdown",
   "id": "4c0c8e34-594e-4cba-9533-cacf7903298e",
   "metadata": {},
   "source": [
    "연습문제"
   ]
  },
  {
   "cell_type": "code",
   "execution_count": 304,
   "id": "e2bcb1ee-a72a-437d-9b4e-a75a3c1be2b5",
   "metadata": {},
   "outputs": [
    {
     "name": "stdout",
     "output_type": "stream",
     "text": [
      "[1, 2, 3, 4, 5, 6, 7, 8, 9, 10]\n"
     ]
    }
   ],
   "source": [
    "numbers = list(range(1,11))\n",
    "print(numbers)"
   ]
  },
  {
   "cell_type": "code",
   "execution_count": 305,
   "id": "534f367c-d2fc-43ab-8c5a-1e2a0e2e6fdc",
   "metadata": {},
   "outputs": [
    {
     "name": "stdout",
     "output_type": "stream",
     "text": [
      "[1, 2, 3, 4, 5, 6, 7, 8, 9, 10, 100]\n"
     ]
    }
   ],
   "source": [
    "numbers.append(100)\n",
    "print(numbers)"
   ]
  },
  {
   "cell_type": "code",
   "execution_count": 308,
   "id": "da59d78b-9171-4069-a776-8cbb19870588",
   "metadata": {},
   "outputs": [
    {
     "name": "stdout",
     "output_type": "stream",
     "text": [
      "[200, 300, 400, 500]\n"
     ]
    }
   ],
   "source": [
    "data = list(range(200,600,100))\n",
    "print(data)\n",
    "numbers.extend(data)"
   ]
  },
  {
   "cell_type": "code",
   "execution_count": 309,
   "id": "ae015845-14b4-439b-84f3-5f2cf97b7ada",
   "metadata": {},
   "outputs": [
    {
     "name": "stdout",
     "output_type": "stream",
     "text": [
      "[1, 2, 3, 4, 5, 6, 7, 8, 9, 10, 100, 200, 300, 400, 500]\n"
     ]
    }
   ],
   "source": [
    "print(numbers)"
   ]
  },
  {
   "cell_type": "code",
   "execution_count": 310,
   "id": "fa4895bd-73ef-430f-8351-d807c2780b23",
   "metadata": {},
   "outputs": [
    {
     "data": {
      "text/plain": [
       "[1, 2, 3, 4, 5]"
      ]
     },
     "execution_count": 310,
     "metadata": {},
     "output_type": "execute_result"
    }
   ],
   "source": [
    "numbers[0:5:]"
   ]
  },
  {
   "cell_type": "code",
   "execution_count": 317,
   "id": "d948a7fa-ba01-4b7e-8e66-4603d3e947b7",
   "metadata": {},
   "outputs": [
    {
     "data": {
      "text/plain": [
       "[1, 3, 5, 7, 9, 100, 300, 500]"
      ]
     },
     "execution_count": 317,
     "metadata": {},
     "output_type": "execute_result"
    }
   ],
   "source": [
    "[numbers[i] for i in range(len(numbers)) if i%2==0]"
   ]
  },
  {
   "cell_type": "code",
   "execution_count": 319,
   "id": "fd892ee4-86ef-47e0-951b-48404790fb0d",
   "metadata": {},
   "outputs": [],
   "source": [
    "for i in range(len(numbers)):\n",
    "    if i%2==0:\n",
    "        numbers[i]=0"
   ]
  },
  {
   "cell_type": "code",
   "execution_count": 320,
   "id": "b22ded23-40ec-4ee3-9008-51ef90eb38be",
   "metadata": {},
   "outputs": [
    {
     "name": "stdout",
     "output_type": "stream",
     "text": [
      "[0, 2, 0, 4, 0, 6, 0, 8, 0, 10, 0, 200, 0, 400, 0]\n"
     ]
    }
   ],
   "source": [
    "print(numbers)"
   ]
  },
  {
   "cell_type": "code",
   "execution_count": 321,
   "id": "3acfcad4-4871-4d81-a110-f7a6b1444805",
   "metadata": {},
   "outputs": [
    {
     "data": {
      "text/plain": [
       "[0, 400, 0, 200, 0, 10, 0, 8, 0, 6, 0, 4, 0, 2, 0]"
      ]
     },
     "execution_count": 321,
     "metadata": {},
     "output_type": "execute_result"
    }
   ],
   "source": [
    "numbers[::-1]"
   ]
  },
  {
   "cell_type": "code",
   "execution_count": 322,
   "id": "35ed4cf6-1908-4f61-b242-efb40d6ca3a8",
   "metadata": {},
   "outputs": [],
   "source": [
    "member_info = {'name': '홍길동', 'age': 20, 'address': '서울시 강동구', 'score': 90}"
   ]
  },
  {
   "cell_type": "code",
   "execution_count": 325,
   "id": "4a9fb8f7-0ec4-4230-9082-5e06b59f323d",
   "metadata": {},
   "outputs": [
    {
     "name": "stdout",
     "output_type": "stream",
     "text": [
      "서울시 강동구\n"
     ]
    }
   ],
   "source": [
    "print(member_info.get('address'))"
   ]
  },
  {
   "cell_type": "code",
   "execution_count": 326,
   "id": "b0b5d97c-b48b-44a5-9e62-e3b202b425cc",
   "metadata": {},
   "outputs": [
    {
     "name": "stdout",
     "output_type": "stream",
     "text": [
      "90\n",
      "{'name': '홍길동', 'age': 20, 'address': '서울시 강동구'}\n"
     ]
    }
   ],
   "source": [
    "print(member_info.get('score'))\n",
    "member_info.pop('score')\n",
    "print(member_info)"
   ]
  },
  {
   "cell_type": "code",
   "execution_count": 327,
   "id": "517cb5a2-196f-4d8f-8c50-a4994e635dbe",
   "metadata": {},
   "outputs": [
    {
     "name": "stdout",
     "output_type": "stream",
     "text": [
      "{'name': '홍길동', 'age': 20, 'address': '서울시 강남구'}\n"
     ]
    }
   ],
   "source": [
    "member_info['address']='서울시 강남구'\n",
    "print(member_info)"
   ]
  },
  {
   "cell_type": "code",
   "execution_count": 329,
   "id": "037f7f11-1510-47e3-938f-451d30c192d9",
   "metadata": {},
   "outputs": [
    {
     "data": {
      "text/plain": [
       "['홍길동', 20, '서울시 강남구']"
      ]
     },
     "execution_count": 329,
     "metadata": {},
     "output_type": "execute_result"
    }
   ],
   "source": [
    "list(member_info.values())"
   ]
  },
  {
   "cell_type": "code",
   "execution_count": null,
   "id": "c68d9e68-ab7a-4af8-855c-285502b80467",
   "metadata": {},
   "outputs": [],
   "source": []
  }
 ],
 "metadata": {
  "kernelspec": {
   "display_name": "Python 3 (ipykernel)",
   "language": "python",
   "name": "python3"
  },
  "language_info": {
   "codemirror_mode": {
    "name": "ipython",
    "version": 3
   },
   "file_extension": ".py",
   "mimetype": "text/x-python",
   "name": "python",
   "nbconvert_exporter": "python",
   "pygments_lexer": "ipython3",
   "version": "3.11.7"
  }
 },
 "nbformat": 4,
 "nbformat_minor": 5
}
