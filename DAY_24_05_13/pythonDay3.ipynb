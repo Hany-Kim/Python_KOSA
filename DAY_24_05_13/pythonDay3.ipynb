{
 "cells": [
  {
   "cell_type": "markdown",
   "id": "ba74895a-4d0b-4982-ba67-ce04842fcabd",
   "metadata": {},
   "source": [
    "4장. 반복문, 제어문"
   ]
  },
  {
   "cell_type": "code",
   "execution_count": 5,
   "id": "e4051509-56a1-46e3-bc0a-1b4d7c525c79",
   "metadata": {},
   "outputs": [
    {
     "name": "stdin",
     "output_type": "stream",
     "text": [
      "점수를 입력하세요 55\n"
     ]
    },
    {
     "name": "stdout",
     "output_type": "stream",
     "text": [
      "if블록 아래\n"
     ]
    }
   ],
   "source": [
    "score = int(input('점수를 입력하세요'))\n",
    "if score>=60:\n",
    "    print('합격입니다.')\n",
    "\n",
    "print('if블록 아래')"
   ]
  },
  {
   "cell_type": "code",
   "execution_count": 6,
   "id": "78d83315-5c82-45d2-bd7e-9c2c1be1d6f6",
   "metadata": {},
   "outputs": [
    {
     "name": "stdin",
     "output_type": "stream",
     "text": [
      "점수를 입력하세요 50\n"
     ]
    },
    {
     "name": "stdout",
     "output_type": "stream",
     "text": [
      "불합격입니다.\n",
      "if블록 아래\n"
     ]
    }
   ],
   "source": [
    "score = int(input('점수를 입력하세요'))\n",
    "if score>=60:\n",
    "    print('합격입니다.')\n",
    "else :\n",
    "    print('불합격입니다.')\n",
    "\n",
    "print('if블록 아래')"
   ]
  },
  {
   "cell_type": "code",
   "execution_count": 7,
   "id": "ded567ac-f14f-40c7-a7ae-69f781301502",
   "metadata": {},
   "outputs": [
    {
     "name": "stdin",
     "output_type": "stream",
     "text": [
      "점수를 입력하세요 72\n"
     ]
    },
    {
     "name": "stdout",
     "output_type": "stream",
     "text": [
      "C 등급입니다.\n",
      "if블록 아래\n"
     ]
    }
   ],
   "source": [
    "score = int(input('점수를 입력하세요'))\n",
    "if score>=90:\n",
    "    print('A 등급입니다.')\n",
    "elif score>=80:\n",
    "    print('B 등급입니다.')\n",
    "elif score>=70:\n",
    "    print('C 등급입니다.')\n",
    "elif score>=60:\n",
    "    print('D 등급입니다.')\n",
    "else :\n",
    "    print('F 등급입니다.')\n",
    "\n",
    "print('if블록 아래')"
   ]
  },
  {
   "cell_type": "code",
   "execution_count": 10,
   "id": "ecd29495-c58c-44ea-842a-91da08395abb",
   "metadata": {},
   "outputs": [
    {
     "name": "stdout",
     "output_type": "stream",
     "text": [
      "1\t2\t3\t4\t5\t6\t7\t8\t9\t10\t"
     ]
    }
   ],
   "source": [
    "L = list(range(1,11))\n",
    "for i in L:\n",
    "    print(i, end='\\t')"
   ]
  },
  {
   "cell_type": "code",
   "execution_count": 11,
   "id": "adbe7fa2-f9f8-40d8-a28b-8a24d42c996f",
   "metadata": {},
   "outputs": [
    {
     "name": "stdout",
     "output_type": "stream",
     "text": [
      "0\t1\t2\t3\t4\t5\t6\t7\t8\t9\t"
     ]
    }
   ],
   "source": [
    "L = list(range(10))\n",
    "for i in L:\n",
    "    print(i, end='\\t')"
   ]
  },
  {
   "cell_type": "code",
   "execution_count": 12,
   "id": "9e3c3fcd-a0d7-4f20-8b62-3bfcaf09c890",
   "metadata": {},
   "outputs": [
    {
     "name": "stdout",
     "output_type": "stream",
     "text": [
      "apple\n",
      "banana\n",
      "cherry\n"
     ]
    }
   ],
   "source": [
    "D = {'apple':'green', 'banana':'yellow', 'cherry':'red'}\n",
    "for data in D:\n",
    "    print(data)"
   ]
  },
  {
   "cell_type": "code",
   "execution_count": 13,
   "id": "93011886-db6d-4564-9437-24aa33fc5db3",
   "metadata": {},
   "outputs": [
    {
     "name": "stdout",
     "output_type": "stream",
     "text": [
      "apple\n",
      "banana\n",
      "cherry\n"
     ]
    }
   ],
   "source": [
    "D = {'apple':'green', 'banana':'yellow', 'cherry':'red'}\n",
    "for data in D.keys():\n",
    "    print(data)"
   ]
  },
  {
   "cell_type": "code",
   "execution_count": 14,
   "id": "6695e766-1d98-4ecd-8a45-9e706ec7c596",
   "metadata": {},
   "outputs": [
    {
     "name": "stdout",
     "output_type": "stream",
     "text": [
      "green\n",
      "yellow\n",
      "red\n"
     ]
    }
   ],
   "source": [
    "D = {'apple':'green', 'banana':'yellow', 'cherry':'red'}\n",
    "for data in D.values():\n",
    "    print(data)"
   ]
  },
  {
   "cell_type": "code",
   "execution_count": 15,
   "id": "9be5577c-c462-46e9-936b-ac22c42fa0e2",
   "metadata": {},
   "outputs": [
    {
     "name": "stdout",
     "output_type": "stream",
     "text": [
      "('apple', 'green')\n",
      "('banana', 'yellow')\n",
      "('cherry', 'red')\n"
     ]
    }
   ],
   "source": [
    "D = {'apple':'green', 'banana':'yellow', 'cherry':'red'}\n",
    "for data in D.items():\n",
    "    print(data)"
   ]
  },
  {
   "cell_type": "code",
   "execution_count": 16,
   "id": "8a183288-c1d5-46f1-9622-085ef36cc79e",
   "metadata": {},
   "outputs": [
    {
     "name": "stdout",
     "output_type": "stream",
     "text": [
      "hello\n",
      "world\n",
      "kosa\n"
     ]
    }
   ],
   "source": [
    "L = ['hello', 'world', 'kosa']\n",
    "for data in L:\n",
    "    print(data)"
   ]
  },
  {
   "cell_type": "code",
   "execution_count": 17,
   "id": "c0e918c1-b2c4-463a-a9d6-d599f090c507",
   "metadata": {},
   "outputs": [
    {
     "name": "stdout",
     "output_type": "stream",
     "text": [
      "(0, 'hello')\n",
      "(1, 'world')\n",
      "(2, 'kosa')\n"
     ]
    }
   ],
   "source": [
    "L = ['hello', 'world', 'kosa']\n",
    "for data in enumerate(L):\n",
    "    print(data)"
   ]
  },
  {
   "cell_type": "code",
   "execution_count": 18,
   "id": "8cb7e721-a9ef-4c6d-9088-a359aa721681",
   "metadata": {},
   "outputs": [
    {
     "name": "stdout",
     "output_type": "stream",
     "text": [
      "0 hello\n",
      "1 world\n",
      "2 kosa\n"
     ]
    }
   ],
   "source": [
    "L = ['hello', 'world', 'kosa']\n",
    "for i, data in enumerate(L):\n",
    "    print(i, data)"
   ]
  },
  {
   "cell_type": "code",
   "execution_count": 20,
   "id": "54b8e48c-2938-4d83-be59-e66cbdd51bc0",
   "metadata": {},
   "outputs": [
    {
     "name": "stdout",
     "output_type": "stream",
     "text": [
      "[2, 4, 6, 8, 10]\n"
     ]
    }
   ],
   "source": [
    "L = list(range(1,11))\n",
    "#짝수만 뽑아서 리스트로 만들어야 함\n",
    "L2 = []\n",
    "for data in L:\n",
    "    if data%2==0:\n",
    "        L2.append(data)\n",
    "print(L2)"
   ]
  },
  {
   "cell_type": "code",
   "execution_count": 22,
   "id": "6be48d51-59d9-4568-afbf-e342924dba2e",
   "metadata": {},
   "outputs": [
    {
     "name": "stdout",
     "output_type": "stream",
     "text": [
      "[2, 4, 6, 8, 10]\n"
     ]
    }
   ],
   "source": [
    "# [ 수식(표현식) for 변수 in 나열객체 if 조건식 ]\n",
    "# 수식(표현식) 결과 == 조건식 참일때마다 추가\n",
    "L3 = [ data for data in L if data%2==0 ]\n",
    "print(L3)"
   ]
  },
  {
   "cell_type": "code",
   "execution_count": 23,
   "id": "dc102ac7-ed24-4b12-9297-a972c4d34530",
   "metadata": {},
   "outputs": [
    {
     "name": "stdout",
     "output_type": "stream",
     "text": [
      "[8, 64, 216, 512, 1000]\n"
     ]
    }
   ],
   "source": [
    "L3 = [ data**3 for data in L if data%2==0 ]\n",
    "print(L3)"
   ]
  },
  {
   "cell_type": "code",
   "execution_count": 24,
   "id": "a6fee818-0603-4890-b619-dc3312cea00d",
   "metadata": {},
   "outputs": [
    {
     "data": {
      "text/plain": [
       "range"
      ]
     },
     "execution_count": 24,
     "metadata": {},
     "output_type": "execute_result"
    }
   ],
   "source": [
    "L = range(10)\n",
    "type(L)"
   ]
  },
  {
   "cell_type": "code",
   "execution_count": 25,
   "id": "49b851e1-b8ba-4192-ba51-76fa1ff2e665",
   "metadata": {},
   "outputs": [
    {
     "data": {
      "text/plain": [
       "list"
      ]
     },
     "execution_count": 25,
     "metadata": {},
     "output_type": "execute_result"
    }
   ],
   "source": [
    "L = list(range(10))\n",
    "type(L)"
   ]
  },
  {
   "cell_type": "code",
   "execution_count": 6,
   "id": "737909e1-39a7-4e7e-a0b7-138efb239bff",
   "metadata": {},
   "outputs": [
    {
     "name": "stdout",
     "output_type": "stream",
     "text": [
      "0 1 2 3 4 5 6 7 8 9 \n",
      "45\n"
     ]
    }
   ],
   "source": [
    "L = list(range(10))\n",
    "i = 0\n",
    "sum = 0\n",
    "while i<10:\n",
    "    print(i, end=' ')\n",
    "    sum += L[i]\n",
    "    i = i+1\n",
    "print()\n",
    "print(sum)"
   ]
  },
  {
   "cell_type": "code",
   "execution_count": 11,
   "id": "60443811-8814-4eb8-be3f-a49fa85a978e",
   "metadata": {},
   "outputs": [
    {
     "name": "stdout",
     "output_type": "stream",
     "text": [
      "1\t2\t3\t4\t5\t\n",
      "10\t20\t30\t40\t50\t\n",
      "100\t200\t300\t400\t500\t\n"
     ]
    }
   ],
   "source": [
    "L2 = [list(range(1,6)), list(range(10,60,10)), list(range(100,600,100))]\n",
    "for row in L2:\n",
    "    for data in row:\n",
    "        print(data, end='\\t')\n",
    "    print()"
   ]
  },
  {
   "cell_type": "code",
   "execution_count": 9,
   "id": "90a82a04-f508-4614-b67a-f2855af2aba9",
   "metadata": {},
   "outputs": [
    {
     "data": {
      "text/plain": [
       "30"
      ]
     },
     "execution_count": 9,
     "metadata": {},
     "output_type": "execute_result"
    }
   ],
   "source": [
    "L2[1][2]"
   ]
  },
  {
   "cell_type": "code",
   "execution_count": 17,
   "id": "1524e163-2263-4c7c-a484-8febe9e78534",
   "metadata": {},
   "outputs": [
    {
     "name": "stdout",
     "output_type": "stream",
     "text": [
      "2X1= 2\t3X1= 3\t4X1= 4\t5X1= 5\t6X1= 6\t7X1= 7\t8X1= 8\t9X1= 9\t\n",
      "2X2= 4\t3X2= 6\t4X2= 8\t5X2=10\t6X2=12\t7X2=14\t8X2=16\t9X2=18\t\n",
      "2X3= 6\t3X3= 9\t4X3=12\t5X3=15\t6X3=18\t7X3=21\t8X3=24\t9X3=27\t\n",
      "2X4= 8\t3X4=12\t4X4=16\t5X4=20\t6X4=24\t7X4=28\t8X4=32\t9X4=36\t\n",
      "2X5=10\t3X5=15\t4X5=20\t5X5=25\t6X5=30\t7X5=35\t8X5=40\t9X5=45\t\n",
      "2X6=12\t3X6=18\t4X6=24\t5X6=30\t6X6=36\t7X6=42\t8X6=48\t9X6=54\t\n",
      "2X7=14\t3X7=21\t4X7=28\t5X7=35\t6X7=42\t7X7=49\t8X7=56\t9X7=63\t\n",
      "2X8=16\t3X8=24\t4X8=32\t5X8=40\t6X8=48\t7X8=56\t8X8=64\t9X8=72\t\n",
      "2X9=18\t3X9=27\t4X9=36\t5X9=45\t6X9=54\t7X9=63\t8X9=72\t9X9=81\t\n"
     ]
    }
   ],
   "source": [
    "for i in range(1,10):\n",
    "    for j in range(2,10):\n",
    "        print(f'{j}X{i}={i*j:2}', end='\\t')\n",
    "    print()"
   ]
  },
  {
   "cell_type": "code",
   "execution_count": 3,
   "id": "1ff03a40-d45b-47c8-b7b8-8df28e109a1a",
   "metadata": {},
   "outputs": [
    {
     "name": "stdout",
     "output_type": "stream",
     "text": [
      "###################################################################################################\r"
     ]
    }
   ],
   "source": [
    "import time\n",
    "sum = 0\n",
    "progress = ''\n",
    "percent = 0\n",
    "for i in range(100):\n",
    "    sum = sum + i;\n",
    "    percent = (i/100) * 100\n",
    "    progress = '#' * int(percent)\n",
    "    time.sleep(0.1)\n",
    "    print(f\"{progress}\", end='\\r')"
   ]
  },
  {
   "cell_type": "code",
   "execution_count": 7,
   "id": "475d3189-d5d0-402d-b20e-28ca05528dc4",
   "metadata": {},
   "outputs": [
    {
     "name": "stderr",
     "output_type": "stream",
     "text": [
      "100%|████████████████████████████████████████████████████████████████████████████████| 100/100 [00:10<00:00,  9.76it/s]\n"
     ]
    }
   ],
   "source": [
    "from tqdm import tqdm\n",
    "import time\n",
    "for i in tqdm(range(100)):\n",
    "    time.sleep(0.1)\n",
    "    pass"
   ]
  },
  {
   "cell_type": "code",
   "execution_count": 8,
   "id": "159ccc28-80ec-4697-8465-a37ca815b9a6",
   "metadata": {},
   "outputs": [
    {
     "name": "stderr",
     "output_type": "stream",
     "text": [
      "100%|████████████████████████████████████████████████████████████████████████████████| 100/100 [00:10<00:00,  9.76it/s]\n"
     ]
    }
   ],
   "source": [
    "from tqdm import tqdm, trange\n",
    "import time\n",
    "for i in trange(100):\n",
    "    time.sleep(0.1)\n",
    "    pass"
   ]
  },
  {
   "cell_type": "code",
   "execution_count": 9,
   "id": "e5075933-45d3-4f97-adcb-f2c78869687c",
   "metadata": {},
   "outputs": [
    {
     "name": "stderr",
     "output_type": "stream",
     "text": [
      "100%|█████████████████████| 100/100 [00:10<00:00,  9.82it/s]\n"
     ]
    }
   ],
   "source": [
    "from tqdm import tqdm, trange\n",
    "import time\n",
    "for i in trange(100, ncols=60):\n",
    "    time.sleep(0.1)\n",
    "    pass"
   ]
  },
  {
   "cell_type": "code",
   "execution_count": 10,
   "id": "2f23d503-d59d-47d2-b230-fe540178da02",
   "metadata": {},
   "outputs": [
    {
     "name": "stderr",
     "output_type": "stream",
     "text": [
      "100%|#####################| 100/100 [00:10<00:00,  9.77it/s]\n"
     ]
    }
   ],
   "source": [
    "from tqdm import tqdm, trange\n",
    "import time\n",
    "for i in trange(100, ncols=60, ascii=True):\n",
    "    time.sleep(0.1)\n",
    "    pass"
   ]
  },
  {
   "cell_type": "code",
   "execution_count": 11,
   "id": "eaaf2828-d36f-41f3-b57c-74ff32f4d49e",
   "metadata": {},
   "outputs": [
    {
     "name": "stderr",
     "output_type": "stream",
     "text": [
      ">>: 100%|#################| 100/100 [00:10<00:00,  9.77it/s]\n"
     ]
    }
   ],
   "source": [
    "from tqdm import tqdm, trange\n",
    "import time\n",
    "for i in trange(100, ncols=60, ascii=True, desc='>>'):\n",
    "    time.sleep(0.1)\n",
    "    pass"
   ]
  },
  {
   "cell_type": "markdown",
   "id": "29e11157-06c8-4881-9ef7-9016466c3a54",
   "metadata": {},
   "source": [
    "연습문제"
   ]
  },
  {
   "cell_type": "code",
   "execution_count": 12,
   "id": "1f692f81-97b3-40c4-90f7-394e78893646",
   "metadata": {},
   "outputs": [
    {
     "name": "stdin",
     "output_type": "stream",
     "text": [
      "숫자를 입력해주세요 -1\n",
      "숫자를 입력해주세요 -6\n",
      "숫자를 입력해주세요 -6611161\n",
      "숫자를 입력해주세요 464551218648\n"
     ]
    },
    {
     "name": "stdout",
     "output_type": "stream",
     "text": [
      "짝수 입니다\n"
     ]
    }
   ],
   "source": [
    "while(1) :\n",
    "    num = int(input('숫자를 입력해주세요'))\n",
    "\n",
    "    if num<0 :\n",
    "        continue\n",
    "    elif num%2==0 :\n",
    "        print('짝수 입니다')\n",
    "        break\n",
    "    elif num%2==1 :\n",
    "        print('홀수 입니다')\n",
    "        break"
   ]
  },
  {
   "cell_type": "code",
   "execution_count": 18,
   "id": "51249df2-f966-49d1-8d8b-2c84930946d7",
   "metadata": {},
   "outputs": [
    {
     "name": "stdout",
     "output_type": "stream",
     "text": [
      "408\n"
     ]
    }
   ],
   "source": [
    "sum = 0\n",
    "for i in range(1,51) :\n",
    "    if i%3==0 :\n",
    "        sum += i\n",
    "print(sum)\n"
   ]
  },
  {
   "cell_type": "code",
   "execution_count": 22,
   "id": "75720300-09f8-4440-9fd1-79e545a39816",
   "metadata": {},
   "outputs": [
    {
     "name": "stdout",
     "output_type": "stream",
     "text": [
      "*****"
     ]
    }
   ],
   "source": [
    "for i in range(5):\n",
    "    print('*', end='')"
   ]
  },
  {
   "cell_type": "code",
   "execution_count": 38,
   "id": "ea390c03-752c-4774-976b-77eb76f14bd3",
   "metadata": {},
   "outputs": [
    {
     "name": "stdout",
     "output_type": "stream",
     "text": [
      "*****    \n",
      "*****    \n",
      "*****    \n",
      "*****    \n",
      "*****    \n"
     ]
    }
   ],
   "source": [
    "for y in range(5):\n",
    "    for x in range(9):\n",
    "        if x<5 :\n",
    "            print('*', end='')\n",
    "        else :\n",
    "            print(' ', end='')\n",
    "    print()"
   ]
  },
  {
   "cell_type": "code",
   "execution_count": 39,
   "id": "9902b0c1-c32b-4055-add4-cae3f1784283",
   "metadata": {},
   "outputs": [
    {
     "name": "stdout",
     "output_type": "stream",
     "text": [
      "*        \n",
      "**       \n",
      "***      \n",
      "****     \n",
      "*****    \n"
     ]
    }
   ],
   "source": [
    "for y in range(5):\n",
    "    for x in range(9):\n",
    "        if x<=y :\n",
    "            print('*', end='')\n",
    "        else :\n",
    "            print(' ', end='')\n",
    "    print()"
   ]
  },
  {
   "cell_type": "code",
   "execution_count": 40,
   "id": "49e9331e-19aa-40b7-8083-67dc088e8208",
   "metadata": {},
   "outputs": [
    {
     "name": "stdout",
     "output_type": "stream",
     "text": [
      "*****    \n",
      "****     \n",
      "***      \n",
      "**       \n",
      "*        \n"
     ]
    }
   ],
   "source": [
    "for y in range(5):\n",
    "    for x in range(9):\n",
    "        if (5-x)>y :\n",
    "            print('*', end='')\n",
    "        else :\n",
    "            print(' ', end='')\n",
    "    print()"
   ]
  },
  {
   "cell_type": "code",
   "execution_count": 41,
   "id": "e1544119-8774-457c-b119-3e620b7fd3d6",
   "metadata": {},
   "outputs": [
    {
     "name": "stdout",
     "output_type": "stream",
     "text": [
      "    *    \n",
      "   **    \n",
      "  ***    \n",
      " ****    \n",
      "*****    \n"
     ]
    }
   ],
   "source": [
    "for y in range(5):\n",
    "    for x in range(9):\n",
    "        if x >= 5 :\n",
    "            print(' ', end='')\n",
    "        elif (4-x)<=y :\n",
    "            print('*', end='')\n",
    "        else :\n",
    "            print(' ', end='')\n",
    "    print()"
   ]
  },
  {
   "cell_type": "code",
   "execution_count": 42,
   "id": "96e796cd-8045-4895-b891-38f933dec9d4",
   "metadata": {},
   "outputs": [
    {
     "name": "stdout",
     "output_type": "stream",
     "text": [
      "*****    \n",
      " ****    \n",
      "  ***    \n",
      "   **    \n",
      "    *    \n"
     ]
    }
   ],
   "source": [
    "for y in range(5):\n",
    "    for x in range(9):\n",
    "        if x >= 5 :\n",
    "            print(' ', end='')\n",
    "        elif x>=y :\n",
    "            print('*', end='')\n",
    "        else :\n",
    "            print(' ', end='')\n",
    "    print()"
   ]
  },
  {
   "cell_type": "code",
   "execution_count": 57,
   "id": "db6b8d4f-7fef-4c0c-afda-c1bc7794b38c",
   "metadata": {},
   "outputs": [
    {
     "name": "stdout",
     "output_type": "stream",
     "text": [
      "    *    \n",
      "   ***   \n",
      "  *****  \n",
      " ******* \n",
      "*********\n"
     ]
    }
   ],
   "source": [
    "for y in range(5):\n",
    "    for x in range(9):\n",
    "        if (x>=(4-y)) and (x<=(4+y)):\n",
    "            print('*',end='')\n",
    "        else :\n",
    "            print(' ',end='')\n",
    "    print()"
   ]
  },
  {
   "cell_type": "markdown",
   "id": "327c19ea-60b7-4221-a06d-dcf83046fe97",
   "metadata": {},
   "source": [
    "5장. 함수"
   ]
  },
  {
   "cell_type": "code",
   "execution_count": 58,
   "id": "37a89c57-a1d0-48cf-b3ff-1276c7d0557c",
   "metadata": {},
   "outputs": [],
   "source": [
    "def hello():\n",
    "    print(\"Hello World\")"
   ]
  },
  {
   "cell_type": "code",
   "execution_count": 59,
   "id": "04b1f39f-3a52-482e-8578-f22b5fdb8968",
   "metadata": {},
   "outputs": [
    {
     "data": {
      "text/plain": [
       "function"
      ]
     },
     "execution_count": 59,
     "metadata": {},
     "output_type": "execute_result"
    }
   ],
   "source": [
    "type(hello)"
   ]
  },
  {
   "cell_type": "code",
   "execution_count": 60,
   "id": "522983a6-7334-4511-a1b1-2ce83fd59a96",
   "metadata": {},
   "outputs": [
    {
     "name": "stdout",
     "output_type": "stream",
     "text": [
      "Hello World\n"
     ]
    }
   ],
   "source": [
    "hello()"
   ]
  },
  {
   "cell_type": "code",
   "execution_count": 61,
   "id": "0ad9c4aa-60ec-47dd-b34f-0c64e38b13c5",
   "metadata": {},
   "outputs": [],
   "source": [
    "def my_function():\n",
    "    \"문서의 설명을 포함하세요.\"\n",
    "    pass"
   ]
  },
  {
   "cell_type": "code",
   "execution_count": 62,
   "id": "056a0162-a324-422c-96c3-4b757844a5b2",
   "metadata": {},
   "outputs": [
    {
     "name": "stdout",
     "output_type": "stream",
     "text": [
      "문서의 설명을 포함하세요.\n"
     ]
    }
   ],
   "source": [
    "print(my_function.__doc__)"
   ]
  },
  {
   "cell_type": "code",
   "execution_count": 63,
   "id": "8ad3cebd-a534-4021-a23a-4ab3022617af",
   "metadata": {},
   "outputs": [],
   "source": [
    "def fibonacci(n):\n",
    "    a, b = 0, 1\n",
    "    while(a < n):\n",
    "        print(a, end=' ')\n",
    "        a, b = b, a+b\n",
    "    print()"
   ]
  },
  {
   "cell_type": "code",
   "execution_count": 64,
   "id": "4d632796-95d6-4338-984e-3e72d56b214c",
   "metadata": {},
   "outputs": [
    {
     "name": "stdout",
     "output_type": "stream",
     "text": [
      "0 1 1 2 3 5 8 13 21 34 55 89 \n"
     ]
    }
   ],
   "source": [
    "fi = fibonacci(100)"
   ]
  },
  {
   "cell_type": "code",
   "execution_count": 65,
   "id": "0c8efce1-9979-471e-b7f0-89a50d8b35a2",
   "metadata": {},
   "outputs": [
    {
     "name": "stdout",
     "output_type": "stream",
     "text": [
      "None\n"
     ]
    }
   ],
   "source": [
    "print(fi)"
   ]
  },
  {
   "cell_type": "code",
   "execution_count": 74,
   "id": "adbca528-6cd2-41ef-9c91-8e5698a6ce04",
   "metadata": {},
   "outputs": [
    {
     "name": "stdin",
     "output_type": "stream",
     "text": [
      "숫자 10\n"
     ]
    },
    {
     "name": "stdout",
     "output_type": "stream",
     "text": [
      "0 1 1 2 3 5 8 13 21 34 55 "
     ]
    },
    {
     "name": "stdin",
     "output_type": "stream",
     "text": [
      "숫자 -1\n"
     ]
    }
   ],
   "source": [
    "dp = [-1 for i in range(10000)]\n",
    "dp[0] = 0\n",
    "dp[1] = 1\n",
    "def fibo(n):\n",
    "    for i in range(2, n+1):\n",
    "        dp[i] = dp[i-2]+dp[i-1]\n",
    "\n",
    "    for i in range(n+1):\n",
    "        print(dp[i], end=' ')\n",
    "\n",
    "def fb(n):\n",
    "    if n==-1 :\n",
    "        dp[n] = fb(n-1) + fb(n-2)\n",
    "\n",
    "while(1) :\n",
    "    n = int(input('숫자'))\n",
    "    \n",
    "    if n==-1 :\n",
    "        break\n",
    "    else : \n",
    "        fibo(n)"
   ]
  },
  {
   "cell_type": "code",
   "execution_count": 76,
   "id": "18e1dc4e-23c2-45ad-ba89-fd496ec8c9f5",
   "metadata": {},
   "outputs": [],
   "source": [
    "def swap(a, b):\n",
    "    return b, a"
   ]
  },
  {
   "cell_type": "code",
   "execution_count": 77,
   "id": "16869382-7933-476a-a21e-ea026dc15d9d",
   "metadata": {},
   "outputs": [],
   "source": [
    "a = swap(20,30)"
   ]
  },
  {
   "cell_type": "code",
   "execution_count": 78,
   "id": "9eea4774-1026-4df4-8ca8-d7f885a9a0ac",
   "metadata": {},
   "outputs": [
    {
     "data": {
      "text/plain": [
       "tuple"
      ]
     },
     "execution_count": 78,
     "metadata": {},
     "output_type": "execute_result"
    }
   ],
   "source": [
    "type(a)"
   ]
  },
  {
   "cell_type": "code",
   "execution_count": 81,
   "id": "fe351043-aa65-488b-b080-52d6ec9a87dd",
   "metadata": {},
   "outputs": [
    {
     "name": "stdout",
     "output_type": "stream",
     "text": [
      "30 20\n"
     ]
    }
   ],
   "source": [
    "a,b = swap(20,30)\n",
    "print(a, b)"
   ]
  },
  {
   "cell_type": "code",
   "execution_count": 82,
   "id": "aeb60a7d-25d5-48d3-8cc8-83a74d5fcdaf",
   "metadata": {},
   "outputs": [
    {
     "name": "stdout",
     "output_type": "stream",
     "text": [
      "20\n"
     ]
    }
   ],
   "source": [
    "_, b = swap(20, 30)\n",
    "print(b)"
   ]
  },
  {
   "cell_type": "code",
   "execution_count": 85,
   "id": "004fa89b-fb10-4ca4-b007-24aab24bceb5",
   "metadata": {},
   "outputs": [],
   "source": [
    "def outer(num):\n",
    "    def inner(data):\n",
    "        return num+data\n",
    "    return inner"
   ]
  },
  {
   "cell_type": "code",
   "execution_count": 88,
   "id": "1154a09e-27e7-4842-9884-be8d8bb8879c",
   "metadata": {},
   "outputs": [
    {
     "name": "stdout",
     "output_type": "stream",
     "text": [
      "<function outer.<locals>.inner at 0x000002146F65AF20>\n",
      "40\n"
     ]
    }
   ],
   "source": [
    "doIt = outer(10)\n",
    "print(doIt)\n",
    "print(doIt(30))"
   ]
  },
  {
   "cell_type": "code",
   "execution_count": 89,
   "id": "4b0d15db-82ec-4e15-8eab-55130d216ff5",
   "metadata": {},
   "outputs": [
    {
     "name": "stdout",
     "output_type": "stream",
     "text": [
      "40\n"
     ]
    }
   ],
   "source": [
    "result = outer(10)(30)\n",
    "print(result)"
   ]
  },
  {
   "cell_type": "code",
   "execution_count": 91,
   "id": "03333a9d-c654-4ce2-8217-59c4a1d5c448",
   "metadata": {},
   "outputs": [],
   "source": [
    "def fibonacci2(n):\n",
    "    \"\"\"n값 미만까지 피보나치 수열을 출력합니다.\"\"\"\n",
    "    result = []\n",
    "    a, b = 0, 1\n",
    "    while b<n :\n",
    "        result.append(b)\n",
    "        a, b = b, a+b\n",
    "    return result"
   ]
  },
  {
   "cell_type": "code",
   "execution_count": 92,
   "id": "80962c98-f23a-4aba-8b16-d5deba0fddc4",
   "metadata": {},
   "outputs": [
    {
     "name": "stdout",
     "output_type": "stream",
     "text": [
      "[1, 1, 2, 3, 5, 8, 13, 21, 34, 55, 89]\n"
     ]
    }
   ],
   "source": [
    "f100 = fibonacci2(100)\n",
    "print(f100)"
   ]
  },
  {
   "cell_type": "code",
   "execution_count": 93,
   "id": "cf766bfc-2654-4b04-836b-4935971a5f52",
   "metadata": {},
   "outputs": [
    {
     "name": "stdout",
     "output_type": "stream",
     "text": [
      "[1, 1, 2, 3, 5, 8, 13, 21, 34, 55, 89]\n"
     ]
    }
   ],
   "source": [
    "print(fibonacci2(100))"
   ]
  },
  {
   "cell_type": "code",
   "execution_count": 94,
   "id": "e6507c13-b6e9-464f-92c8-4d586e073353",
   "metadata": {},
   "outputs": [],
   "source": [
    "def func4(a, L) :\n",
    "    L.append(a)\n",
    "    return L"
   ]
  },
  {
   "cell_type": "code",
   "execution_count": 95,
   "id": "cd58a5c7-b1e9-4f3a-b2ed-7aa8409d16cf",
   "metadata": {},
   "outputs": [
    {
     "data": {
      "text/plain": [
       "[10]"
      ]
     },
     "execution_count": 95,
     "metadata": {},
     "output_type": "execute_result"
    }
   ],
   "source": [
    "L = []\n",
    "func4(10, L=L)"
   ]
  },
  {
   "cell_type": "code",
   "execution_count": 96,
   "id": "a435c5b1-23fa-4048-b77b-b60e2213885e",
   "metadata": {},
   "outputs": [
    {
     "data": {
      "text/plain": [
       "[10, 20]"
      ]
     },
     "execution_count": 96,
     "metadata": {},
     "output_type": "execute_result"
    }
   ],
   "source": [
    "func4(20, L=L)"
   ]
  },
  {
   "cell_type": "code",
   "execution_count": 97,
   "id": "a6f30e3f-1d85-4d0f-8b3b-c5fb75d0c576",
   "metadata": {},
   "outputs": [],
   "source": [
    "def func5(a, L=None) :\n",
    "    if L is None:\n",
    "        L = []\n",
    "    L.append(a)\n",
    "    return L"
   ]
  },
  {
   "cell_type": "code",
   "execution_count": 98,
   "id": "08b9beaf-5aa8-4b19-bbbd-4b49425c9cdc",
   "metadata": {},
   "outputs": [
    {
     "data": {
      "text/plain": [
       "[10]"
      ]
     },
     "execution_count": 98,
     "metadata": {},
     "output_type": "execute_result"
    }
   ],
   "source": [
    "func5(10)"
   ]
  },
  {
   "cell_type": "code",
   "execution_count": 99,
   "id": "afa995e6-4f76-4b4c-9995-f5067fb3f7de",
   "metadata": {},
   "outputs": [
    {
     "data": {
      "text/plain": [
       "[20]"
      ]
     },
     "execution_count": 99,
     "metadata": {},
     "output_type": "execute_result"
    }
   ],
   "source": [
    "func5(20)"
   ]
  },
  {
   "cell_type": "code",
   "execution_count": 105,
   "id": "5f4b9267-3e13-47e3-8f7a-2f81c60023ac",
   "metadata": {},
   "outputs": [],
   "source": [
    "def add(a, b=10):\n",
    "    print(f\"a:{a}, b:{b}\")\n",
    "    return a+b"
   ]
  },
  {
   "cell_type": "code",
   "execution_count": 106,
   "id": "a4637d01-a7db-4337-8504-22a4103c5c8e",
   "metadata": {},
   "outputs": [
    {
     "name": "stdout",
     "output_type": "stream",
     "text": [
      "a:10, b:20\n"
     ]
    },
    {
     "data": {
      "text/plain": [
       "30"
      ]
     },
     "execution_count": 106,
     "metadata": {},
     "output_type": "execute_result"
    }
   ],
   "source": [
    "add(10, 20)"
   ]
  },
  {
   "cell_type": "code",
   "execution_count": 107,
   "id": "8cdfe664-d881-4b28-b0b6-51328fad49dc",
   "metadata": {},
   "outputs": [
    {
     "name": "stdout",
     "output_type": "stream",
     "text": [
      "a:10, b:10\n"
     ]
    },
    {
     "data": {
      "text/plain": [
       "20"
      ]
     },
     "execution_count": 107,
     "metadata": {},
     "output_type": "execute_result"
    }
   ],
   "source": [
    "add(10)"
   ]
  },
  {
   "cell_type": "code",
   "execution_count": 108,
   "id": "63be7eec-b47e-464e-94c9-eefa96a6b146",
   "metadata": {},
   "outputs": [
    {
     "name": "stdout",
     "output_type": "stream",
     "text": [
      "a:10, b:20\n"
     ]
    },
    {
     "data": {
      "text/plain": [
       "30"
      ]
     },
     "execution_count": 108,
     "metadata": {},
     "output_type": "execute_result"
    }
   ],
   "source": [
    "add(a=10, b=20)"
   ]
  },
  {
   "cell_type": "code",
   "execution_count": 109,
   "id": "5807bc15-65e0-401c-84f3-3deff4f936dd",
   "metadata": {},
   "outputs": [
    {
     "name": "stdout",
     "output_type": "stream",
     "text": [
      "a:10, b:20\n"
     ]
    },
    {
     "data": {
      "text/plain": [
       "30"
      ]
     },
     "execution_count": 109,
     "metadata": {},
     "output_type": "execute_result"
    }
   ],
   "source": [
    "add(b=20, a=10)"
   ]
  },
  {
   "cell_type": "code",
   "execution_count": null,
   "id": "80e63996-6e93-4a32-a760-64a34082294b",
   "metadata": {},
   "outputs": [],
   "source": []
  }
 ],
 "metadata": {
  "kernelspec": {
   "display_name": "Python 3 (ipykernel)",
   "language": "python",
   "name": "python3"
  },
  "language_info": {
   "codemirror_mode": {
    "name": "ipython",
    "version": 3
   },
   "file_extension": ".py",
   "mimetype": "text/x-python",
   "name": "python",
   "nbconvert_exporter": "python",
   "pygments_lexer": "ipython3",
   "version": "3.11.7"
  }
 },
 "nbformat": 4,
 "nbformat_minor": 5
}
