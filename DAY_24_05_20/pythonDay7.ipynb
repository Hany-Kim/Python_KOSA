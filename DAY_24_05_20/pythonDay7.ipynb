{
 "cells": [
  {
   "cell_type": "code",
   "execution_count": 1,
   "id": "56ffd212-e914-4659-bebe-2bbf3590bb5f",
   "metadata": {},
   "outputs": [],
   "source": [
    "import sqlite3"
   ]
  },
  {
   "cell_type": "code",
   "execution_count": 2,
   "id": "5552652d-bd8e-46d3-b4b9-8a964aa9a75e",
   "metadata": {},
   "outputs": [
    {
     "data": {
      "text/plain": [
       "'3.41.2'"
      ]
     },
     "execution_count": 2,
     "metadata": {},
     "output_type": "execute_result"
    }
   ],
   "source": [
    "sqlite3.sqlite_version"
   ]
  },
  {
   "cell_type": "code",
   "execution_count": 3,
   "id": "73875b9e-7398-4ac1-94f9-ff4f407c70e4",
   "metadata": {},
   "outputs": [],
   "source": [
    "conn = sqlite3.connect('contact.db')"
   ]
  },
  {
   "cell_type": "code",
   "execution_count": 4,
   "id": "738e04bf-3477-4cfe-93f2-969791ab4847",
   "metadata": {},
   "outputs": [
    {
     "name": "stdout",
     "output_type": "stream",
     "text": [
      "<sqlite3.Cursor object at 0x000001E7A02791C0>\n"
     ]
    }
   ],
   "source": [
    "cursor = conn.cursor()\n",
    "print(cursor)"
   ]
  },
  {
   "cell_type": "code",
   "execution_count": 5,
   "id": "7e42b3cb-dd42-402c-814a-71157437427e",
   "metadata": {},
   "outputs": [
    {
     "ename": "OperationalError",
     "evalue": "no such table: contact",
     "output_type": "error",
     "traceback": [
      "\u001b[1;31m---------------------------------------------------------------------------\u001b[0m",
      "\u001b[1;31mOperationalError\u001b[0m                          Traceback (most recent call last)",
      "Cell \u001b[1;32mIn[5], line 1\u001b[0m\n\u001b[1;32m----> 1\u001b[0m cursor\u001b[38;5;241m.\u001b[39mexecute(\u001b[38;5;124m'\u001b[39m\u001b[38;5;124mDROP TABLE contact\u001b[39m\u001b[38;5;124m'\u001b[39m)\n",
      "\u001b[1;31mOperationalError\u001b[0m: no such table: contact"
     ]
    }
   ],
   "source": [
    "cursor.execute('DROP TABLE contact')"
   ]
  },
  {
   "cell_type": "code",
   "execution_count": 6,
   "id": "7dc0d11d-135f-4c2c-8639-560ece9206a2",
   "metadata": {},
   "outputs": [
    {
     "data": {
      "text/plain": [
       "<sqlite3.Cursor at 0x1e7a02791c0>"
      ]
     },
     "execution_count": 6,
     "metadata": {},
     "output_type": "execute_result"
    }
   ],
   "source": [
    "cursor.execute(\"\"\"CREATE TABLE contact(\n",
    "    name text,\n",
    "    age int,\n",
    "    email text)\n",
    "\"\"\")"
   ]
  },
  {
   "cell_type": "code",
   "execution_count": 8,
   "id": "60604f8a-df1b-44b6-adde-d05b0c45d910",
   "metadata": {},
   "outputs": [
    {
     "data": {
      "text/plain": [
       "<sqlite3.Cursor at 0x1e7a02791c0>"
      ]
     },
     "execution_count": 8,
     "metadata": {},
     "output_type": "execute_result"
    }
   ],
   "source": [
    "cursor.execute(\"INSERT INTO contact VALUES('kim', 30, 'kim@naver.com')\")"
   ]
  },
  {
   "cell_type": "code",
   "execution_count": 11,
   "id": "ccaa0d66-3c07-4b83-86a7-2f0ce55efafe",
   "metadata": {},
   "outputs": [
    {
     "data": {
      "text/plain": [
       "<sqlite3.Cursor at 0x1e7a02791c0>"
      ]
     },
     "execution_count": 11,
     "metadata": {},
     "output_type": "execute_result"
    }
   ],
   "source": [
    "cursor.execute(\"INSERT INTO contact VALUES(?,?,?)\", (\"lee\",30,\"lee@daum.net\"))"
   ]
  },
  {
   "cell_type": "code",
   "execution_count": 12,
   "id": "72051693-914a-4584-9135-ced68c6aab40",
   "metadata": {},
   "outputs": [
    {
     "data": {
      "text/plain": [
       "<sqlite3.Cursor at 0x1e7a02791c0>"
      ]
     },
     "execution_count": 12,
     "metadata": {},
     "output_type": "execute_result"
    }
   ],
   "source": [
    "cursor.execute(\"INSERT INTO contact VALUES(:name, :age, :email)\", \n",
    "               {\"name\":\"heo\", \"age\":30, \"email\":\"heojk@daum.net\"})"
   ]
  },
  {
   "cell_type": "markdown",
   "id": "777a218b-944b-47be-be6b-3f080e2b662a",
   "metadata": {},
   "source": [
    "위 문법 모두 같은 cursor객체(0x1e7a02791c0)를 반환한다."
   ]
  },
  {
   "cell_type": "code",
   "execution_count": 13,
   "id": "6ffdaa5a-769c-4717-9d4e-f133e444b1c6",
   "metadata": {},
   "outputs": [],
   "source": [
    "conn.commit()"
   ]
  },
  {
   "cell_type": "code",
   "execution_count": 14,
   "id": "e01e465d-d1b8-400f-8406-75bef03ce2e7",
   "metadata": {},
   "outputs": [],
   "source": [
    "conn.close()"
   ]
  },
  {
   "cell_type": "markdown",
   "id": "890b7ba9-cab6-4181-ac04-21893b7ce6b4",
   "metadata": {},
   "source": [
    "# 데이터 읽기"
   ]
  },
  {
   "cell_type": "code",
   "execution_count": 15,
   "id": "615c3f96-280b-481f-95ee-5de88eaa730d",
   "metadata": {},
   "outputs": [],
   "source": [
    "conn = sqlite3.connect('contact.db')"
   ]
  },
  {
   "cell_type": "code",
   "execution_count": 16,
   "id": "985ee8d1-e09f-4eb8-9c15-cef9e1513388",
   "metadata": {},
   "outputs": [],
   "source": [
    "cursor = conn.cursor()"
   ]
  },
  {
   "cell_type": "code",
   "execution_count": 17,
   "id": "32725806-a516-44c1-9299-41a412e180d4",
   "metadata": {},
   "outputs": [
    {
     "data": {
      "text/plain": [
       "<sqlite3.Cursor at 0x1e79fd10840>"
      ]
     },
     "execution_count": 17,
     "metadata": {},
     "output_type": "execute_result"
    }
   ],
   "source": [
    "cursor.execute('select * from contact')"
   ]
  },
  {
   "cell_type": "code",
   "execution_count": 18,
   "id": "58ac0fcb-6d8c-403e-adc7-8dcb72dd2e0a",
   "metadata": {},
   "outputs": [
    {
     "name": "stdout",
     "output_type": "stream",
     "text": [
      "('kim', 30, 'kim@naver.com')\n",
      "('lee', 30, 'lee@daum.net')\n",
      "('heo', 30, 'heojk@daum.net')\n"
     ]
    }
   ],
   "source": [
    "for row in cursor:\n",
    "    print(row)"
   ]
  },
  {
   "cell_type": "code",
   "execution_count": 20,
   "id": "15c3ec90-333a-4413-a1a3-346eb8af7afa",
   "metadata": {},
   "outputs": [
    {
     "name": "stdout",
     "output_type": "stream",
     "text": [
      "^C\n"
     ]
    }
   ],
   "source": [
    "!conda install cx_Oracle"
   ]
  },
  {
   "cell_type": "code",
   "execution_count": 21,
   "id": "4b51ca60-0468-4fd7-8b22-b2ed7025709f",
   "metadata": {},
   "outputs": [],
   "source": [
    "import cx_Oracle"
   ]
  },
  {
   "cell_type": "code",
   "execution_count": 28,
   "id": "10ad04f8-23c4-4972-a8cd-50c660b46686",
   "metadata": {},
   "outputs": [
    {
     "name": "stdout",
     "output_type": "stream",
     "text": [
      "(DESCRIPTION=(ADDRESS=(PROTOCOL=TCP)(HOST=localhost)(PORT=1521))(CONNECT_DATA=(SID=xe)))\n"
     ]
    }
   ],
   "source": [
    "dsn = cx_Oracle.makedsn('localhost', 1521, sid='xe')\n",
    "print(dsn)"
   ]
  },
  {
   "cell_type": "code",
   "execution_count": 25,
   "id": "31af28b9-663b-4f3c-a4f0-3366211209d2",
   "metadata": {},
   "outputs": [
    {
     "ename": "DatabaseError",
     "evalue": "DPI-1047: Cannot locate a 64-bit Oracle Client library: \"The specified module could not be found\". See https://cx-oracle.readthedocs.io/en/latest/user_guide/installation.html for help",
     "output_type": "error",
     "traceback": [
      "\u001b[1;31m---------------------------------------------------------------------------\u001b[0m",
      "\u001b[1;31mDatabaseError\u001b[0m                             Traceback (most recent call last)",
      "Cell \u001b[1;32mIn[25], line 1\u001b[0m\n\u001b[1;32m----> 1\u001b[0m conn \u001b[38;5;241m=\u001b[39m cx_Oracle\u001b[38;5;241m.\u001b[39mconnect(user\u001b[38;5;241m=\u001b[39m\u001b[38;5;124m'\u001b[39m\u001b[38;5;124mhr\u001b[39m\u001b[38;5;124m'\u001b[39m, password\u001b[38;5;241m=\u001b[39m\u001b[38;5;124m'\u001b[39m\u001b[38;5;124mhr\u001b[39m\u001b[38;5;124m'\u001b[39m, dsn\u001b[38;5;241m=\u001b[39mdsn)\n\u001b[0;32m      2\u001b[0m \u001b[38;5;28mprint\u001b[39m(conn)\n",
      "\u001b[1;31mDatabaseError\u001b[0m: DPI-1047: Cannot locate a 64-bit Oracle Client library: \"The specified module could not be found\". See https://cx-oracle.readthedocs.io/en/latest/user_guide/installation.html for help"
     ]
    }
   ],
   "source": [
    "conn = cx_Oracle.connect(user='hr', password='hr', dsn=dsn)\n",
    "print(conn)"
   ]
  },
  {
   "cell_type": "code",
   "execution_count": 29,
   "id": "1e85fba8-3c9e-4ff1-a82f-7ec3d3f266a7",
   "metadata": {},
   "outputs": [],
   "source": [
    "import oracledb as db"
   ]
  },
  {
   "cell_type": "code",
   "execution_count": 30,
   "id": "1dad8841-ce6c-4544-8130-e5e2d1e27199",
   "metadata": {},
   "outputs": [
    {
     "name": "stdout",
     "output_type": "stream",
     "text": [
      "<oracledb.Connection to hr@localhost:1521/xe>\n"
     ]
    }
   ],
   "source": [
    "# conn = db.connect(dsn='localhost:1521/xe', user='hr', password='hr')\n",
    "conn = db.connect(dsn=f\"hr/hr@localhost:1521/xe\")\n",
    "print(conn)"
   ]
  },
  {
   "cell_type": "code",
   "execution_count": 32,
   "id": "f1cb545f-cfc4-4ae6-9714-29c1164f3834",
   "metadata": {},
   "outputs": [
    {
     "name": "stdout",
     "output_type": "stream",
     "text": [
      "<oracledb.Cursor on <oracledb.Connection to hr@localhost:1521/xe>>\n"
     ]
    }
   ],
   "source": [
    "cursor = conn.cursor()\n",
    "print(cursor)"
   ]
  },
  {
   "cell_type": "code",
   "execution_count": 33,
   "id": "59340d7b-ae41-4689-8fc5-1aa9341bfc36",
   "metadata": {},
   "outputs": [
    {
     "data": {
      "text/plain": [
       "<oracledb.Cursor on <oracledb.Connection to hr@localhost:1521/xe>>"
      ]
     },
     "execution_count": 33,
     "metadata": {},
     "output_type": "execute_result"
    }
   ],
   "source": [
    "cursor.execute('select * from employees')"
   ]
  },
  {
   "cell_type": "code",
   "execution_count": 34,
   "id": "a0fbe82e-1f9d-44f1-9306-63c6accf323f",
   "metadata": {},
   "outputs": [
    {
     "name": "stdout",
     "output_type": "stream",
     "text": [
      "(100, 'Steven', 'King', 'SKING', '1.515.555.0100', datetime.datetime(2013, 6, 17, 0, 0), 'AD_PRES', 24000.0, None, None, 90)\n"
     ]
    }
   ],
   "source": [
    "print(cursor.fetchone())"
   ]
  },
  {
   "cell_type": "code",
   "execution_count": 35,
   "id": "a163158d-d6b2-4a38-a1ac-96b0d6af8068",
   "metadata": {},
   "outputs": [
    {
     "data": {
      "text/plain": [
       "[('EMPLOYEE_ID', <DbType DB_TYPE_NUMBER>, 7, None, 6, 0, False),\n",
       " ('FIRST_NAME', <DbType DB_TYPE_VARCHAR>, 20, 20, None, None, True),\n",
       " ('LAST_NAME', <DbType DB_TYPE_VARCHAR>, 25, 25, None, None, False),\n",
       " ('EMAIL', <DbType DB_TYPE_VARCHAR>, 25, 25, None, None, False),\n",
       " ('PHONE_NUMBER', <DbType DB_TYPE_VARCHAR>, 20, 20, None, None, True),\n",
       " ('HIRE_DATE', <DbType DB_TYPE_DATE>, 23, None, None, None, False),\n",
       " ('JOB_ID', <DbType DB_TYPE_VARCHAR>, 10, 10, None, None, False),\n",
       " ('SALARY', <DbType DB_TYPE_NUMBER>, 12, None, 8, 2, True),\n",
       " ('COMMISSION_PCT', <DbType DB_TYPE_NUMBER>, 6, None, 2, 2, True),\n",
       " ('MANAGER_ID', <DbType DB_TYPE_NUMBER>, 7, None, 6, 0, True),\n",
       " ('DEPARTMENT_ID', <DbType DB_TYPE_NUMBER>, 5, None, 4, 0, True)]"
      ]
     },
     "execution_count": 35,
     "metadata": {},
     "output_type": "execute_result"
    }
   ],
   "source": [
    "cursor.description"
   ]
  },
  {
   "cell_type": "markdown",
   "id": "36a03428-0f6e-4d1b-a670-8216103979d0",
   "metadata": {},
   "source": [
    "# 회원관리 시스템 예제"
   ]
  },
  {
   "cell_type": "code",
   "execution_count": 55,
   "id": "db904262-f086-4a8c-adad-136cf38ad0b7",
   "metadata": {},
   "outputs": [],
   "source": [
    "cursor.execute('drop table member')"
   ]
  },
  {
   "cell_type": "code",
   "execution_count": 56,
   "id": "08753bbd-a568-4552-bf26-085c96950b36",
   "metadata": {},
   "outputs": [],
   "source": [
    "cursor.execute('CREATE TABLE member (\\\n",
    "name VARCHAR2(20), \\\n",
    "phone VARCHAR2(20), \\\n",
    "email VARCHAR2(50), \\\n",
    "age NUMBER(3), \\\n",
    "grade NUMBER(2), \\\n",
    "etc VARCHAR2(100))')"
   ]
  },
  {
   "cell_type": "code",
   "execution_count": 57,
   "id": "a991d6a7-5ae8-4426-a912-63e261c021b4",
   "metadata": {},
   "outputs": [],
   "source": [
    "class Member:\n",
    "    def __init__(self, name, phone, email, age, grade, etc):\n",
    "        self.name = name\n",
    "        self.phone = phone\n",
    "        self.email = email\n",
    "        self.age = age\n",
    "        self.grade = grade\n",
    "        self.etc = etc\n",
    "\n",
    "    def __str__(self):\n",
    "        return (f\"name: {self.name}, phone: {self.name},\"\n",
    "                f\"email: {self.email}, age: {self.age},\"\n",
    "                f\"grade: {self.grade}, etc: {self.etc}\")\n",
    "\n",
    "    def to_dict(self):\n",
    "        return {\"name\":self.name, \"phone\":self.phone, \"email\":self.email,\n",
    "                \"age\":self.age, \"grade\":self.grade, \"etc\":self.etc}"
   ]
  },
  {
   "cell_type": "code",
   "execution_count": 58,
   "id": "1b662e48-9936-4e26-bfc8-dc7a807ebd60",
   "metadata": {},
   "outputs": [],
   "source": [
    "def insert_member_info():\n",
    "    cursor = conn.cursor()\n",
    "    name = input(\"이름: \")\n",
    "    phone = input(\"전화번호: \")\n",
    "    email = input(\"이메일: \")\n",
    "    age = int(input(\"나이: \"))\n",
    "    grade = int(input(\"고객등급(1~5): \"))\n",
    "    etc = input(\"기타정보: \")\n",
    "    member = Member(name, phone, email, age, grade, etc)\n",
    "    sql = \"\"\"insert into member\n",
    "            values (:name, :phone, :email, :age, :grade, :etc)\"\"\"\n",
    "    cursor.execute(sql, member.to_dict())"
   ]
  },
  {
   "cell_type": "code",
   "execution_count": 59,
   "id": "f0d804b0-5b58-4c31-b89c-955495c9e2a9",
   "metadata": {},
   "outputs": [],
   "source": [
    "def get_all_members():\n",
    "    cursor=conn.cursor()\n",
    "    cursor.execute('select * from member')\n",
    "    for data in cursor:\n",
    "        print(Member(*data)) # *언패킹"
   ]
  },
  {
   "cell_type": "code",
   "execution_count": 60,
   "id": "73dfa419-08c5-4de9-a0fd-2813a25d15d9",
   "metadata": {},
   "outputs": [],
   "source": [
    "def search_member(name):\n",
    "    cursor = conn.cursor()\n",
    "    sql = 'select * from member where name=:name'\n",
    "    cursor.execute(sql, (name,))\n",
    "    for data in cursor:\n",
    "        print(Member(*data))"
   ]
  },
  {
   "cell_type": "code",
   "execution_count": 61,
   "id": "b5a43d44-526b-45f7-ac4a-75c440a1e35f",
   "metadata": {},
   "outputs": [],
   "source": [
    "def delete_member(email):\n",
    "    cursor = conn.cursor()\n",
    "    sql = 'delete from member where email=:email'\n",
    "    cursor.execute(sql, (email,))"
   ]
  },
  {
   "cell_type": "code",
   "execution_count": 62,
   "id": "5bc2a780-6adb-4598-8b46-99e0f3bfe0a3",
   "metadata": {},
   "outputs": [],
   "source": [
    "def export_member():\n",
    "    file_name = input('파일명을 입력하세요.')\n",
    "    cursor = conn.cursor()\n",
    "    cursor.execute('select * from member')\n",
    "    members = cursor.fetchall()\n",
    "    colnames = [row[0] for row in cursor.description ]\n",
    "    import csv\n",
    "    with open(file_name, 'w', newline='', encoding='UTF-8-SIG') as file:\n",
    "        w = csv.writer(file, quoting=csv.QUOTE_NONNUMERIC)\n",
    "        w.writerow(colnames)\n",
    "        w.writerows(members)"
   ]
  },
  {
   "cell_type": "code",
   "execution_count": 63,
   "id": "c5d1e4e5-81df-4340-84d3-05d71933be55",
   "metadata": {},
   "outputs": [],
   "source": [
    "def update_member():\n",
    "    cursor = conn.cursor()\n",
    "    email = input('수정할 사원의 이메일을 입력하세요. ')\n",
    "    sql1 = 'select * from member where email=:email'\n",
    "    cursor.execute(sql1, (email,))\n",
    "    data = cursor.fetchone()\n",
    "    m = Member(*data)\n",
    "    name = input(f\"이름({m.name}) : \")\n",
    "    phone = input(f\"전화번호({m.phone}) : \")\n",
    "    age = input(f\"나이({m.age}) : \")\n",
    "    grade = input(f\"등급({m.grade}) : \")\n",
    "    etc = input(f\"기타정보({m.etc}) : \")\n",
    "    sql = \"\"\"update member set name=:name, phone=:phone, age=:age, grade=:grade, etc=:etc where email=:email\"\"\"\n",
    "    cursor.execute(sql, (name, phone, age, grade, etc, email))"
   ]
  },
  {
   "cell_type": "code",
   "execution_count": 64,
   "id": "e54acced-e836-47c7-ba34-a6f2a76dad61",
   "metadata": {},
   "outputs": [],
   "source": [
    "def print_menu():\n",
    "    print(\"1.입력\", \"2.전체조회\", \"3.찾기\", \"4.삭제\", \"5.내보내기(CSV)\", \"6.수정\", \"0.종료\", sep=\" | \", end=\"\")\n",
    "    menu = input(\"메뉴선택: \")\n",
    "    return int(menu)"
   ]
  },
  {
   "cell_type": "code",
   "execution_count": 65,
   "id": "f2e78525-ac8c-4c9c-bf3a-cf734f49db99",
   "metadata": {},
   "outputs": [],
   "source": [
    "def main():\n",
    "    while True:\n",
    "        menu = print_menu()\n",
    "        if menu==1:\n",
    "            insert_member_info()\n",
    "            conn.commit()\n",
    "        elif menu==2:\n",
    "            get_all_members()\n",
    "        elif menu==3:\n",
    "            name = input('찾고 싶은 회원의 이름을 입력하세요.')\n",
    "            search_member(name)\n",
    "        elif menu==4:\n",
    "            email = input('삭제할 회원의 이메일을 입력하세요.')\n",
    "            delete_member(email)\n",
    "            conn.commit()\n",
    "        elif menu==5:\n",
    "            export_member()\n",
    "        elif menu==6:\n",
    "            update_member()\n",
    "            conn.commit()\n",
    "        elif menu==0:\n",
    "            conn.close()\n",
    "            break"
   ]
  },
  {
   "cell_type": "code",
   "execution_count": 66,
   "id": "09e9d4a1-e4c8-4f88-98fd-87790e14c0a8",
   "metadata": {},
   "outputs": [
    {
     "name": "stdout",
     "output_type": "stream",
     "text": [
      "1.입력 | 2.전체조회 | 3.찾기 | 4.삭제 | 5.내보내기(CSV) | 6.수정 | 0.종료"
     ]
    },
    {
     "name": "stdin",
     "output_type": "stream",
     "text": [
      "메뉴선택:  1\n",
      "이름:  홍길동\n",
      "전화번호:  010-222-3333\n",
      "이메일:  hong@hong.com\n",
      "나이:  25\n",
      "고객등급(1~5):  4\n",
      "기타정보:  nothing\n"
     ]
    },
    {
     "name": "stdout",
     "output_type": "stream",
     "text": [
      "1.입력 | 2.전체조회 | 3.찾기 | 4.삭제 | 5.내보내기(CSV) | 6.수정 | 0.종료"
     ]
    },
    {
     "name": "stdin",
     "output_type": "stream",
     "text": [
      "메뉴선택:  1\n",
      "이름:  홍길서\n",
      "전화번호:  010-444-5555\n",
      "이메일:  kilseo@hong.com\n",
      "나이:  23\n",
      "고객등급(1~5):  3\n",
      "기타정보:  nothing\n"
     ]
    },
    {
     "name": "stdout",
     "output_type": "stream",
     "text": [
      "1.입력 | 2.전체조회 | 3.찾기 | 4.삭제 | 5.내보내기(CSV) | 6.수정 | 0.종료"
     ]
    },
    {
     "name": "stdin",
     "output_type": "stream",
     "text": [
      "메뉴선택:  3\n",
      "찾고 싶은 회원의 이름을 입력하세요. 홍길동\n"
     ]
    },
    {
     "name": "stdout",
     "output_type": "stream",
     "text": [
      "name: 홍길동, phone: 홍길동,email: hong@hong.com, age: 25,grade: 4, etc: nothing\n",
      "1.입력 | 2.전체조회 | 3.찾기 | 4.삭제 | 5.내보내기(CSV) | 6.수정 | 0.종료"
     ]
    },
    {
     "name": "stdin",
     "output_type": "stream",
     "text": [
      "메뉴선택:  2\n"
     ]
    },
    {
     "name": "stdout",
     "output_type": "stream",
     "text": [
      "name: 홍길동, phone: 홍길동,email: hong@hong.com, age: 25,grade: 4, etc: nothing\n",
      "name: 홍길서, phone: 홍길서,email: kilseo@hong.com, age: 23,grade: 3, etc: nothing\n",
      "1.입력 | 2.전체조회 | 3.찾기 | 4.삭제 | 5.내보내기(CSV) | 6.수정 | 0.종료"
     ]
    },
    {
     "name": "stdin",
     "output_type": "stream",
     "text": [
      "메뉴선택:  6\n",
      "수정할 사원의 이메일을 입력하세요.  hong@hong.com\n",
      "이름(홍길동) :  홍길길동\n",
      "전화번호(010-222-3333) :  010-222-4444\n",
      "나이(25) :  26\n",
      "등급(4) :  4\n",
      "기타정보(nothing) :  nothing\n"
     ]
    },
    {
     "name": "stdout",
     "output_type": "stream",
     "text": [
      "1.입력 | 2.전체조회 | 3.찾기 | 4.삭제 | 5.내보내기(CSV) | 6.수정 | 0.종료"
     ]
    },
    {
     "name": "stdin",
     "output_type": "stream",
     "text": [
      "메뉴선택:  2\n"
     ]
    },
    {
     "name": "stdout",
     "output_type": "stream",
     "text": [
      "name: 홍길길동, phone: 홍길길동,email: hong@hong.com, age: 26,grade: 4, etc: nothing\n",
      "name: 홍길서, phone: 홍길서,email: kilseo@hong.com, age: 23,grade: 3, etc: nothing\n",
      "1.입력 | 2.전체조회 | 3.찾기 | 4.삭제 | 5.내보내기(CSV) | 6.수정 | 0.종료"
     ]
    },
    {
     "name": "stdin",
     "output_type": "stream",
     "text": [
      "메뉴선택:  5\n",
      "파일명을 입력하세요. memberms2.csv\n"
     ]
    },
    {
     "name": "stdout",
     "output_type": "stream",
     "text": [
      "1.입력 | 2.전체조회 | 3.찾기 | 4.삭제 | 5.내보내기(CSV) | 6.수정 | 0.종료"
     ]
    },
    {
     "name": "stdin",
     "output_type": "stream",
     "text": [
      "메뉴선택:  0\n"
     ]
    }
   ],
   "source": [
    "if __name__ == '__main__':\n",
    "    import oracledb as db\n",
    "    global conn\n",
    "    # oracle_dsn = db.makedsn(host='localhost', port=1521, sid='xe')\n",
    "    # conn = db.connect(dsn=oracle_dsn)\n",
    "    conn = db.connect(dsn=f\"hr/hr@localhost:1521/xe\")\n",
    "    main()"
   ]
  },
  {
   "cell_type": "code",
   "execution_count": null,
   "id": "66a8820c-1d32-4bbb-823c-864d9b65c534",
   "metadata": {},
   "outputs": [],
   "source": []
  }
 ],
 "metadata": {
  "kernelspec": {
   "display_name": "Python 3 (ipykernel)",
   "language": "python",
   "name": "python3"
  },
  "language_info": {
   "codemirror_mode": {
    "name": "ipython",
    "version": 3
   },
   "file_extension": ".py",
   "mimetype": "text/x-python",
   "name": "python",
   "nbconvert_exporter": "python",
   "pygments_lexer": "ipython3",
   "version": "3.11.7"
  }
 },
 "nbformat": 4,
 "nbformat_minor": 5
}
