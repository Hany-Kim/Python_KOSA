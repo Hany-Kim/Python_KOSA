{
 "cells": [
  {
   "cell_type": "code",
   "execution_count": 1,
   "id": "8e907582-0fea-4537-891a-e5c444e1500f",
   "metadata": {},
   "outputs": [
    {
     "name": "stdin",
     "output_type": "stream",
     "text": [
      "점수를 입력하세요 ㅁ\n"
     ]
    },
    {
     "name": "stdout",
     "output_type": "stream",
     "text": [
      "예외 발생함\n"
     ]
    },
    {
     "name": "stdin",
     "output_type": "stream",
     "text": [
      "점수를 입력하세요 0\n"
     ]
    },
    {
     "name": "stdout",
     "output_type": "stream",
     "text": [
      "입력한 정수는 0입니다.\n",
      "예외 발생함\n"
     ]
    },
    {
     "name": "stdin",
     "output_type": "stream",
     "text": [
      "점수를 입력하세요 10\n"
     ]
    },
    {
     "name": "stdout",
     "output_type": "stream",
     "text": [
      "입력한 정수는 10입니다.\n",
      "100을 입력한 수로 나누면 10.0입니다.\n"
     ]
    }
   ],
   "source": [
    "while True:\n",
    "    try:\n",
    "        x = int(input('점수를 입력하세요'))\n",
    "        print(f'입력한 정수는 {x}입니다.')\n",
    "        print(f'100을 입력한 수로 나누면 {100/x}입니다.')\n",
    "        break\n",
    "    except:\n",
    "        print('예외 발생함')"
   ]
  },
  {
   "cell_type": "code",
   "execution_count": 3,
   "id": "bbbe0e77-95de-4379-96b7-3ca66f804757",
   "metadata": {},
   "outputs": [
    {
     "name": "stdin",
     "output_type": "stream",
     "text": [
      "점수를 입력하세요 a\n"
     ]
    },
    {
     "name": "stdout",
     "output_type": "stream",
     "text": [
      "예외 발생함\n",
      "<class 'ValueError'>\n",
      "invalid literal for int() with base 10: 'a'\n"
     ]
    },
    {
     "name": "stdin",
     "output_type": "stream",
     "text": [
      "점수를 입력하세요 0\n"
     ]
    },
    {
     "name": "stdout",
     "output_type": "stream",
     "text": [
      "입력한 정수는 0입니다.\n",
      "예외 발생함\n",
      "<class 'ZeroDivisionError'>\n",
      "division by zero\n"
     ]
    },
    {
     "name": "stdin",
     "output_type": "stream",
     "text": [
      "점수를 입력하세요 10\n"
     ]
    },
    {
     "name": "stdout",
     "output_type": "stream",
     "text": [
      "입력한 정수는 10입니다.\n",
      "100을 입력한 수로 나누면 10.0입니다.\n"
     ]
    }
   ],
   "source": [
    "while True:\n",
    "    try:\n",
    "        x = int(input('점수를 입력하세요'))\n",
    "        print(f'입력한 정수는 {x}입니다.')\n",
    "        print(f'100을 입력한 수로 나누면 {100/x}입니다.')\n",
    "        break\n",
    "    except (ValueError, ZeroDivisionError) as e:\n",
    "        print('예외 발생함')\n",
    "        print(type(e))\n",
    "        print(e)"
   ]
  },
  {
   "cell_type": "code",
   "execution_count": 4,
   "id": "410157c5-2116-4841-9d48-82f3b1297cff",
   "metadata": {},
   "outputs": [],
   "source": [
    "def insert(data):\n",
    "    if len(data)==0:\n",
    "        raise Exception('데이터의 길이는 0이 될 수 없습니다.')\n",
    "    print(f'{data}를 입력합니다.')"
   ]
  },
  {
   "cell_type": "code",
   "execution_count": 7,
   "id": "ee1a0a44-6200-402c-a794-34e2aad4d642",
   "metadata": {},
   "outputs": [
    {
     "name": "stdout",
     "output_type": "stream",
     "text": [
      "데이터의 길이는 0이 될 수 없습니다.\n"
     ]
    }
   ],
   "source": [
    "#data = list(range(1,6))\n",
    "data = []\n",
    "try:\n",
    "    insert(data)\n",
    "except Exception as e:\n",
    "    print(e)\n",
    "else:\n",
    "    print('정상 실행')"
   ]
  },
  {
   "cell_type": "code",
   "execution_count": 8,
   "id": "44228abe-d58e-43ff-8510-bdf114e0a644",
   "metadata": {},
   "outputs": [
    {
     "name": "stdout",
     "output_type": "stream",
     "text": [
      "[1, 2, 3, 4, 5]를 입력합니다.\n",
      "정상 실행\n"
     ]
    }
   ],
   "source": [
    "data = list(range(1,6))\n",
    "#data = []\n",
    "try:\n",
    "    insert(data)\n",
    "except Exception as e:\n",
    "    print(e)\n",
    "else:\n",
    "    print('정상 실행')"
   ]
  },
  {
   "cell_type": "code",
   "execution_count": 10,
   "id": "1d14eade-59bd-408b-b1b9-f9b7e07395e0",
   "metadata": {},
   "outputs": [
    {
     "name": "stdin",
     "output_type": "stream",
     "text": [
      "정수를 입력하세요:  ㅁ\n"
     ]
    },
    {
     "name": "stdout",
     "output_type": "stream",
     "text": [
      "유효한 정수가 아닙니다. 다시 시도하세요.\n"
     ]
    },
    {
     "name": "stdin",
     "output_type": "stream",
     "text": [
      "정수를 입력하세요:  0\n"
     ]
    },
    {
     "name": "stdout",
     "output_type": "stream",
     "text": [
      "입력한 정수는 0입니다.\n",
      "0으로 나눌 수 없습니다.\n"
     ]
    },
    {
     "name": "stdin",
     "output_type": "stream",
     "text": [
      "정수를 입력하세요:  20\n"
     ]
    },
    {
     "name": "stdout",
     "output_type": "stream",
     "text": [
      "입력한 정수는 20입니다.\n",
      "100을 입력한 수로 나누면 5.0입니다.\n"
     ]
    }
   ],
   "source": [
    "while True:\n",
    "    try:\n",
    "        x = int(input('정수를 입력하세요: '))\n",
    "        print('입력한 정수는 {}입니다.'.format(x))\n",
    "        print('100을 입력한 수로 나누면 {}입니다.'.format(100/x))\n",
    "        break\n",
    "    except ValueError:\n",
    "        print('유효한 정수가 아닙니다. 다시 시도하세요.')\n",
    "    except ZeroDivisionError:\n",
    "        print('0으로 나눌 수 없습니다.')"
   ]
  },
  {
   "cell_type": "code",
   "execution_count": 11,
   "id": "68f496e2-231c-48a0-8a68-97b7b0c0506c",
   "metadata": {},
   "outputs": [
    {
     "name": "stdin",
     "output_type": "stream",
     "text": [
      "정수를 입력하세요:  ㅁ\n"
     ]
    },
    {
     "name": "stdout",
     "output_type": "stream",
     "text": [
      "알 수 없는 오류입니다.\n"
     ]
    },
    {
     "name": "stdin",
     "output_type": "stream",
     "text": [
      "정수를 입력하세요:  0\n"
     ]
    },
    {
     "name": "stdout",
     "output_type": "stream",
     "text": [
      "입력한 정수는 0입니다.\n",
      "알 수 없는 오류입니다.\n"
     ]
    },
    {
     "name": "stdin",
     "output_type": "stream",
     "text": [
      "정수를 입력하세요:  20\n"
     ]
    },
    {
     "name": "stdout",
     "output_type": "stream",
     "text": [
      "입력한 정수는 20입니다.\n",
      "100을 입력한 수로 나누면 5.0입니다.\n"
     ]
    }
   ],
   "source": [
    "while True:\n",
    "    try:\n",
    "        x = int(input('정수를 입력하세요: '))\n",
    "        print('입력한 정수는 {}입니다.'.format(x))\n",
    "        print('100을 입력한 수로 나누면 {}입니다.'.format(100/x))\n",
    "        break\n",
    "    except Exception:    \n",
    "        print('알 수 없는 오류입니다.')\n",
    "    except ValueError:\n",
    "        print('유효한 정수가 아닙니다. 다시 시도하세요.')\n",
    "    except ZeroDivisionError:\n",
    "        print('0으로 나눌 수 없습니다.')"
   ]
  },
  {
   "cell_type": "code",
   "execution_count": 12,
   "id": "76c91467-8312-48a1-8c89-ba7180c66550",
   "metadata": {},
   "outputs": [
    {
     "name": "stdin",
     "output_type": "stream",
     "text": [
      "정수를 입력하세요:  ㅁ\n"
     ]
    },
    {
     "name": "stdout",
     "output_type": "stream",
     "text": [
      "유효한 정수가 아닙니다. 다시 시도하세요.\n"
     ]
    },
    {
     "name": "stdin",
     "output_type": "stream",
     "text": [
      "정수를 입력하세요:  0\n"
     ]
    },
    {
     "name": "stdout",
     "output_type": "stream",
     "text": [
      "입력한 정수는 0입니다.\n",
      "0으로 나눌 수 없습니다.\n"
     ]
    },
    {
     "name": "stdin",
     "output_type": "stream",
     "text": [
      "정수를 입력하세요:  20\n"
     ]
    },
    {
     "name": "stdout",
     "output_type": "stream",
     "text": [
      "입력한 정수는 20입니다.\n",
      "100을 입력한 수로 나누면 5.0입니다.\n"
     ]
    }
   ],
   "source": [
    "while True:\n",
    "    try:\n",
    "        x = int(input('정수를 입력하세요: '))\n",
    "        print('입력한 정수는 {}입니다.'.format(x))\n",
    "        print('100을 입력한 수로 나누면 {}입니다.'.format(100/x))\n",
    "        break\n",
    "    except ValueError:\n",
    "        print('유효한 정수가 아닙니다. 다시 시도하세요.')\n",
    "    except ZeroDivisionError:\n",
    "        print('0으로 나눌 수 없습니다.')\n",
    "    except Exception:    \n",
    "        print('알 수 없는 오류입니다.')"
   ]
  },
  {
   "cell_type": "code",
   "execution_count": 16,
   "id": "cd8ad785-0915-44b2-9507-f4052bee39c6",
   "metadata": {},
   "outputs": [],
   "source": [
    "def insert(data):\n",
    "    if len(data)==0:\n",
    "        raise Exception('데이터의 길이는 0이 될 수 없습니다.', '2에러')\n",
    "    print(f'{data}를 입력합니다.')"
   ]
  },
  {
   "cell_type": "code",
   "execution_count": 20,
   "id": "b80c6955-8ac6-433f-9207-3565b050fd7a",
   "metadata": {},
   "outputs": [
    {
     "name": "stdout",
     "output_type": "stream",
     "text": [
      "<class 'Exception'>\n",
      "('데이터의 길이는 0이 될 수 없습니다.', '2에러')\n",
      "데이터의 길이는 0이 될 수 없습니다.\n",
      "2에러\n"
     ]
    }
   ],
   "source": [
    "#data = list(range(1,6))\n",
    "data = []\n",
    "try:\n",
    "    insert(data)\n",
    "except Exception as e:\n",
    "    print(type(e))\n",
    "    print(e)\n",
    "    print(e.args[0])\n",
    "    print(e.args[1])\n",
    "else:\n",
    "    print('정상 실행')"
   ]
  },
  {
   "cell_type": "code",
   "execution_count": 22,
   "id": "72d78f2c-7543-47f0-90d7-5c88455bbc3a",
   "metadata": {},
   "outputs": [],
   "source": [
    "class Shape:\n",
    "    def __init__(self):\n",
    "        raise NotImplementedError"
   ]
  },
  {
   "cell_type": "code",
   "execution_count": 23,
   "id": "7c19c7a9-74fb-42d2-83f8-91e52956ac9d",
   "metadata": {},
   "outputs": [
    {
     "ename": "NotImplementedError",
     "evalue": "",
     "output_type": "error",
     "traceback": [
      "\u001b[1;31m---------------------------------------------------------------------------\u001b[0m",
      "\u001b[1;31mNotImplementedError\u001b[0m                       Traceback (most recent call last)",
      "Cell \u001b[1;32mIn[23], line 1\u001b[0m\n\u001b[1;32m----> 1\u001b[0m myShape \u001b[38;5;241m=\u001b[39m Shape()\n",
      "Cell \u001b[1;32mIn[22], line 3\u001b[0m, in \u001b[0;36mShape.__init__\u001b[1;34m(self)\u001b[0m\n\u001b[0;32m      2\u001b[0m \u001b[38;5;28;01mdef\u001b[39;00m \u001b[38;5;21m__init__\u001b[39m(\u001b[38;5;28mself\u001b[39m):\n\u001b[1;32m----> 3\u001b[0m     \u001b[38;5;28;01mraise\u001b[39;00m \u001b[38;5;167;01mNotImplementedError\u001b[39;00m\n",
      "\u001b[1;31mNotImplementedError\u001b[0m: "
     ]
    }
   ],
   "source": [
    "myShape = Shape()"
   ]
  },
  {
   "cell_type": "code",
   "execution_count": 24,
   "id": "66a13bbe-6cee-40f7-97bb-0e55273ffac9",
   "metadata": {},
   "outputs": [],
   "source": [
    "class Circle(Shape):\n",
    "    def __init__(self):\n",
    "        pass"
   ]
  },
  {
   "cell_type": "code",
   "execution_count": 25,
   "id": "de4636bc-9a97-448f-9730-b9706c7bc160",
   "metadata": {},
   "outputs": [
    {
     "name": "stdout",
     "output_type": "stream",
     "text": [
      "<__main__.Circle object at 0x000001EF30D60790>\n"
     ]
    }
   ],
   "source": [
    "my_circle = Circle()\n",
    "print(my_circle)"
   ]
  },
  {
   "cell_type": "code",
   "execution_count": 27,
   "id": "f7dd5950-615f-4b67-acec-5184c1f31830",
   "metadata": {},
   "outputs": [
    {
     "name": "stdout",
     "output_type": "stream",
     "text": [
      "True\n"
     ]
    }
   ],
   "source": [
    "print(isinstance(my_circle, Shape))"
   ]
  },
  {
   "cell_type": "code",
   "execution_count": 28,
   "id": "10f9cfb2-1c56-4975-ba12-b63b88379aea",
   "metadata": {},
   "outputs": [],
   "source": [
    "class Shape:\n",
    "    def __init__(self):\n",
    "        raise NotImplementedError\n",
    "\n",
    "    def calc_area(self):\n",
    "        raise NotImplementedError"
   ]
  },
  {
   "cell_type": "code",
   "execution_count": 29,
   "id": "6ad52127-b540-47a4-8f7e-89f85014fc46",
   "metadata": {},
   "outputs": [],
   "source": [
    "class Circle(Shape):\n",
    "    def __init__(self, radius):\n",
    "        self.radius = radius"
   ]
  },
  {
   "cell_type": "code",
   "execution_count": 30,
   "id": "71e4d365-e47d-481f-a114-583e81e5f53a",
   "metadata": {},
   "outputs": [
    {
     "ename": "NotImplementedError",
     "evalue": "",
     "output_type": "error",
     "traceback": [
      "\u001b[1;31m---------------------------------------------------------------------------\u001b[0m",
      "\u001b[1;31mNotImplementedError\u001b[0m                       Traceback (most recent call last)",
      "Cell \u001b[1;32mIn[30], line 2\u001b[0m\n\u001b[0;32m      1\u001b[0m my_circle \u001b[38;5;241m=\u001b[39m Circle(\u001b[38;5;241m4.5\u001b[39m)\n\u001b[1;32m----> 2\u001b[0m my_circle\u001b[38;5;241m.\u001b[39mcalc_area()\n",
      "Cell \u001b[1;32mIn[28], line 6\u001b[0m, in \u001b[0;36mShape.calc_area\u001b[1;34m(self)\u001b[0m\n\u001b[0;32m      5\u001b[0m \u001b[38;5;28;01mdef\u001b[39;00m \u001b[38;5;21mcalc_area\u001b[39m(\u001b[38;5;28mself\u001b[39m):\n\u001b[1;32m----> 6\u001b[0m     \u001b[38;5;28;01mraise\u001b[39;00m \u001b[38;5;167;01mNotImplementedError\u001b[39;00m\n",
      "\u001b[1;31mNotImplementedError\u001b[0m: "
     ]
    }
   ],
   "source": [
    "my_circle = Circle(4.5)\n",
    "my_circle.calc_area()"
   ]
  },
  {
   "cell_type": "code",
   "execution_count": 31,
   "id": "92376bb3-b588-47f6-8642-9b01b60a9330",
   "metadata": {},
   "outputs": [],
   "source": [
    "class Circle(Shape):\n",
    "    def __init__(self, radius):\n",
    "        self.radius = radius\n",
    "\n",
    "    def calc_area(self):\n",
    "        return self.radius * self.radius * 3.14"
   ]
  },
  {
   "cell_type": "code",
   "execution_count": 32,
   "id": "aa0923df-c9b9-4dab-b8b2-2008bd1e82fe",
   "metadata": {},
   "outputs": [
    {
     "data": {
      "text/plain": [
       "63.585"
      ]
     },
     "execution_count": 32,
     "metadata": {},
     "output_type": "execute_result"
    }
   ],
   "source": [
    "my_circle = Circle(4.5)\n",
    "my_circle.calc_area()"
   ]
  },
  {
   "cell_type": "code",
   "execution_count": 33,
   "id": "d69888a2-83af-4abc-931b-d9985290ef7b",
   "metadata": {},
   "outputs": [],
   "source": [
    "class Error(Exception):\n",
    "    \"\"\"이 모듈에서 사용하는 기본 예외입니다.\"\"\"\n",
    "    pass"
   ]
  },
  {
   "cell_type": "code",
   "execution_count": 34,
   "id": "4d859f9a-421c-4029-99b1-19d2c67fab0b",
   "metadata": {},
   "outputs": [],
   "source": [
    "class InputError(Error):\n",
    "    \"\"\"입력오류를 정의하는 예외입니다.\n",
    "\n",
    "    속성:\n",
    "        expression -- 예외가 발생하는 입력 표현식\n",
    "        message -- 오류 설명\n",
    "    \"\"\"\n",
    "\n",
    "    def __init__(self, expression, message):\n",
    "        self.expression = expression\n",
    "        self.message = message"
   ]
  },
  {
   "cell_type": "code",
   "execution_count": 35,
   "id": "340954c3-4528-4680-8cb7-790f6cfdfc32",
   "metadata": {},
   "outputs": [],
   "source": [
    "class ZeroLengthError(Exception):\n",
    "    \"\"\"길이가 0일 때 발생하는 예외.\"\"\"\n",
    "    def __init__(self):\n",
    "        Exception.__init__(self, '사용자 정의 예외 : 길이가 0입니다.')"
   ]
  },
  {
   "cell_type": "code",
   "execution_count": 36,
   "id": "77de1f6c-04da-44b6-8920-ef6252d2f5cb",
   "metadata": {},
   "outputs": [],
   "source": [
    "def insert(data):\n",
    "    if len(data)==0:\n",
    "        raise ZeroLengthError()\n",
    "    print(data, '을(를) 입력합니다.', sep='')"
   ]
  },
  {
   "cell_type": "code",
   "execution_count": 37,
   "id": "325575f2-f72b-450e-8fc4-bda2138a0b8b",
   "metadata": {},
   "outputs": [
    {
     "name": "stdout",
     "output_type": "stream",
     "text": [
      "사용자 정의 예외 : 길이가 0입니다.\n"
     ]
    }
   ],
   "source": [
    "# data = [1,2,3]\n",
    "data = []\n",
    "try:\n",
    "    insert(data)\n",
    "except ZeroLengthError as e:\n",
    "    print(e.args[0])\n",
    "else:\n",
    "    print('정상 실행되었습니다.')"
   ]
  },
  {
   "cell_type": "code",
   "execution_count": 38,
   "id": "0712c78f-2793-409c-a0d1-22ab8bb57db7",
   "metadata": {},
   "outputs": [
    {
     "name": "stdout",
     "output_type": "stream",
     "text": [
      "[Errno 2] No such file or directory: 'myfile.txt'\n"
     ]
    }
   ],
   "source": [
    "try:\n",
    "    f = open('myfile.txt', 'r')\n",
    "    #1 파일이 열린 후 실행되어야 하는 코드\n",
    "except FileNotFoundError as e:\n",
    "    print(str(e))\n",
    "else:\n",
    "    #2 파일을 읽기 전에 실행해야 하는 코드\n",
    "    data = f.read()"
   ]
  },
  {
   "cell_type": "code",
   "execution_count": 39,
   "id": "d38a252a-c5b1-4cf4-ba46-b1aca1d1e54c",
   "metadata": {},
   "outputs": [
    {
     "name": "stdout",
     "output_type": "stream",
     "text": [
      "[Errno 2] No such file or directory: 'myfile.txt'\n"
     ]
    },
    {
     "ename": "NameError",
     "evalue": "name 'f' is not defined",
     "output_type": "error",
     "traceback": [
      "\u001b[1;31m---------------------------------------------------------------------------\u001b[0m",
      "\u001b[1;31mNameError\u001b[0m                                 Traceback (most recent call last)",
      "Cell \u001b[1;32mIn[39], line 11\u001b[0m\n\u001b[0;32m      9\u001b[0m     \u001b[38;5;28mprint\u001b[39m(data)\n\u001b[0;32m     10\u001b[0m \u001b[38;5;28;01mfinally\u001b[39;00m:\n\u001b[1;32m---> 11\u001b[0m     f\u001b[38;5;241m.\u001b[39mclose()\n",
      "\u001b[1;31mNameError\u001b[0m: name 'f' is not defined"
     ]
    }
   ],
   "source": [
    "try:\n",
    "    f = open('myfile.txt', 'r')\n",
    "    #1 파일이 열린 후 실행되어야 하는 코드\n",
    "except FileNotFoundError as e:\n",
    "    print(str(e))\n",
    "else:\n",
    "    #2 파일을 읽기 전에 실행해야 하는 코드\n",
    "    data = f.read()\n",
    "    print(data)\n",
    "finally:\n",
    "    f.close()"
   ]
  },
  {
   "cell_type": "markdown",
   "id": "3d6e1405-40e5-48f7-a33f-58a00de934d2",
   "metadata": {},
   "source": [
    "연습문제"
   ]
  },
  {
   "cell_type": "code",
   "execution_count": 43,
   "id": "e779eda5-1d0d-4b65-a502-1e315e14c430",
   "metadata": {},
   "outputs": [
    {
     "name": "stdin",
     "output_type": "stream",
     "text": [
      "첫 번째 숫자를 입력하세요: hello\n"
     ]
    },
    {
     "name": "stdout",
     "output_type": "stream",
     "text": [
      "유효한 정수가 아닙니다. 다시 시도하세요.\n"
     ]
    },
    {
     "name": "stdin",
     "output_type": "stream",
     "text": [
      "첫 번째 숫자를 입력하세요: 10\n",
      "두 번째 숫자를 입력하세요: 0\n"
     ]
    },
    {
     "name": "stdout",
     "output_type": "stream",
     "text": [
      "입력한 수는 10.0와 0.0입니다.\n",
      "유효한 정수가 아닙니다. 다시 시도하세요.\n"
     ]
    },
    {
     "name": "stdin",
     "output_type": "stream",
     "text": [
      "첫 번째 숫자를 입력하세요: 3.5\n",
      "두 번째 숫자를 입력하세요: hello\n"
     ]
    },
    {
     "name": "stdout",
     "output_type": "stream",
     "text": [
      "유효한 정수가 아닙니다. 다시 시도하세요.\n"
     ]
    },
    {
     "name": "stdin",
     "output_type": "stream",
     "text": [
      "첫 번째 숫자를 입력하세요: 3.5\n",
      "두 번째 숫자를 입력하세요: 2\n"
     ]
    },
    {
     "name": "stdout",
     "output_type": "stream",
     "text": [
      "입력한 수는 3.5와 2.0입니다.\n",
      "3.5을 2.0로 나누면 1.75입니다\n"
     ]
    }
   ],
   "source": [
    "while True:\n",
    "    try:\n",
    "        num1 = float(input('첫 번째 숫자를 입력하세요:'))\n",
    "        num2 = float(input('두 번째 숫자를 입력하세요:'))\n",
    "        print(f'입력한 수는 {num1}와 {num2}입니다.')\n",
    "        num = num1 / num2\n",
    "        print(f'{num1}을 {num2}로 나누면 {num}입니다')\n",
    "        break\n",
    "    except:\n",
    "        print('유효한 정수가 아닙니다. 다시 시도하세요.')"
   ]
  },
  {
   "cell_type": "code",
   "execution_count": 44,
   "id": "b081220d-98b8-4d08-9cf0-c40e45a7adbf",
   "metadata": {},
   "outputs": [
    {
     "name": "stdin",
     "output_type": "stream",
     "text": [
      "첫 번째 숫자를 입력하세요: abc\n"
     ]
    },
    {
     "name": "stdout",
     "output_type": "stream",
     "text": [
      "유효한 숫자가 아닙니다. 다시 시도하세요.\n"
     ]
    },
    {
     "name": "stdin",
     "output_type": "stream",
     "text": [
      "첫 번째 숫자를 입력하세요: 10\n",
      "두 번째 숫자를 입력하세요: 0\n"
     ]
    },
    {
     "name": "stdout",
     "output_type": "stream",
     "text": [
      "입력한 수는 10.0와 0.0입니다.\n",
      "0으로 나눌 수 없습니다. 다시 시도하세요.\n"
     ]
    },
    {
     "name": "stdin",
     "output_type": "stream",
     "text": [
      "첫 번째 숫자를 입력하세요: 5\n",
      "두 번째 숫자를 입력하세요: 3\n"
     ]
    },
    {
     "name": "stdout",
     "output_type": "stream",
     "text": [
      "입력한 수는 5.0와 3.0입니다.\n",
      "5.0을 3.0로 나누면 1.6666666666666667입니다\n"
     ]
    }
   ],
   "source": [
    "while True:\n",
    "    try:\n",
    "        num1 = float(input('첫 번째 숫자를 입력하세요:'))\n",
    "        num2 = float(input('두 번째 숫자를 입력하세요:'))\n",
    "        print(f'입력한 수는 {num1}와 {num2}입니다.')\n",
    "        num = num1 / num2\n",
    "        print(f'{num1}을 {num2}로 나누면 {num}입니다')\n",
    "        break\n",
    "    except ValueError:\n",
    "        print('유효한 숫자가 아닙니다. 다시 시도하세요.')\n",
    "    except ZeroDivisionError:\n",
    "        print('0으로 나눌 수 없습니다. 다시 시도하세요.')"
   ]
  },
  {
   "cell_type": "code",
   "execution_count": 45,
   "id": "0a12ab6d-a6bd-4ae7-8e65-e6aad5069360",
   "metadata": {},
   "outputs": [
    {
     "name": "stdout",
     "output_type": "stream",
     "text": [
      "True\n"
     ]
    },
    {
     "data": {
      "text/plain": [
       "11"
      ]
     },
     "execution_count": 45,
     "metadata": {},
     "output_type": "execute_result"
    }
   ],
   "source": [
    "f = open('sample.txt', 'w')\n",
    "print(f.writable())\n",
    "f.write('HelloWorld\\n')"
   ]
  },
  {
   "cell_type": "code",
   "execution_count": 46,
   "id": "16ed4728-b73a-4074-99ec-9bc9ac2dde2b",
   "metadata": {},
   "outputs": [],
   "source": [
    "f.close()"
   ]
  },
  {
   "cell_type": "code",
   "execution_count": 47,
   "id": "da2eda00-b0e0-4172-a6d8-132708ce57a1",
   "metadata": {},
   "outputs": [],
   "source": [
    "f = open('sample.txt', 'a')\n",
    "print('이 문자열도 파일에 저장할 수 있습니다.', file=f)\n",
    "f.close()"
   ]
  },
  {
   "cell_type": "code",
   "execution_count": 48,
   "id": "abfaf27a-c386-43f4-96e9-c13181e154dd",
   "metadata": {},
   "outputs": [
    {
     "name": "stdout",
     "output_type": "stream",
     "text": [
      "HelloWorld\n",
      "이 문자열도 파일에 저장할 수 있습니다.\n"
     ]
    }
   ],
   "source": [
    "with open('sample.txt','r') as f:\n",
    "    for line in f.readlines():\n",
    "        print(line.strip())"
   ]
  },
  {
   "cell_type": "code",
   "execution_count": 49,
   "id": "7cff9521-10f1-4c31-8433-34499a75b241",
   "metadata": {},
   "outputs": [
    {
     "name": "stdout",
     "output_type": "stream",
     "text": [
      "Writing member.txt\n"
     ]
    }
   ],
   "source": [
    "%%writefile 'member.txt'\n",
    "홍길동,20,kildong@hong.com,서울시 강동구\n",
    "홍길서,25,kilseo@hong.com,서울시 강서구"
   ]
  },
  {
   "cell_type": "code",
   "execution_count": 53,
   "id": "cfeae116-c10d-4de7-a320-146e6fbe2b79",
   "metadata": {},
   "outputs": [
    {
     "name": "stdout",
     "output_type": "stream",
     "text": [
      "홍길동,20,kildong@hong.com,서울시 강동구\n",
      "홍길서,25,kilseo@hong.com,서울시 강서구\n"
     ]
    }
   ],
   "source": [
    "with open('member.txt', 'r', encoding='UTF-8-SIG') as f: #SIG는 출력문 앞에 영문모를 문자가 남아 있을 경우 없애줌\n",
    "    lines = f.readlines()\n",
    "    for line in lines:\n",
    "        print(line.strip())"
   ]
  },
  {
   "cell_type": "code",
   "execution_count": 54,
   "id": "74e8f274-747f-4564-8d8b-7c551fd63fbe",
   "metadata": {},
   "outputs": [
    {
     "name": "stdout",
     "output_type": "stream",
     "text": [
      "이름: 홍길동, 나이: 20, 이메일: kildong@hong.com, 주소: 서울시 강동구\n",
      "이름: 홍길서, 나이: 25, 이메일: kilseo@hong.com, 주소: 서울시 강서구\n"
     ]
    }
   ],
   "source": [
    "with open('member.txt', 'r', encoding='UTF-8-SIG') as f: #SIG는 출력문 앞에 영문모를 문자가 남아 있을 경우 없애줌\n",
    "    lines = f.readlines()\n",
    "    for line in lines:\n",
    "        #print(line.strip())\n",
    "        data = line.strip().split(',')\n",
    "        name = data[0]\n",
    "        age = int(data[1])\n",
    "        email = data[2]\n",
    "        address = data[3]\n",
    "        print(f'이름: {name}, 나이: {age}, 이메일: {email}, 주소: {address}')"
   ]
  },
  {
   "cell_type": "code",
   "execution_count": 65,
   "id": "dbd3eb85-4ad5-4f3d-b922-ec8ef9a2eb2b",
   "metadata": {},
   "outputs": [],
   "source": [
    "class Member:\n",
    "    def __init__(self, name, age, email, address):\n",
    "        self.name = name\n",
    "        self.age = age\n",
    "        self.email = email\n",
    "        self.address = address\n",
    "\n",
    "    def __str__(self):\n",
    "        return f'Name: {self.name}, Age: {self.age}, Email: {self.email}, Address: {self.address}'"
   ]
  },
  {
   "cell_type": "code",
   "execution_count": 66,
   "id": "7580f180-8593-4bdd-bbb9-bffef34d3b9d",
   "metadata": {},
   "outputs": [],
   "source": [
    "user1 = Member('홍길동', 20, 'kildong@hong.com', '서울시 강동구')\n",
    "user2 = Member('홍길서', 25, 'kilseo@hong.com', '서울시 강서구')\n",
    "user_list = [user1, user2]"
   ]
  },
  {
   "cell_type": "code",
   "execution_count": 67,
   "id": "8229a7a1-ae66-4df1-be45-0706324095eb",
   "metadata": {},
   "outputs": [],
   "source": [
    "with open('member.data', 'wb') as f:\n",
    "    import pickle\n",
    "    pickle.dump(user_list, file=f)"
   ]
  },
  {
   "cell_type": "code",
   "execution_count": 68,
   "id": "7bf70310-7877-474c-8fcc-ffe16227f2a7",
   "metadata": {},
   "outputs": [],
   "source": [
    "del user_list"
   ]
  },
  {
   "cell_type": "code",
   "execution_count": 69,
   "id": "49a34fe2-429e-40dd-a2bc-3388f01715b8",
   "metadata": {},
   "outputs": [],
   "source": [
    "with open('member.data', 'rb') as f:\n",
    "    import pickle\n",
    "    user_list = pickle.load(f)"
   ]
  },
  {
   "cell_type": "code",
   "execution_count": 70,
   "id": "96c16881-86d6-4038-b15c-b1982c63ca3d",
   "metadata": {},
   "outputs": [
    {
     "name": "stdout",
     "output_type": "stream",
     "text": [
      "[<__main__.Member object at 0x000001EF332DE810>, <__main__.Member object at 0x000001EF333F5890>]\n"
     ]
    }
   ],
   "source": [
    "print(user_list)"
   ]
  },
  {
   "cell_type": "code",
   "execution_count": 71,
   "id": "3d5e608e-638e-4aa7-b070-856810205d55",
   "metadata": {},
   "outputs": [
    {
     "name": "stdout",
     "output_type": "stream",
     "text": [
      "Name: 홍길동, Age: 20, Email: kildong@hong.com, Address: 서울시 강동구\n"
     ]
    }
   ],
   "source": [
    "print(user_list[0])"
   ]
  },
  {
   "cell_type": "code",
   "execution_count": 72,
   "id": "4f7be9e3-a5b9-4fc7-a333-69c3b7e21151",
   "metadata": {},
   "outputs": [
    {
     "name": "stdout",
     "output_type": "stream",
     "text": [
      "Name: 홍길서, Age: 25, Email: kilseo@hong.com, Address: 서울시 강서구\n"
     ]
    }
   ],
   "source": [
    "print(user_list[1])"
   ]
  },
  {
   "cell_type": "code",
   "execution_count": 73,
   "id": "1c68e21c-4db9-4b37-b267-412f052e4ec2",
   "metadata": {},
   "outputs": [
    {
     "name": "stdout",
     "output_type": "stream",
     "text": [
      "<class 'list'>\n"
     ]
    }
   ],
   "source": [
    "print(type(user_list))"
   ]
  },
  {
   "cell_type": "code",
   "execution_count": 74,
   "id": "f4e27c61-c06a-405e-911f-2a00fea053f5",
   "metadata": {},
   "outputs": [
    {
     "name": "stdout",
     "output_type": "stream",
     "text": [
      "Name: 홍길동, Age: 20, Email: kildong@hong.com, Address: 서울시 강동구\n",
      "Name: 홍길서, Age: 25, Email: kilseo@hong.com, Address: 서울시 강서구\n"
     ]
    }
   ],
   "source": [
    "for user in user_list:\n",
    "    print(user)"
   ]
  },
  {
   "cell_type": "code",
   "execution_count": 77,
   "id": "5bbb5edc-2421-474b-a92d-7f6b374430ed",
   "metadata": {},
   "outputs": [
    {
     "name": "stdout",
     "output_type": "stream",
     "text": [
      "Overwriting member1.csv\n"
     ]
    }
   ],
   "source": [
    "%%writefile 'member1.csv'\n",
    "\"홍길동\",20,\"kildong@hong.com\",\"서울시 강동구\"\n",
    "\"홍길서\",25,\"kilseo@hong.com\",\"서울시 강서구\""
   ]
  },
  {
   "cell_type": "code",
   "execution_count": 78,
   "id": "83f113bf-c5c3-40d9-9933-31e3cf88b1f2",
   "metadata": {},
   "outputs": [],
   "source": [
    "import csv"
   ]
  },
  {
   "cell_type": "code",
   "execution_count": 79,
   "id": "cedb0b6c-50d2-4f4e-92a9-749c7cabdb84",
   "metadata": {},
   "outputs": [
    {
     "name": "stdout",
     "output_type": "stream",
     "text": [
      "['홍길동', 20.0, 'kildong@hong.com', '서울시 강동구']\n",
      "['홍길서', 25.0, 'kilseo@hong.com', '서울시 강서구']\n"
     ]
    }
   ],
   "source": [
    "with open('member1.csv', 'r', encoding='UTF-8-SIG') as f:\n",
    "    r = csv.reader(f, quotechar='\"', quoting=csv.QUOTE_NONNUMERIC)\n",
    "    for row in r:\n",
    "        print(row)"
   ]
  },
  {
   "cell_type": "code",
   "execution_count": 80,
   "id": "c4bc87b2-d7e8-4a83-83fe-5c522dfe7117",
   "metadata": {},
   "outputs": [],
   "source": [
    "user_list = [['홍길동', 20.0, 'kildong@hong.com', '서울시 강동구'],\n",
    "            ['홍길서', 25.0, 'kilseo@hong.com', '서울시 강서구']]"
   ]
  },
  {
   "cell_type": "code",
   "execution_count": 81,
   "id": "3d3f55d5-2920-46de-ae04-456b645a3d47",
   "metadata": {},
   "outputs": [],
   "source": [
    "with open('member2.csv', 'w', newline='', encoding='UTF-8-SIG') as f:\n",
    "    w = csv.writer(f)\n",
    "    w.writerows(user_list)"
   ]
  },
  {
   "cell_type": "code",
   "execution_count": 82,
   "id": "010f6abe-708d-47ca-9076-103d236e9e9f",
   "metadata": {},
   "outputs": [],
   "source": [
    "with open('member2.csv', 'w', newline='', encoding='UTF-8-SIG') as f:\n",
    "    w = csv.writer(f, quoting=csv.QUOTE_NONNUMERIC)\n",
    "    w.writerows(user_list)"
   ]
  },
  {
   "cell_type": "code",
   "execution_count": 83,
   "id": "c746adf8-be6b-43d3-af0b-ee63b4049ac1",
   "metadata": {},
   "outputs": [
    {
     "name": "stdout",
     "output_type": "stream",
     "text": [
      "Writing member3.csv\n"
     ]
    }
   ],
   "source": [
    "%%writefile 'member3.csv'\n",
    "Name,Age,Email,Address\n",
    "홍길동,20,kildong@hong.com,서울시 강동구\n",
    "홍길서,25,kilseo@hong.com,서울시 강서구"
   ]
  },
  {
   "cell_type": "code",
   "execution_count": 91,
   "id": "1e85b514-832e-4490-846c-b68e6335d4cc",
   "metadata": {},
   "outputs": [
    {
     "name": "stdout",
     "output_type": "stream",
     "text": [
      "<class 'dict'> {'Name': '홍길동', 'Age': '20', 'Email': 'kildong@hong.com', 'Address': '서울시 강동구'}\n",
      "<class 'dict'> {'Name': '홍길서', 'Age': '25', 'Email': 'kilseo@hong.com', 'Address': '서울시 강서구'}\n"
     ]
    }
   ],
   "source": [
    "# 첫번째 행을 키값으로 인식\n",
    "with open('member3.csv', 'r', encoding='UTF-8-SIG') as f:\n",
    "    dict_reader = csv.DictReader(f)\n",
    "    for row in dict_reader:\n",
    "        print(type(row), row)"
   ]
  },
  {
   "cell_type": "code",
   "execution_count": 92,
   "id": "cce19e2b-940d-491a-afa8-9157fb19072d",
   "metadata": {},
   "outputs": [
    {
     "name": "stdout",
     "output_type": "stream",
     "text": [
      "<class 'csv.DictReader'>\n",
      "<class 'dict'> {'Name': '홍길동', 'Age': '20', 'Email': 'kildong@hong.com', 'Address': '서울시 강동구'}\n",
      "<class 'dict'> {'Name': '홍길서', 'Age': '25', 'Email': 'kilseo@hong.com', 'Address': '서울시 강서구'}\n"
     ]
    }
   ],
   "source": [
    "# key값이 없는 경우 첫번째 행을 키값으로 인식한다. 이때 fieldname을 지정해서 불러올 수 있다\n",
    "with open('member1.csv', 'r', encoding='UTF-8-SIG') as f:\n",
    "    dict_reader = csv.DictReader(f, fieldnames=['Name', 'Age', 'Email', 'Address'])\n",
    "    print(type(dict_reader))\n",
    "    for row in dict_reader:\n",
    "        print(type(row), row)"
   ]
  },
  {
   "cell_type": "code",
   "execution_count": 93,
   "id": "2bae5ee2-37a3-4f6a-9d8b-b9987ecb25b5",
   "metadata": {},
   "outputs": [
    {
     "name": "stdout",
     "output_type": "stream",
     "text": [
      "<class 'csv.DictReader'>\n",
      "<class 'dict'> {'Name': '홍길동', 'Age': '20', 'Email': 'kildong@hong.com', None: ['서울시 강동구']}\n",
      "<class 'dict'> {'Name': '홍길서', 'Age': '25', 'Email': 'kilseo@hong.com', None: ['서울시 강서구']}\n"
     ]
    }
   ],
   "source": [
    "# field 이름이 부족한 경우, None field에 list 형태로 저장된다.\n",
    "with open('member1.csv', 'r', encoding='UTF-8-SIG') as f:\n",
    "    dict_reader = csv.DictReader(f, fieldnames=['Name', 'Age', 'Email'])\n",
    "    print(type(dict_reader))\n",
    "    for row in dict_reader:\n",
    "        print(type(row), row)"
   ]
  },
  {
   "cell_type": "code",
   "execution_count": 96,
   "id": "99bc6f12-64a3-4049-9302-ae1405d06d80",
   "metadata": {},
   "outputs": [
    {
     "name": "stdout",
     "output_type": "stream",
     "text": [
      "<class 'csv.DictReader'>\n",
      "<class 'dict'> {'Name': '홍길동', 'Age': '20', 'Email': 'kildong@hong.com', 'Etc': ['서울시 강동구']}\n",
      "<class 'dict'> {'Name': '홍길서', 'Age': '25', 'Email': 'kilseo@hong.com', 'Etc': ['서울시 강서구']}\n"
     ]
    }
   ],
   "source": [
    "# field 이름이 부족한 경우, None field의 속성을 restkey로 Default key name을 지정할 수 있다.\n",
    "with open('member1.csv', 'r', encoding='UTF-8-SIG') as f:\n",
    "    dict_reader = csv.DictReader(f, fieldnames=['Name', 'Age', 'Email'], restkey=\"Etc\")\n",
    "    print(type(dict_reader))\n",
    "    for row in dict_reader:\n",
    "        print(type(row), row)"
   ]
  },
  {
   "cell_type": "code",
   "execution_count": 97,
   "id": "9a2017d4-1a8b-49bc-b854-a048d6fbb29f",
   "metadata": {},
   "outputs": [
    {
     "name": "stdout",
     "output_type": "stream",
     "text": [
      "<class 'csv.DictReader'>\n",
      "{'Name': '홍길동', 'Age': '20', 'Email': 'kildong@hong.com', 'Addr': '서울시 강동구', 'Etc': '없음'}\n",
      "{'Name': '홍길서', 'Age': '25', 'Email': 'kilseo@hong.com', 'Addr': '서울시 강서구', 'Etc': '없음'}\n"
     ]
    }
   ],
   "source": [
    "# key값이 남는 경우, restval으로 기본값을 지정해 채울 수 있다.\n",
    "with open('member1.csv', 'r', encoding='UTF-8-SIG') as f:\n",
    "    dict_reader = csv.DictReader(f, fieldnames=['Name', 'Age', 'Email', 'Addr', 'Etc'], restval='없음')\n",
    "    print(type(dict_reader))\n",
    "    for row in dict_reader:\n",
    "        print(row)"
   ]
  },
  {
   "cell_type": "code",
   "execution_count": 98,
   "id": "36d85c86-13af-4970-a154-e69cbd5fd78d",
   "metadata": {},
   "outputs": [
    {
     "name": "stdout",
     "output_type": "stream",
     "text": [
      "{'Name': '홍길동', 'Age': '20', 'Email': 'kildong@hong.com', 'Address': '서울시 강동구'} {'Name': '홍길서', 'Age': '25', 'Email': 'kilseo@hong.com', 'Address': '서울시 강서구'}\n"
     ]
    }
   ],
   "source": [
    "user1 = {'Name': '홍길동', 'Age': '20', 'Email': 'kildong@hong.com', 'Address': '서울시 강동구'}\n",
    "user2 = {'Name': '홍길서', 'Age': '25', 'Email': 'kilseo@hong.com', 'Address': '서울시 강서구'}\n",
    "print(user1, user2)"
   ]
  },
  {
   "cell_type": "code",
   "execution_count": 101,
   "id": "0914f409-c016-4798-a5f7-6049a226f213",
   "metadata": {},
   "outputs": [],
   "source": [
    "with open('member4.csv', 'w', newline='', encoding='UTF-8-SIG') as f:\n",
    "    dict_writer = csv.DictWriter(f, fieldnames=['Name', 'Age', 'Email', 'Address']);\n",
    "    dict_writer.writeheader()\n",
    "    dict_writer.writerow(user1)\n",
    "    dict_writer.writerow(user2)"
   ]
  },
  {
   "cell_type": "code",
   "execution_count": 102,
   "id": "8fc104d0-089d-4c35-a3bf-3d194ff00fd7",
   "metadata": {},
   "outputs": [],
   "source": [
    "data = ['foo', {'bar': ('baz', None, 1.0, 2)}]"
   ]
  },
  {
   "cell_type": "code",
   "execution_count": 103,
   "id": "c4aa4f09-4d1d-46d5-ab27-a69ef73c5a70",
   "metadata": {},
   "outputs": [],
   "source": [
    "import json"
   ]
  },
  {
   "cell_type": "code",
   "execution_count": 106,
   "id": "ab6cc91c-0b09-4327-979a-04812eedeec0",
   "metadata": {},
   "outputs": [],
   "source": [
    "with open('sample.json', 'w') as f:\n",
    "    json.dump(data, f)"
   ]
  },
  {
   "cell_type": "code",
   "execution_count": 108,
   "id": "6addb98d-c9b2-4673-87e5-41e30ccbcfb3",
   "metadata": {},
   "outputs": [],
   "source": [
    "# 가독성 좋게 들여쓰기\n",
    "with open('sample.json', 'w') as f:\n",
    "    json.dump(data, f, indent=True)"
   ]
  },
  {
   "cell_type": "code",
   "execution_count": 109,
   "id": "c25adcda-4354-4139-a6ba-950d03d091e1",
   "metadata": {},
   "outputs": [],
   "source": [
    "class Member:\n",
    "    def __init__(self, name, age, email, address):\n",
    "        self.name = name\n",
    "        self.age = age\n",
    "        self.email = email\n",
    "        self.address = address\n",
    "\n",
    "    def __str__(self):\n",
    "        return f'Name: {self.name}, Age: {self.age}, Email: {self.email}, Address: {self.address}'\n",
    "\n",
    "    def as_dict(self):\n",
    "        return {'name':self.name, 'age':self.age, 'email':self.email, 'address':self.address}"
   ]
  },
  {
   "cell_type": "code",
   "execution_count": 110,
   "id": "c16795d5-7355-4083-a8e4-b77b789c1b91",
   "metadata": {},
   "outputs": [],
   "source": [
    "user1 = Member('홍길동', 20, 'kildong@hong.com', '서울시 강동구')\n",
    "user2 = Member('홍길서', 25, 'kilseo@hong.com', '서울시 강서구')\n",
    "user_list = [user1, user2]"
   ]
  },
  {
   "cell_type": "code",
   "execution_count": 111,
   "id": "4baa1178-c160-4952-a87d-8637a0abfde7",
   "metadata": {},
   "outputs": [],
   "source": [
    "with open('member.json', 'w', encoding='UTF-8-SIG') as f:\n",
    "    json.dump(user_list, f, ensure_ascii=False, indent='\\t', default=Member.as_dict)"
   ]
  },
  {
   "cell_type": "code",
   "execution_count": 112,
   "id": "c8e71e9c-a298-489f-8af7-7f38c0136ebf",
   "metadata": {},
   "outputs": [],
   "source": [
    "with open('member.json', 'r', encoding='UTF-8-SIG') as f:\n",
    "    user_list = json.load(f)"
   ]
  },
  {
   "cell_type": "code",
   "execution_count": 113,
   "id": "d91ab8d1-cd2d-4fed-a186-e6a078660ac0",
   "metadata": {},
   "outputs": [
    {
     "data": {
      "text/plain": [
       "list"
      ]
     },
     "execution_count": 113,
     "metadata": {},
     "output_type": "execute_result"
    }
   ],
   "source": [
    "type(user_list)"
   ]
  },
  {
   "cell_type": "code",
   "execution_count": 114,
   "id": "bea76315-cf75-43e8-9d1c-d68c906db27d",
   "metadata": {},
   "outputs": [
    {
     "name": "stdout",
     "output_type": "stream",
     "text": [
      "[{'name': '홍길동', 'age': 20, 'email': 'kildong@hong.com', 'address': '서울시 강동구'}, {'name': '홍길서', 'age': 25, 'email': 'kilseo@hong.com', 'address': '서울시 강서구'}]\n"
     ]
    }
   ],
   "source": [
    "print(user_list)"
   ]
  },
  {
   "cell_type": "code",
   "execution_count": 115,
   "id": "6fc8f32b-757a-45bd-80ad-9a48202a5a83",
   "metadata": {},
   "outputs": [],
   "source": [
    "def as_member(dct):\n",
    "    return Member(dct['name'], dct['age'], dct['email'], dct['address'])"
   ]
  },
  {
   "cell_type": "code",
   "execution_count": 116,
   "id": "afd3477f-2556-482a-91e0-1f6bac4b1c9c",
   "metadata": {},
   "outputs": [],
   "source": [
    "with open('member.json', 'r', encoding='UTF-8-SIG') as f:\n",
    "    user_list = json.load(f, object_hook=as_member)"
   ]
  },
  {
   "cell_type": "code",
   "execution_count": 117,
   "id": "78c17312-3ad6-4335-9791-b953820c782d",
   "metadata": {},
   "outputs": [
    {
     "name": "stdout",
     "output_type": "stream",
     "text": [
      "[<__main__.Member object at 0x000001EF342DF0D0>, <__main__.Member object at 0x000001EF342DF3D0>]\n"
     ]
    }
   ],
   "source": [
    "print(user_list)"
   ]
  },
  {
   "cell_type": "code",
   "execution_count": 118,
   "id": "e56939b5-8548-40a8-bf16-a9171fb39235",
   "metadata": {},
   "outputs": [
    {
     "name": "stdout",
     "output_type": "stream",
     "text": [
      "Name: 홍길동, Age: 20, Email: kildong@hong.com, Address: 서울시 강동구\n",
      "Name: 홍길서, Age: 25, Email: kilseo@hong.com, Address: 서울시 강서구\n"
     ]
    }
   ],
   "source": [
    "for user in user_list:\n",
    "    print(user)"
   ]
  },
  {
   "cell_type": "code",
   "execution_count": 119,
   "id": "a135dbb8-fef4-46d9-8e26-b280ced26b03",
   "metadata": {},
   "outputs": [],
   "source": [
    "import pandas as pd"
   ]
  },
  {
   "cell_type": "code",
   "execution_count": 121,
   "id": "538594be-a85a-49f1-a0d5-733c8e85cd37",
   "metadata": {},
   "outputs": [],
   "source": [
    "import seaborn as sns\n",
    "iris = sns.load_dataset('iris')"
   ]
  },
  {
   "cell_type": "code",
   "execution_count": 122,
   "id": "a1cd641c-0cc6-41b7-8a6a-a04c95bdb3ce",
   "metadata": {},
   "outputs": [
    {
     "data": {
      "text/plain": [
       "pandas.core.frame.DataFrame"
      ]
     },
     "execution_count": 122,
     "metadata": {},
     "output_type": "execute_result"
    }
   ],
   "source": [
    "type(iris)"
   ]
  },
  {
   "cell_type": "code",
   "execution_count": 123,
   "id": "9e6b35cf-ed6f-40d6-b40b-254a1385c587",
   "metadata": {},
   "outputs": [
    {
     "data": {
      "text/html": [
       "<div>\n",
       "<style scoped>\n",
       "    .dataframe tbody tr th:only-of-type {\n",
       "        vertical-align: middle;\n",
       "    }\n",
       "\n",
       "    .dataframe tbody tr th {\n",
       "        vertical-align: top;\n",
       "    }\n",
       "\n",
       "    .dataframe thead th {\n",
       "        text-align: right;\n",
       "    }\n",
       "</style>\n",
       "<table border=\"1\" class=\"dataframe\">\n",
       "  <thead>\n",
       "    <tr style=\"text-align: right;\">\n",
       "      <th></th>\n",
       "      <th>sepal_length</th>\n",
       "      <th>sepal_width</th>\n",
       "      <th>petal_length</th>\n",
       "      <th>petal_width</th>\n",
       "      <th>species</th>\n",
       "    </tr>\n",
       "  </thead>\n",
       "  <tbody>\n",
       "    <tr>\n",
       "      <th>0</th>\n",
       "      <td>5.1</td>\n",
       "      <td>3.5</td>\n",
       "      <td>1.4</td>\n",
       "      <td>0.2</td>\n",
       "      <td>setosa</td>\n",
       "    </tr>\n",
       "    <tr>\n",
       "      <th>1</th>\n",
       "      <td>4.9</td>\n",
       "      <td>3.0</td>\n",
       "      <td>1.4</td>\n",
       "      <td>0.2</td>\n",
       "      <td>setosa</td>\n",
       "    </tr>\n",
       "    <tr>\n",
       "      <th>2</th>\n",
       "      <td>4.7</td>\n",
       "      <td>3.2</td>\n",
       "      <td>1.3</td>\n",
       "      <td>0.2</td>\n",
       "      <td>setosa</td>\n",
       "    </tr>\n",
       "    <tr>\n",
       "      <th>3</th>\n",
       "      <td>4.6</td>\n",
       "      <td>3.1</td>\n",
       "      <td>1.5</td>\n",
       "      <td>0.2</td>\n",
       "      <td>setosa</td>\n",
       "    </tr>\n",
       "    <tr>\n",
       "      <th>4</th>\n",
       "      <td>5.0</td>\n",
       "      <td>3.6</td>\n",
       "      <td>1.4</td>\n",
       "      <td>0.2</td>\n",
       "      <td>setosa</td>\n",
       "    </tr>\n",
       "  </tbody>\n",
       "</table>\n",
       "</div>"
      ],
      "text/plain": [
       "   sepal_length  sepal_width  petal_length  petal_width species\n",
       "0           5.1          3.5           1.4          0.2  setosa\n",
       "1           4.9          3.0           1.4          0.2  setosa\n",
       "2           4.7          3.2           1.3          0.2  setosa\n",
       "3           4.6          3.1           1.5          0.2  setosa\n",
       "4           5.0          3.6           1.4          0.2  setosa"
      ]
     },
     "execution_count": 123,
     "metadata": {},
     "output_type": "execute_result"
    }
   ],
   "source": [
    "iris.head()"
   ]
  },
  {
   "cell_type": "code",
   "execution_count": 124,
   "id": "0e258de1-d6c9-473c-919d-c8335de4ebec",
   "metadata": {},
   "outputs": [],
   "source": [
    "iris.to_csv('iris.csv', index=False)"
   ]
  },
  {
   "cell_type": "code",
   "execution_count": 125,
   "id": "f8d3a55d-d29e-480b-b5dc-1bb0a157aebd",
   "metadata": {},
   "outputs": [],
   "source": [
    "iris.to_hdf('iris.h5', key='iris')"
   ]
  },
  {
   "cell_type": "code",
   "execution_count": 126,
   "id": "a0f4d312-285e-4b32-90cd-c4864c37d583",
   "metadata": {},
   "outputs": [],
   "source": [
    "iris1 = pd.read_csv('iris.csv')"
   ]
  },
  {
   "cell_type": "code",
   "execution_count": 127,
   "id": "1803d467-3195-4815-b363-57941c7c2b1a",
   "metadata": {},
   "outputs": [
    {
     "data": {
      "text/html": [
       "<div>\n",
       "<style scoped>\n",
       "    .dataframe tbody tr th:only-of-type {\n",
       "        vertical-align: middle;\n",
       "    }\n",
       "\n",
       "    .dataframe tbody tr th {\n",
       "        vertical-align: top;\n",
       "    }\n",
       "\n",
       "    .dataframe thead th {\n",
       "        text-align: right;\n",
       "    }\n",
       "</style>\n",
       "<table border=\"1\" class=\"dataframe\">\n",
       "  <thead>\n",
       "    <tr style=\"text-align: right;\">\n",
       "      <th></th>\n",
       "      <th>sepal_length</th>\n",
       "      <th>sepal_width</th>\n",
       "      <th>petal_length</th>\n",
       "      <th>petal_width</th>\n",
       "      <th>species</th>\n",
       "    </tr>\n",
       "  </thead>\n",
       "  <tbody>\n",
       "    <tr>\n",
       "      <th>0</th>\n",
       "      <td>5.1</td>\n",
       "      <td>3.5</td>\n",
       "      <td>1.4</td>\n",
       "      <td>0.2</td>\n",
       "      <td>setosa</td>\n",
       "    </tr>\n",
       "    <tr>\n",
       "      <th>1</th>\n",
       "      <td>4.9</td>\n",
       "      <td>3.0</td>\n",
       "      <td>1.4</td>\n",
       "      <td>0.2</td>\n",
       "      <td>setosa</td>\n",
       "    </tr>\n",
       "    <tr>\n",
       "      <th>2</th>\n",
       "      <td>4.7</td>\n",
       "      <td>3.2</td>\n",
       "      <td>1.3</td>\n",
       "      <td>0.2</td>\n",
       "      <td>setosa</td>\n",
       "    </tr>\n",
       "    <tr>\n",
       "      <th>3</th>\n",
       "      <td>4.6</td>\n",
       "      <td>3.1</td>\n",
       "      <td>1.5</td>\n",
       "      <td>0.2</td>\n",
       "      <td>setosa</td>\n",
       "    </tr>\n",
       "    <tr>\n",
       "      <th>4</th>\n",
       "      <td>5.0</td>\n",
       "      <td>3.6</td>\n",
       "      <td>1.4</td>\n",
       "      <td>0.2</td>\n",
       "      <td>setosa</td>\n",
       "    </tr>\n",
       "  </tbody>\n",
       "</table>\n",
       "</div>"
      ],
      "text/plain": [
       "   sepal_length  sepal_width  petal_length  petal_width species\n",
       "0           5.1          3.5           1.4          0.2  setosa\n",
       "1           4.9          3.0           1.4          0.2  setosa\n",
       "2           4.7          3.2           1.3          0.2  setosa\n",
       "3           4.6          3.1           1.5          0.2  setosa\n",
       "4           5.0          3.6           1.4          0.2  setosa"
      ]
     },
     "execution_count": 127,
     "metadata": {},
     "output_type": "execute_result"
    }
   ],
   "source": [
    "iris.head()"
   ]
  },
  {
   "cell_type": "code",
   "execution_count": 128,
   "id": "fab7acba-b505-431b-a9cd-eb87d4125b84",
   "metadata": {},
   "outputs": [],
   "source": [
    "class MemberDecoder(json.JSONDecoder):\n",
    "    def __init__(self, *args, **kwargs):\n",
    "        json.JSONDecoder.__init__(self, object_hook=self.object_hook, *args, **kwargs)\n",
    "\n",
    "    def object_hook(self, obj):\n",
    "        if('name' in obj):\n",
    "            return Member(obj['name'], obj['age'], obj['email'], obj['address'])\n",
    "        return json.JSONDecoder.object_hook(self, obj)"
   ]
  },
  {
   "cell_type": "code",
   "execution_count": 129,
   "id": "cca8c2e5-e855-4f75-80c1-644ca9d8d213",
   "metadata": {},
   "outputs": [
    {
     "name": "stdout",
     "output_type": "stream",
     "text": [
      "Name: 홍길동, Age: 20, Email: kildong@hong.com, Address: 서울시 강동구\n",
      "Name: 홍길서, Age: 25, Email: kilseo@hong.com, Address: 서울시 강서구\n"
     ]
    }
   ],
   "source": [
    "with open('member.json', encoding='UTF-8-SIG') as jsonfile:\n",
    "    user_list = json.load(jsonfile, cls=MemberDecoder)\n",
    "    for user in user_list:\n",
    "        print(user)"
   ]
  },
  {
   "cell_type": "code",
   "execution_count": null,
   "id": "528862c2-fbdb-4d4a-9c93-cbc7eb358a3b",
   "metadata": {
    "editable": true,
    "slideshow": {
     "slide_type": ""
    },
    "tags": []
   },
   "outputs": [],
   "source": []
  }
 ],
 "metadata": {
  "kernelspec": {
   "display_name": "Python 3 (ipykernel)",
   "language": "python",
   "name": "python3"
  },
  "language_info": {
   "codemirror_mode": {
    "name": "ipython",
    "version": 3
   },
   "file_extension": ".py",
   "mimetype": "text/x-python",
   "name": "python",
   "nbconvert_exporter": "python",
   "pygments_lexer": "ipython3",
   "version": "3.11.7"
  }
 },
 "nbformat": 4,
 "nbformat_minor": 5
}
