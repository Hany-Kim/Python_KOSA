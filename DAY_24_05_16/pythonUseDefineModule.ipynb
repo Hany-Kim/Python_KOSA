{
 "cells": [
  {
   "cell_type": "code",
   "execution_count": 1,
   "id": "6ac2f4c0-1158-4f9f-b19f-86700212940e",
   "metadata": {},
   "outputs": [
    {
     "ename": "ModuleNotFoundError",
     "evalue": "No module named 'fibonacci'",
     "output_type": "error",
     "traceback": [
      "\u001b[1;31m---------------------------------------------------------------------------\u001b[0m",
      "\u001b[1;31mModuleNotFoundError\u001b[0m                       Traceback (most recent call last)",
      "Cell \u001b[1;32mIn[1], line 1\u001b[0m\n\u001b[1;32m----> 1\u001b[0m \u001b[38;5;28;01mimport\u001b[39;00m \u001b[38;5;21;01mfibonacci\u001b[39;00m\n",
      "\u001b[1;31mModuleNotFoundError\u001b[0m: No module named 'fibonacci'"
     ]
    }
   ],
   "source": [
    "import fibonacci"
   ]
  },
  {
   "cell_type": "code",
   "execution_count": 1,
   "id": "91d9014e-f65f-4900-af8d-25097f5ec03e",
   "metadata": {},
   "outputs": [
    {
     "data": {
      "text/plain": [
       "['C:\\\\Users\\\\KOSA',\n",
       " 'C:\\\\Users\\\\KOSA\\\\anaconda3\\\\python311.zip',\n",
       " 'C:\\\\Users\\\\KOSA\\\\anaconda3\\\\DLLs',\n",
       " 'C:\\\\Users\\\\KOSA\\\\anaconda3\\\\Lib',\n",
       " 'C:\\\\Users\\\\KOSA\\\\anaconda3',\n",
       " '',\n",
       " 'C:\\\\Users\\\\KOSA\\\\anaconda3\\\\Lib\\\\site-packages',\n",
       " 'C:\\\\Users\\\\KOSA\\\\anaconda3\\\\Lib\\\\site-packages\\\\win32',\n",
       " 'C:\\\\Users\\\\KOSA\\\\anaconda3\\\\Lib\\\\site-packages\\\\win32\\\\lib',\n",
       " 'C:\\\\Users\\\\KOSA\\\\anaconda3\\\\Lib\\\\site-packages\\\\Pythonwin']"
      ]
     },
     "execution_count": 1,
     "metadata": {},
     "output_type": "execute_result"
    }
   ],
   "source": [
    "import sys\n",
    "sys.path"
   ]
  },
  {
   "cell_type": "code",
   "execution_count": 2,
   "id": "101906db-a9bf-477f-90a3-3e868caa92d2",
   "metadata": {},
   "outputs": [
    {
     "data": {
      "text/plain": [
       "list"
      ]
     },
     "execution_count": 2,
     "metadata": {},
     "output_type": "execute_result"
    }
   ],
   "source": [
    "type(sys.path)"
   ]
  },
  {
   "cell_type": "code",
   "execution_count": 3,
   "id": "62557d96-5e6e-4a3b-9fae-9068235ab7a1",
   "metadata": {},
   "outputs": [],
   "source": [
    "sys.path.append(r\"c:\\pylib\")"
   ]
  },
  {
   "cell_type": "code",
   "execution_count": 4,
   "id": "06f38491-0314-4652-9e9f-25cac636b021",
   "metadata": {},
   "outputs": [
    {
     "data": {
      "text/plain": [
       "['C:\\\\Users\\\\KOSA',\n",
       " 'C:\\\\Users\\\\KOSA\\\\anaconda3\\\\python311.zip',\n",
       " 'C:\\\\Users\\\\KOSA\\\\anaconda3\\\\DLLs',\n",
       " 'C:\\\\Users\\\\KOSA\\\\anaconda3\\\\Lib',\n",
       " 'C:\\\\Users\\\\KOSA\\\\anaconda3',\n",
       " '',\n",
       " 'C:\\\\Users\\\\KOSA\\\\anaconda3\\\\Lib\\\\site-packages',\n",
       " 'C:\\\\Users\\\\KOSA\\\\anaconda3\\\\Lib\\\\site-packages\\\\win32',\n",
       " 'C:\\\\Users\\\\KOSA\\\\anaconda3\\\\Lib\\\\site-packages\\\\win32\\\\lib',\n",
       " 'C:\\\\Users\\\\KOSA\\\\anaconda3\\\\Lib\\\\site-packages\\\\Pythonwin',\n",
       " 'c:\\\\pylib']"
      ]
     },
     "execution_count": 4,
     "metadata": {},
     "output_type": "execute_result"
    }
   ],
   "source": [
    "sys.path"
   ]
  },
  {
   "cell_type": "code",
   "execution_count": 5,
   "id": "94e68468-c898-464b-b767-d7f0a6cebccb",
   "metadata": {},
   "outputs": [],
   "source": [
    "import fibonacci\n",
    "# 한번 불러온 모듈은 모듈이 수정되어도 다시 불러오지 않는다.\n",
    "# 수정된 모듈을 적용하기 위해서는 커널을 재시작해줘야한다."
   ]
  },
  {
   "cell_type": "code",
   "execution_count": 6,
   "id": "08416556-7d85-4d54-ae21-74acc48226ab",
   "metadata": {},
   "outputs": [
    {
     "name": "stdout",
     "output_type": "stream",
     "text": [
      "========================\n",
      "1 1 2 3 5 8 13 21 34 55 89 144 \n"
     ]
    }
   ],
   "source": [
    "fibonacci.fibo1(200)"
   ]
  },
  {
   "cell_type": "code",
   "execution_count": 7,
   "id": "03155851-3609-449f-ba22-ff9ee0abac27",
   "metadata": {},
   "outputs": [
    {
     "name": "stdout",
     "output_type": "stream",
     "text": [
      " C 드라이브의 볼륨에는 이름이 없습니다.\n",
      " 볼륨 일련 번호: AC15-0653\n",
      "\n",
      " C:\\Users\\KOSA 디렉터리\n",
      "\n",
      "2024-05-16  오전 10:09    <DIR>          .\n",
      "2024-03-28  오후 02:40    <DIR>          ..\n",
      "2024-05-09  오전 10:19    <DIR>          .anaconda\n",
      "2024-05-08  오후 01:59    <DIR>          .android\n",
      "2024-04-01  오후 05:13    <DIR>          .cache\n",
      "2024-05-09  오전 10:20    <DIR>          .conda\n",
      "2024-05-09  오전 10:19                25 .condarc\n",
      "2024-04-15  오후 12:56    <DIR>          .config\n",
      "2024-05-09  오전 10:18    <DIR>          .continuum\n",
      "2024-05-09  오전 09:04    <DIR>          .docker\n",
      "2024-04-15  오후 12:16    <DIR>          .eclipse\n",
      "2024-05-08  오후 03:08               202 .gitconfig\n",
      "2024-05-16  오전 09:43    <DIR>          .ipynb_checkpoints\n",
      "2024-05-09  오전 10:24    <DIR>          .ipython\n",
      "2024-05-10  오전 09:01    <DIR>          .jupyter\n",
      "2024-05-08  오전 09:22    <DIR>          .m2\n",
      "2024-05-09  오전 10:44    <DIR>          .matplotlib\n",
      "2024-05-08  오전 09:14    <DIR>          .p2\n",
      "2024-05-16  오전 09:37    <DIR>          .spyder-py3\n",
      "2024-05-08  오후 12:07    <DIR>          .sqldeveloper\n",
      "2024-05-08  오전 09:22    <DIR>          .sts4\n",
      "2024-04-15  오후 12:16    <DIR>          .tooling\n",
      "2024-05-10  오전 09:27    <DIR>          .virtual_documents\n",
      "2024-04-05  오전 09:41    <DIR>          .vscode\n",
      "2024-05-07  오후 05:31    <DIR>          ai_overlay_tmp\n",
      "2024-05-09  오전 10:14    <DIR>          anaconda3\n",
      "2024-03-27  오후 02:35    <DIR>          Contacts\n",
      "2024-04-15  오전 09:05    <DIR>          Documents\n",
      "2024-05-13  오전 09:19    <DIR>          Downloads\n",
      "2024-05-08  오전 08:59    <DIR>          eclipse-workspace\n",
      "2024-03-27  오후 02:35    <DIR>          Favorites\n",
      "2024-05-09  오후 05:50    <DIR>          git\n",
      "2024-05-16  오전 09:37    <DIR>          Jedi\n",
      "2024-03-27  오후 02:35    <DIR>          Links\n",
      "2024-05-08  오후 01:59    <DIR>          Music\n",
      "2024-05-08  오후 01:58    <DIR>          OneDrive\n",
      "2024-05-08  오후 06:02               114 Oracle-21c.sql\n",
      "2024-04-15  오후 12:16                 0 pmd-eclipse.log\n",
      "2024-05-13  오후 05:17            31,106 pythonDay3.ipynb\n",
      "2024-05-14  오후 05:51            13,348 pythonDay4.ipynb\n",
      "2024-05-16  오전 09:43             2,981 pythonDay5.ipynb\n",
      "2024-05-16  오전 10:09             4,629 pythonUseDefineModule.ipynb\n",
      "2024-05-09  오후 05:53            59,018 python_day1.ipynb\n",
      "2024-05-10  오후 03:44           101,584 python_day2.ipynb\n",
      "2024-05-16  오전 09:32                13 requirements.txt\n",
      "2024-03-27  오후 02:35    <DIR>          Saved Games\n",
      "2024-03-27  오후 02:39    <DIR>          Searches\n",
      "2024-04-01  오전 09:00    <DIR>          Videos\n",
      "2024-05-08  오후 03:06    <DIR>          workspace-spring2\n",
      "              11개 파일             213,020 바이트\n",
      "              38개 디렉터리  143,507,652,608 바이트 남음\n"
     ]
    }
   ],
   "source": [
    "!dir"
   ]
  },
  {
   "cell_type": "code",
   "execution_count": 9,
   "id": "4c743811-6733-4ecf-aea4-a0928ce46be2",
   "metadata": {},
   "outputs": [],
   "source": [
    "!python c:/pylib/fibonacci.py"
   ]
  },
  {
   "cell_type": "code",
   "execution_count": 10,
   "id": "a80cbd32-4e8e-40db-ab0d-64f852e80d66",
   "metadata": {},
   "outputs": [
    {
     "name": "stdout",
     "output_type": "stream",
     "text": [
      "========================\n",
      "1 1 2 3 5 8 13 21 34 55 89 144 233 377 610 987 1597 2584 \n"
     ]
    }
   ],
   "source": [
    "!python c:/pylib/fibonacci.py 3000"
   ]
  },
  {
   "cell_type": "code",
   "execution_count": 11,
   "id": "4bfc90b7-ace9-43fc-b293-4ad66ff293e2",
   "metadata": {},
   "outputs": [],
   "source": [
    "import sys\n",
    "sys.path.append(r'c:\\pylib')"
   ]
  },
  {
   "cell_type": "code",
   "execution_count": 12,
   "id": "fd799724-eb33-424b-b135-af9fdd179b6f",
   "metadata": {},
   "outputs": [
    {
     "name": "stdout",
     "output_type": "stream",
     "text": [
      "sample_pac 패키지를 import 합니다.\n"
     ]
    }
   ],
   "source": [
    "import sample_pac"
   ]
  },
  {
   "cell_type": "code",
   "execution_count": 13,
   "id": "90c5cce2-7bd9-4cdc-a2b9-b8f6a575568a",
   "metadata": {},
   "outputs": [],
   "source": [
    "import sample_pac"
   ]
  },
  {
   "cell_type": "code",
   "execution_count": 14,
   "id": "dafb7571-9ee3-4f7e-afdf-2fde599cb2b5",
   "metadata": {},
   "outputs": [
    {
     "name": "stdout",
     "output_type": "stream",
     "text": [
      "sample_pac.ab 패키지를 import 합니다.\n"
     ]
    }
   ],
   "source": [
    "import sample_pac.ab"
   ]
  },
  {
   "cell_type": "code",
   "execution_count": 15,
   "id": "ccf2e568-429c-4013-9fbd-9bd4b1fe68ce",
   "metadata": {},
   "outputs": [],
   "source": [
    "import sample_pac.ab.a"
   ]
  },
  {
   "cell_type": "code",
   "execution_count": 17,
   "id": "3aa3f1b6-08cb-428a-9644-a93c8625d7b2",
   "metadata": {},
   "outputs": [
    {
     "name": "stdout",
     "output_type": "stream",
     "text": [
      "sample_pac 패키지를 import 합니다.\n"
     ]
    },
    {
     "data": {
      "text/plain": [
       "<module 'sample_pac' from 'c:\\\\pylib\\\\sample_pac\\\\__init__.py'>"
      ]
     },
     "execution_count": 17,
     "metadata": {},
     "output_type": "execute_result"
    }
   ],
   "source": [
    "import importlib\n",
    "importlib.reload(sample_pac) # 패키지 수정 후 커널 재시작 않고, 다시 import 함"
   ]
  },
  {
   "cell_type": "code",
   "execution_count": 18,
   "id": "6b8d8a9b-c7c0-4df9-b290-18d65eb46677",
   "metadata": {},
   "outputs": [
    {
     "name": "stdout",
     "output_type": "stream",
     "text": [
      "Hello\n"
     ]
    }
   ],
   "source": [
    "sample_pac.ab.a.hello()"
   ]
  },
  {
   "cell_type": "code",
   "execution_count": 19,
   "id": "93fa7808-f191-407c-8af4-76f9adfa7703",
   "metadata": {},
   "outputs": [],
   "source": [
    "from sample_pac.ab import b"
   ]
  },
  {
   "cell_type": "code",
   "execution_count": 20,
   "id": "fa6e537a-ce70-4610-9a3c-b799fc983941",
   "metadata": {},
   "outputs": [
    {
     "name": "stdout",
     "output_type": "stream",
     "text": [
      "World\n"
     ]
    }
   ],
   "source": [
    "b.world()"
   ]
  },
  {
   "cell_type": "markdown",
   "id": "35f62c10-3b71-433b-afb1-a4067a59fa00",
   "metadata": {},
   "source": [
    "커널 재시작"
   ]
  },
  {
   "cell_type": "code",
   "execution_count": 1,
   "id": "6e3e7707-67c5-4ea4-8ebf-53a797fa8d9d",
   "metadata": {},
   "outputs": [],
   "source": [
    "import sys\n",
    "sys.path.append(r'c:\\pylib')"
   ]
  },
  {
   "cell_type": "code",
   "execution_count": 2,
   "id": "951e502f-5a93-4b1d-8cf7-468178c96573",
   "metadata": {},
   "outputs": [
    {
     "name": "stdout",
     "output_type": "stream",
     "text": [
      "sample_pac 패키지를 import 합니다.\n",
      "sample_pac.ab 패키지를 import 합니다.\n"
     ]
    }
   ],
   "source": [
    "from sample_pac.ab import *"
   ]
  },
  {
   "cell_type": "code",
   "execution_count": 3,
   "id": "d368948f-6bcf-4736-aba4-1c381e4aa776",
   "metadata": {},
   "outputs": [
    {
     "name": "stdout",
     "output_type": "stream",
     "text": [
      "Hello\n"
     ]
    }
   ],
   "source": [
    "a.hello()"
   ]
  },
  {
   "cell_type": "code",
   "execution_count": 4,
   "id": "dcc4e966-6793-4eb1-92f4-c5f74a6f00a9",
   "metadata": {},
   "outputs": [
    {
     "ename": "NameError",
     "evalue": "name 'b' is not defined",
     "output_type": "error",
     "traceback": [
      "\u001b[1;31m---------------------------------------------------------------------------\u001b[0m",
      "\u001b[1;31mNameError\u001b[0m                                 Traceback (most recent call last)",
      "Cell \u001b[1;32mIn[4], line 1\u001b[0m\n\u001b[1;32m----> 1\u001b[0m b\u001b[38;5;241m.\u001b[39mworld()\n",
      "\u001b[1;31mNameError\u001b[0m: name 'b' is not defined"
     ]
    }
   ],
   "source": [
    "b.world()"
   ]
  },
  {
   "cell_type": "code",
   "execution_count": 5,
   "id": "54220924-96ca-4f1e-9e07-a23ac3aa18b8",
   "metadata": {},
   "outputs": [
    {
     "name": "stdout",
     "output_type": "stream",
     "text": [
      "sample_pac.cd 패키지를 import 합니다.\n"
     ]
    }
   ],
   "source": [
    "from sample_pac.cd import c"
   ]
  },
  {
   "cell_type": "code",
   "execution_count": 6,
   "id": "cdfad045-3b65-45b0-b860-366afae9a406",
   "metadata": {},
   "outputs": [
    {
     "name": "stdout",
     "output_type": "stream",
     "text": [
      "Nice\n",
      "Hello\n"
     ]
    }
   ],
   "source": [
    "c.nice()"
   ]
  },
  {
   "cell_type": "code",
   "execution_count": 7,
   "id": "778de3d9-d7fe-4577-887a-c890aa184ce2",
   "metadata": {},
   "outputs": [
    {
     "name": "stdout",
     "output_type": "stream",
     "text": [
      "Requirement already satisfied: pymysql in c:\\users\\kosa\\anaconda3\\lib\\site-packages (1.1.0)\n"
     ]
    }
   ],
   "source": [
    "!pip install pymysql"
   ]
  },
  {
   "cell_type": "code",
   "execution_count": null,
   "id": "210224bf-ba73-4f33-8e4d-366f9375e940",
   "metadata": {},
   "outputs": [],
   "source": []
  }
 ],
 "metadata": {
  "kernelspec": {
   "display_name": "Python 3 (ipykernel)",
   "language": "python",
   "name": "python3"
  },
  "language_info": {
   "codemirror_mode": {
    "name": "ipython",
    "version": 3
   },
   "file_extension": ".py",
   "mimetype": "text/x-python",
   "name": "python",
   "nbconvert_exporter": "python",
   "pygments_lexer": "ipython3",
   "version": "3.11.7"
  }
 },
 "nbformat": 4,
 "nbformat_minor": 5
}
