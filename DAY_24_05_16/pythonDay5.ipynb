{
 "cells": [
  {
   "cell_type": "code",
   "execution_count": 1,
   "id": "23bfbfa3-41ea-48c0-800c-235dc6ec7809",
   "metadata": {},
   "outputs": [],
   "source": [
    "import time"
   ]
  },
  {
   "cell_type": "code",
   "execution_count": 2,
   "id": "dd8e831f-e0ab-4961-a912-dfa2b2234bfe",
   "metadata": {},
   "outputs": [
    {
     "data": {
      "text/plain": [
       "'Thu May 16 09:24:05 2024'"
      ]
     },
     "execution_count": 2,
     "metadata": {},
     "output_type": "execute_result"
    }
   ],
   "source": [
    "time.ctime()"
   ]
  },
  {
   "cell_type": "code",
   "execution_count": 3,
   "id": "7fc4b573-49d5-490d-9d1a-3c372bffc867",
   "metadata": {},
   "outputs": [],
   "source": [
    "from time import ctime as ct"
   ]
  },
  {
   "cell_type": "code",
   "execution_count": 5,
   "id": "23442877-d9ac-4da4-824c-9f2d073e0d41",
   "metadata": {},
   "outputs": [
    {
     "data": {
      "text/plain": [
       "'Thu May 16 09:24:36 2024'"
      ]
     },
     "execution_count": 5,
     "metadata": {},
     "output_type": "execute_result"
    }
   ],
   "source": [
    "ct()"
   ]
  },
  {
   "cell_type": "code",
   "execution_count": 6,
   "id": "003b26f9-c979-4a8f-a7cb-f990994ae37f",
   "metadata": {},
   "outputs": [],
   "source": [
    "import time as t"
   ]
  },
  {
   "cell_type": "code",
   "execution_count": 8,
   "id": "30f63a18-ab43-4874-a847-42fe32110db1",
   "metadata": {},
   "outputs": [
    {
     "data": {
      "text/plain": [
       "'Thu May 16 09:25:01 2024'"
      ]
     },
     "execution_count": 8,
     "metadata": {},
     "output_type": "execute_result"
    }
   ],
   "source": [
    "t.ctime()"
   ]
  },
  {
   "cell_type": "code",
   "execution_count": 11,
   "id": "838279fa-2f21-4ec2-ac0c-4bbc9c59d133",
   "metadata": {},
   "outputs": [
    {
     "name": "stdout",
     "output_type": "stream",
     "text": [
      "Writing c:/pylib/f2.py\n"
     ]
    }
   ],
   "source": [
    "%%writefile \"c:/pylib/f2.py\"\n",
    "def fibo1(n):\n",
    "    a, b = 0, 1\n",
    "    while b<n:\n",
    "        print(b, end=' ')\n",
    "        a, b = b, a+b\n",
    "    print()\n",
    "    \n",
    "def fibo2(n):\n",
    "    result = []\n",
    "    a, b = 0, 1\n",
    "    while b<n:\n",
    "        result.append(b)\n",
    "        a, b = b, a+b\n",
    "    return result"
   ]
  },
  {
   "cell_type": "code",
   "execution_count": 24,
   "id": "3aa531c5-ab0a-447b-9724-eeee5656555f",
   "metadata": {},
   "outputs": [],
   "source": [
    "class Person:\n",
    "    name = 'Kildong'\n",
    "    gender = 'M'\n",
    "\n",
    "    def print_info(self):\n",
    "        print('method call')\n",
    "        print(self.name, self.gender)"
   ]
  },
  {
   "cell_type": "code",
   "execution_count": 26,
   "id": "62141840-c778-4f0a-b64b-a5d8601d1149",
   "metadata": {},
   "outputs": [
    {
     "name": "stdout",
     "output_type": "stream",
     "text": [
      "Kildong\n",
      "method call\n",
      "sunsin F\n"
     ]
    }
   ],
   "source": [
    "p1 = Person()\n",
    "print(p1.name)\n",
    "#p1.print_info()\n",
    "#Person.print_info(p1)\n",
    "p1.name = 'sunsin'\n",
    "p1.gender = 'F'\n",
    "p1.print_info()"
   ]
  },
  {
   "cell_type": "code",
   "execution_count": 56,
   "id": "94fa6f95-56c1-4256-bc43-f4dcbd683d0d",
   "metadata": {},
   "outputs": [],
   "source": [
    "class Person:\n",
    "    name = '홍길동'\n",
    "    gender = '남자'\n",
    "\n",
    "    def print_info(self):\n",
    "        print('Person내 메서드')\n",
    "        print('{}님은 {}입니다.'.format(self.name, self.gender))\n",
    "\n",
    "    @classmethod\n",
    "    def do_(cls):\n",
    "        print('이름 : {}, 성별 : {}'.format(cls.name, cls.gender))\n",
    "\n",
    "    @staticmethod\n",
    "    def that_():\n",
    "        print('이름은 {}이고, 성별은 {}입니다.'.format(Person.name, Person.gender));"
   ]
  },
  {
   "cell_type": "code",
   "execution_count": 57,
   "id": "f0f429c0-8024-4072-a37b-47af6cb5cd49",
   "metadata": {},
   "outputs": [],
   "source": [
    "p1 = Person()"
   ]
  },
  {
   "cell_type": "code",
   "execution_count": 29,
   "id": "14b36ce2-ae56-4588-a834-872ba4ea6157",
   "metadata": {},
   "outputs": [
    {
     "data": {
      "text/plain": [
       "<__main__.Person at 0x1e929d57850>"
      ]
     },
     "execution_count": 29,
     "metadata": {},
     "output_type": "execute_result"
    }
   ],
   "source": [
    "p1"
   ]
  },
  {
   "cell_type": "code",
   "execution_count": 30,
   "id": "a65c9e4b-a3ef-43c4-a71c-38891284245e",
   "metadata": {},
   "outputs": [
    {
     "data": {
      "text/plain": [
       "__main__.Person"
      ]
     },
     "execution_count": 30,
     "metadata": {},
     "output_type": "execute_result"
    }
   ],
   "source": [
    "type(p1)"
   ]
  },
  {
   "cell_type": "code",
   "execution_count": 34,
   "id": "525ccc0a-b8a1-446d-8f1b-ca3b82400324",
   "metadata": {},
   "outputs": [
    {
     "name": "stdout",
     "output_type": "stream",
     "text": [
      "홍길동\n"
     ]
    }
   ],
   "source": [
    "print(p1.name)"
   ]
  },
  {
   "cell_type": "code",
   "execution_count": 55,
   "id": "47ac2470-299f-44fe-a8e2-3b9eb0bb7bec",
   "metadata": {},
   "outputs": [
    {
     "name": "stdout",
     "output_type": "stream",
     "text": [
      "Person내 메서드\n",
      "홍길동님은 남자입니다.\n"
     ]
    }
   ],
   "source": [
    "p1.print_info()"
   ]
  },
  {
   "cell_type": "code",
   "execution_count": 38,
   "id": "dc03968c-1c25-4d1c-9e5d-9bdc79b0ebdb",
   "metadata": {},
   "outputs": [
    {
     "name": "stdout",
     "output_type": "stream",
     "text": [
      "Person내 메서드\n"
     ]
    }
   ],
   "source": [
    "Person.print_info()"
   ]
  },
  {
   "cell_type": "code",
   "execution_count": 58,
   "id": "ba7335bf-778f-4d1f-b2c3-aa34631212e5",
   "metadata": {},
   "outputs": [
    {
     "name": "stdout",
     "output_type": "stream",
     "text": [
      "이름 : 홍길동, 성별 : 남자\n"
     ]
    }
   ],
   "source": [
    "Person.do_()"
   ]
  },
  {
   "cell_type": "code",
   "execution_count": 59,
   "id": "c113734d-2ac7-47e0-9613-237ac3bc557d",
   "metadata": {},
   "outputs": [
    {
     "name": "stdout",
     "output_type": "stream",
     "text": [
      "이름은 홍길동이고, 성별은 남자입니다.\n"
     ]
    }
   ],
   "source": [
    "Person.that_()"
   ]
  },
  {
   "cell_type": "code",
   "execution_count": 60,
   "id": "9d3e9e58-d416-47c3-b86a-85660d786f52",
   "metadata": {},
   "outputs": [],
   "source": [
    "p1 = Person()"
   ]
  },
  {
   "cell_type": "code",
   "execution_count": 61,
   "id": "35d4faa6-743e-4fd5-a01e-ef6f29a233d9",
   "metadata": {},
   "outputs": [
    {
     "name": "stdout",
     "output_type": "stream",
     "text": [
      "이름 : 홍길동, 성별 : 남자\n"
     ]
    }
   ],
   "source": [
    "p1.do_()"
   ]
  },
  {
   "cell_type": "code",
   "execution_count": 62,
   "id": "572c131c-e16d-4aac-8c1d-e632f9875806",
   "metadata": {},
   "outputs": [],
   "source": [
    "p1.name = '이순신'"
   ]
  },
  {
   "cell_type": "code",
   "execution_count": 63,
   "id": "1a22481c-a3ec-440c-9434-ff7b70ee5879",
   "metadata": {},
   "outputs": [
    {
     "name": "stdout",
     "output_type": "stream",
     "text": [
      "이름 : 홍길동, 성별 : 남자\n"
     ]
    }
   ],
   "source": [
    "p1.do_()"
   ]
  },
  {
   "cell_type": "code",
   "execution_count": 64,
   "id": "8c9b1fcf-7e4d-4b65-8587-28792051665f",
   "metadata": {},
   "outputs": [
    {
     "name": "stdout",
     "output_type": "stream",
     "text": [
      "Person내 메서드\n",
      "이순신님은 남자입니다.\n"
     ]
    }
   ],
   "source": [
    "p1.print_info()"
   ]
  },
  {
   "cell_type": "code",
   "execution_count": 65,
   "id": "ff43ae6d-a209-4c8e-925f-3d5cb02222dd",
   "metadata": {},
   "outputs": [
    {
     "name": "stdout",
     "output_type": "stream",
     "text": [
      "이름은 홍길동이고, 성별은 남자입니다.\n"
     ]
    }
   ],
   "source": [
    "p1.that_()"
   ]
  },
  {
   "cell_type": "code",
   "execution_count": 66,
   "id": "4a243320-d173-401c-a786-782c5dd7ad30",
   "metadata": {},
   "outputs": [],
   "source": [
    "class Person:\n",
    "    def __init__(self):\n",
    "        print('Person 객체({})를 생성합니다.'.format(id(self)))\n",
    "        self.name = '홍길동'\n",
    "        self.gender = '남자'\n",
    "\n",
    "    def __del__(self):\n",
    "        print('Person 객체({})를 소멸시킵니다.'.format(id(self)))\n",
    "\n",
    "    def print_info(self):\n",
    "        print('{}님은 {}입니다.'.format(self.name, self.gender))"
   ]
  },
  {
   "cell_type": "code",
   "execution_count": 73,
   "id": "9ba16bc6-5f8f-4ba8-9281-c328e0ac1aea",
   "metadata": {},
   "outputs": [
    {
     "name": "stdout",
     "output_type": "stream",
     "text": [
      "Person 객체(2100940461776)를 생성합니다.\n",
      "Person 객체(2100941768400)를 소멸시킵니다.\n"
     ]
    }
   ],
   "source": [
    "p1 = Person()"
   ]
  },
  {
   "cell_type": "code",
   "execution_count": 68,
   "id": "e5908ecc-ef35-43e2-800f-0b8fa440ad6a",
   "metadata": {},
   "outputs": [
    {
     "name": "stdout",
     "output_type": "stream",
     "text": [
      "홍길동님은 남자입니다.\n"
     ]
    }
   ],
   "source": [
    "p1.print_info()"
   ]
  },
  {
   "cell_type": "code",
   "execution_count": 69,
   "id": "7837d627-4543-4fb0-8c27-13ece686296f",
   "metadata": {},
   "outputs": [],
   "source": [
    "p2 = p1"
   ]
  },
  {
   "cell_type": "code",
   "execution_count": 70,
   "id": "3490580d-21fb-4342-8c10-2b36293027d0",
   "metadata": {},
   "outputs": [],
   "source": [
    "p1 = None"
   ]
  },
  {
   "cell_type": "code",
   "execution_count": 71,
   "id": "7715c454-619d-4cc3-ab44-efd8f744e19a",
   "metadata": {},
   "outputs": [],
   "source": [
    "p2 = None"
   ]
  },
  {
   "cell_type": "code",
   "execution_count": 74,
   "id": "3c103cc4-cf9a-4e7f-8421-a9a1b7704560",
   "metadata": {},
   "outputs": [
    {
     "name": "stdout",
     "output_type": "stream",
     "text": [
      "Person 객체(2100940335696)를 생성합니다.\n"
     ]
    }
   ],
   "source": [
    "p2 = Person()"
   ]
  },
  {
   "cell_type": "code",
   "execution_count": 75,
   "id": "68fcf701-fce5-48b3-8aac-3d2f7c2887b9",
   "metadata": {},
   "outputs": [
    {
     "name": "stdout",
     "output_type": "stream",
     "text": [
      "Person 객체(2100940335696)를 소멸시킵니다.\n"
     ]
    }
   ],
   "source": [
    "p2 = None"
   ]
  },
  {
   "cell_type": "code",
   "execution_count": 76,
   "id": "94966207-806e-4705-bf28-64a59eda501d",
   "metadata": {},
   "outputs": [
    {
     "name": "stdout",
     "output_type": "stream",
     "text": [
      "Person 객체(2100942656336)를 생성합니다.\n"
     ]
    }
   ],
   "source": [
    "p3 = Person()"
   ]
  },
  {
   "cell_type": "code",
   "execution_count": 77,
   "id": "50170d79-4fd7-43a4-9caf-19b4533a6ea4",
   "metadata": {},
   "outputs": [
    {
     "name": "stdout",
     "output_type": "stream",
     "text": [
      "Person 객체(2100942656336)를 소멸시킵니다.\n"
     ]
    }
   ],
   "source": [
    "del p3"
   ]
  },
  {
   "cell_type": "code",
   "execution_count": 85,
   "id": "c25ca83a-8133-4f50-89fb-d99d1197f3bc",
   "metadata": {},
   "outputs": [],
   "source": [
    "class Person:\n",
    "    def __init__(self, name):\n",
    "        print('Person 객체를 생성합니다.')\n",
    "        self.name = name\n",
    "        self.gender = '여자'\n",
    "    def __init__(self, name, gender):\n",
    "        print('Person 객체를 생성합니다.')\n",
    "        self.name = name\n",
    "        self.gender = gender\n",
    "\n",
    "    def __del__(self):\n",
    "        print('Person 객체를 소멸시킵니다.')\n",
    "\n",
    "    def print_info(self):\n",
    "        print('{}님은 {}입니다.'.format(self.name, self.gender))"
   ]
  },
  {
   "cell_type": "code",
   "execution_count": 79,
   "id": "f9bffa7b-6df8-46cb-89d4-70450092ad35",
   "metadata": {},
   "outputs": [],
   "source": [
    "del p1, p2"
   ]
  },
  {
   "cell_type": "code",
   "execution_count": 87,
   "id": "1626e98f-8ca3-4070-b974-88875520afb4",
   "metadata": {},
   "outputs": [
    {
     "name": "stdout",
     "output_type": "stream",
     "text": [
      "Person 객체를 생성합니다.\n",
      "Person 객체를 소멸시킵니다.\n"
     ]
    }
   ],
   "source": [
    "p1 = Person(\"홍길서\", '여자')"
   ]
  },
  {
   "cell_type": "code",
   "execution_count": 81,
   "id": "762f9125-bbd4-42d4-8c13-0cb3ae87fbe9",
   "metadata": {},
   "outputs": [
    {
     "name": "stdout",
     "output_type": "stream",
     "text": [
      "홍길서님은 여자입니다.\n"
     ]
    }
   ],
   "source": [
    "p1.print_info()"
   ]
  },
  {
   "cell_type": "code",
   "execution_count": 108,
   "id": "0ee433df-d774-48ab-ad65-94998ba6c126",
   "metadata": {},
   "outputs": [],
   "source": [
    "class Person:\n",
    "    def __init__(self, name, gender):\n",
    "        self.name = name\n",
    "        self.gender = gender\n",
    "\n",
    "    def __str__(self):\n",
    "        return \"name: {0}, gender: {1}\".format(self.name, self.gender)\n",
    "\n",
    "    def print_info(self):\n",
    "        print('{}님은 {}입니다.'.format(self.name, self.gender))"
   ]
  },
  {
   "cell_type": "code",
   "execution_count": 139,
   "id": "94a0ad83-0ae6-4058-b0e1-1ad70d182d65",
   "metadata": {},
   "outputs": [],
   "source": [
    "class Student(Person):\n",
    "    __count = 0\n",
    "    \n",
    "    def __init__(self, name, gender, major):\n",
    "        #self.name = name\n",
    "        #self.gender = gender\n",
    "        #super().__init__(name, gender)\n",
    "        Student._Student__count += 1\n",
    "        Person.__init__(self, name, gender)\n",
    "        self.major = major\n",
    "\n",
    "    def __del__(self):\n",
    "        Student._Student__count -= 1\n",
    "\n",
    "    def __str__(self):\n",
    "        return super().__str__() + ', major:{}'.format(self.major)\n",
    "        \n",
    "    def print_info(self):\n",
    "        super().print_info()\n",
    "        print('{}님은 {}이며, 전공은 {}입니다.'.format(self.name, self.gender, self.major))\n",
    "\n",
    "    @staticmethod\n",
    "    def get_count():\n",
    "        return Student._Student__count"
   ]
  },
  {
   "cell_type": "code",
   "execution_count": 140,
   "id": "5fe3ce20-99e8-4eb6-99d2-242f0aaa2ae9",
   "metadata": {},
   "outputs": [
    {
     "data": {
      "text/plain": [
       "True"
      ]
     },
     "execution_count": 140,
     "metadata": {},
     "output_type": "execute_result"
    }
   ],
   "source": [
    "issubclass(Student, Person)"
   ]
  },
  {
   "cell_type": "code",
   "execution_count": 141,
   "id": "67ddeb07-99c9-4cd4-958a-29d1d7455c82",
   "metadata": {},
   "outputs": [
    {
     "name": "stdout",
     "output_type": "stream",
     "text": [
      "홍길남님은 남자입니다.\n",
      "홍길남님은 남자이며, 전공은 경제학입니다.\n"
     ]
    },
    {
     "data": {
      "text/plain": [
       "1"
      ]
     },
     "execution_count": 141,
     "metadata": {},
     "output_type": "execute_result"
    }
   ],
   "source": [
    "s1 = Student('홍길남', '남자', '경제학')\n",
    "s1.print_info()\n",
    "Student.get_count()"
   ]
  },
  {
   "cell_type": "code",
   "execution_count": 142,
   "id": "c3d00776-f2ce-473d-a926-2c0cb0364d0a",
   "metadata": {},
   "outputs": [
    {
     "name": "stdout",
     "output_type": "stream",
     "text": [
      "홍길서님은 여자입니다.\n",
      "홍길서님은 여자이며, 전공은 컴퓨터공학입니다.\n"
     ]
    },
    {
     "data": {
      "text/plain": [
       "2"
      ]
     },
     "execution_count": 142,
     "metadata": {},
     "output_type": "execute_result"
    }
   ],
   "source": [
    "s2 = Student('홍길서', '여자', '컴퓨터공학')\n",
    "s2.print_info()\n",
    "Student.get_count()"
   ]
  },
  {
   "cell_type": "code",
   "execution_count": 118,
   "id": "688acae2-8d71-4c14-97cd-ae162c3340cb",
   "metadata": {},
   "outputs": [
    {
     "data": {
      "text/plain": [
       "mappingproxy({'__module__': '__main__',\n",
       "              '__init__': <function __main__.Student.__init__(self, name, gender, major)>,\n",
       "              '__del__': <function __main__.Student.__del__(self)>,\n",
       "              'print_info': <function __main__.Student.print_info(self)>,\n",
       "              '__doc__': None})"
      ]
     },
     "execution_count": 118,
     "metadata": {},
     "output_type": "execute_result"
    }
   ],
   "source": [
    "Student.__dict__"
   ]
  },
  {
   "cell_type": "code",
   "execution_count": 143,
   "id": "6de3bc18-62fc-487e-9f0d-11f4f32c36e9",
   "metadata": {},
   "outputs": [],
   "source": [
    "s3 = Student('홍길북', '남자', '심리학')"
   ]
  },
  {
   "cell_type": "code",
   "execution_count": 128,
   "id": "f01a1a83-9e43-4c76-bc82-ef818a2b0fc5",
   "metadata": {},
   "outputs": [
    {
     "name": "stdout",
     "output_type": "stream",
     "text": [
      "name: 홍길북, gender: 남자, major:심리학\n"
     ]
    }
   ],
   "source": [
    "print(s3)"
   ]
  },
  {
   "cell_type": "code",
   "execution_count": 129,
   "id": "cc4c8d81-8aba-4004-8d89-38d510c479e6",
   "metadata": {},
   "outputs": [
    {
     "name": "stdout",
     "output_type": "stream",
     "text": [
      "홍길북님은 남자입니다.\n",
      "홍길북님은 남자이며, 전공은 심리학입니다.\n"
     ]
    }
   ],
   "source": [
    "s3.print_info()"
   ]
  },
  {
   "cell_type": "code",
   "execution_count": 144,
   "id": "0f9362cd-7478-47a3-b39f-e12a26840941",
   "metadata": {},
   "outputs": [
    {
     "data": {
      "text/plain": [
       "3"
      ]
     },
     "execution_count": 144,
     "metadata": {},
     "output_type": "execute_result"
    }
   ],
   "source": [
    "Student._Student__count"
   ]
  },
  {
   "cell_type": "code",
   "execution_count": 145,
   "id": "db412b8d-248f-4d03-8111-830fd067da44",
   "metadata": {},
   "outputs": [
    {
     "data": {
      "text/plain": [
       "2"
      ]
     },
     "execution_count": 145,
     "metadata": {},
     "output_type": "execute_result"
    }
   ],
   "source": [
    "s1 = None\n",
    "Student.get_count()"
   ]
  },
  {
   "cell_type": "code",
   "execution_count": 146,
   "id": "a56f0e03-c436-403a-b1be-6a9042e1e445",
   "metadata": {},
   "outputs": [
    {
     "data": {
      "text/plain": [
       "1"
      ]
     },
     "execution_count": 146,
     "metadata": {},
     "output_type": "execute_result"
    }
   ],
   "source": [
    "del s2\n",
    "Student.get_count()"
   ]
  },
  {
   "cell_type": "code",
   "execution_count": 135,
   "id": "c4ed88d0-ddf1-45e9-9047-c5d591a1494d",
   "metadata": {},
   "outputs": [],
   "source": [
    "del s1"
   ]
  },
  {
   "cell_type": "code",
   "execution_count": 148,
   "id": "c4573c29-e556-4a60-85ef-b1aa9b7fc38f",
   "metadata": {},
   "outputs": [],
   "source": [
    "del s3"
   ]
  },
  {
   "cell_type": "code",
   "execution_count": 149,
   "id": "c5e067c7-e1ba-462b-96b9-cb3616072e00",
   "metadata": {},
   "outputs": [
    {
     "data": {
      "text/plain": [
       "0"
      ]
     },
     "execution_count": 149,
     "metadata": {},
     "output_type": "execute_result"
    }
   ],
   "source": [
    "Student.get_count()"
   ]
  },
  {
   "cell_type": "code",
   "execution_count": null,
   "id": "7118e2b9-9308-4aa6-93b8-7401c5121d51",
   "metadata": {},
   "outputs": [],
   "source": []
  }
 ],
 "metadata": {
  "kernelspec": {
   "display_name": "Python 3 (ipykernel)",
   "language": "python",
   "name": "python3"
  },
  "language_info": {
   "codemirror_mode": {
    "name": "ipython",
    "version": 3
   },
   "file_extension": ".py",
   "mimetype": "text/x-python",
   "name": "python",
   "nbconvert_exporter": "python",
   "pygments_lexer": "ipython3",
   "version": "3.11.7"
  }
 },
 "nbformat": 4,
 "nbformat_minor": 5
}
