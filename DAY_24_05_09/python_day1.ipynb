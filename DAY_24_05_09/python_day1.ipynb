{
 "cells": [
  {
   "cell_type": "code",
   "execution_count": 1,
   "id": "4a22fd47-038d-46df-af5d-0ce5ce097145",
   "metadata": {},
   "outputs": [
    {
     "name": "stdout",
     "output_type": "stream",
     "text": [
      "hello python\n"
     ]
    }
   ],
   "source": [
    "print('hello python')"
   ]
  },
  {
   "cell_type": "code",
   "execution_count": 6,
   "id": "d9737677-4139-47c8-befd-29dff431ada3",
   "metadata": {},
   "outputs": [
    {
     "name": "stdout",
     "output_type": "stream",
     "text": [
      "hello world\n"
     ]
    }
   ],
   "source": [
    "print('hello world')"
   ]
  },
  {
   "cell_type": "code",
   "execution_count": 27,
   "id": "fed6e2c1-b92e-4672-a7b3-2a7242a9aaac",
   "metadata": {},
   "outputs": [
    {
     "name": "stdout",
     "output_type": "stream",
     "text": [
      "10\n"
     ]
    }
   ],
   "source": [
    "a = 10\n",
    "print(a)"
   ]
  },
  {
   "cell_type": "code",
   "execution_count": 28,
   "id": "9782a104-c782-493d-bdb3-5a2ac3ccc91e",
   "metadata": {},
   "outputs": [
    {
     "data": {
      "text/plain": [
       "1469621052464"
      ]
     },
     "execution_count": 28,
     "metadata": {},
     "output_type": "execute_result"
    }
   ],
   "source": [
    "id(a)\n",
    "id(print)"
   ]
  },
  {
   "cell_type": "code",
   "execution_count": 29,
   "id": "eb6d7461-8a8a-49d8-ba90-88536ceb6e69",
   "metadata": {},
   "outputs": [
    {
     "name": "stdout",
     "output_type": "stream",
     "text": [
      "140706446296136\n",
      "1469621052464\n"
     ]
    }
   ],
   "source": [
    "# 여러 값을 출력하려면 반드시 print() 함수로 출력해야 함.\n",
    "print(id(a))\n",
    "print(id(print))"
   ]
  },
  {
   "cell_type": "code",
   "execution_count": 30,
   "id": "56d76b42-a165-4292-ba15-1cc08e4d9183",
   "metadata": {},
   "outputs": [
    {
     "name": "stdout",
     "output_type": "stream",
     "text": [
      "10\n"
     ]
    }
   ],
   "source": [
    "print(a)"
   ]
  },
  {
   "cell_type": "code",
   "execution_count": 31,
   "id": "4f92cd17-0cfb-4ccc-9aed-30ec6bbd9099",
   "metadata": {},
   "outputs": [],
   "source": [
    "# 사용하지 않는 변수를 지움, 현재 커널에서 변수 삭제\n",
    "del a"
   ]
  },
  {
   "cell_type": "code",
   "execution_count": 32,
   "id": "a238f927-7305-466e-8b96-2acca6f46e77",
   "metadata": {},
   "outputs": [
    {
     "ename": "NameError",
     "evalue": "name 'a' is not defined",
     "output_type": "error",
     "traceback": [
      "\u001b[1;31m---------------------------------------------------------------------------\u001b[0m",
      "\u001b[1;31mNameError\u001b[0m                                 Traceback (most recent call last)",
      "Cell \u001b[1;32mIn[32], line 1\u001b[0m\n\u001b[1;32m----> 1\u001b[0m \u001b[38;5;28mprint\u001b[39m(a)\n",
      "\u001b[1;31mNameError\u001b[0m: name 'a' is not defined"
     ]
    }
   ],
   "source": [
    "print(a)"
   ]
  },
  {
   "cell_type": "code",
   "execution_count": 33,
   "id": "f9e2df9f-a734-4f2f-a91e-044fdece6e33",
   "metadata": {},
   "outputs": [],
   "source": [
    "a, b = 10, 20"
   ]
  },
  {
   "cell_type": "code",
   "execution_count": 34,
   "id": "8d7d1582-09d8-4c62-aa6a-a984b399a26c",
   "metadata": {},
   "outputs": [
    {
     "name": "stdout",
     "output_type": "stream",
     "text": [
      "10\n",
      "20\n"
     ]
    }
   ],
   "source": [
    "print(a)\n",
    "print(b)"
   ]
  },
  {
   "cell_type": "code",
   "execution_count": 35,
   "id": "13b240e0-7d16-4906-a11b-b48117a5c3ec",
   "metadata": {},
   "outputs": [],
   "source": [
    "a, b = 10, 20\n",
    "a, b = b, a+b"
   ]
  },
  {
   "cell_type": "code",
   "execution_count": 36,
   "id": "642bccef-50f9-46fb-9d33-d0c94024c7cd",
   "metadata": {},
   "outputs": [
    {
     "name": "stdout",
     "output_type": "stream",
     "text": [
      "20 30\n"
     ]
    }
   ],
   "source": [
    "print(a, b)"
   ]
  },
  {
   "cell_type": "code",
   "execution_count": 45,
   "id": "f024a30e-8c8d-4276-b6af-a50eebc87f5e",
   "metadata": {},
   "outputs": [
    {
     "name": "stdout",
     "output_type": "stream",
     "text": [
      "\n"
     ]
    }
   ],
   "source": [
    "# help(print)\n",
    "print()"
   ]
  },
  {
   "cell_type": "markdown",
   "id": "f11face8-89d0-4c23-a892-cf784947238c",
   "metadata": {},
   "source": [
    "현재 선언된 변수 목록을 보여줌"
   ]
  },
  {
   "cell_type": "code",
   "execution_count": 53,
   "id": "13e01871-cedb-4c31-879d-1678989424de",
   "metadata": {},
   "outputs": [
    {
     "name": "stdout",
     "output_type": "stream",
     "text": [
      "Variable   Type    Data/Info\n",
      "----------------------------\n",
      "a          int     20\n",
      "b          int     30\n"
     ]
    }
   ],
   "source": [
    "whos"
   ]
  },
  {
   "cell_type": "code",
   "execution_count": 64,
   "id": "229a2337-cf5f-4b25-b221-b8f9031fa1e5",
   "metadata": {},
   "outputs": [
    {
     "name": "stdin",
     "output_type": "stream",
     "text": [
      "숫자를 입력하세요 100\n"
     ]
    }
   ],
   "source": [
    "inputData = int(input('숫자를 입력하세요'))"
   ]
  },
  {
   "cell_type": "code",
   "execution_count": 65,
   "id": "6a57668b-2b14-465f-886c-dd0e7e2b014a",
   "metadata": {},
   "outputs": [
    {
     "name": "stdin",
     "output_type": "stream",
     "text": [
      "숫자를 입력하세요 200\n"
     ]
    }
   ],
   "source": [
    "inputData2 = int(input('숫자를 입력하세요'))"
   ]
  },
  {
   "cell_type": "code",
   "execution_count": 66,
   "id": "854bffbe-9c47-431b-ac9a-ab9e33ca1615",
   "metadata": {},
   "outputs": [
    {
     "name": "stdout",
     "output_type": "stream",
     "text": [
      "300\n"
     ]
    }
   ],
   "source": [
    "print(inputData + inputData2)"
   ]
  },
  {
   "cell_type": "code",
   "execution_count": 71,
   "id": "4c0b0468-b72f-4482-9f8b-78ba294fd23c",
   "metadata": {},
   "outputs": [
    {
     "name": "stdout",
     "output_type": "stream",
     "text": [
      "hello-world*kosa world\n"
     ]
    }
   ],
   "source": [
    "print('hello', 'world', sep='-', end='*')\n",
    "print('kosa', 'world')"
   ]
  },
  {
   "cell_type": "code",
   "execution_count": 72,
   "id": "e48e132f-a9fe-495a-a201-3d6db48c400d",
   "metadata": {},
   "outputs": [
    {
     "data": {
      "text/plain": [
       "int"
      ]
     },
     "execution_count": 72,
     "metadata": {},
     "output_type": "execute_result"
    }
   ],
   "source": [
    "type(10)"
   ]
  },
  {
   "cell_type": "code",
   "execution_count": 73,
   "id": "d296dbd4-f615-427a-8687-a2ce592ac3af",
   "metadata": {},
   "outputs": [
    {
     "data": {
      "text/plain": [
       "float"
      ]
     },
     "execution_count": 73,
     "metadata": {},
     "output_type": "execute_result"
    }
   ],
   "source": [
    "type(3.5)"
   ]
  },
  {
   "cell_type": "code",
   "execution_count": 74,
   "id": "d66c845d-2b8f-4c17-8556-59ac17a38d98",
   "metadata": {},
   "outputs": [
    {
     "data": {
      "text/plain": [
       "float"
      ]
     },
     "execution_count": 74,
     "metadata": {},
     "output_type": "execute_result"
    }
   ],
   "source": [
    "type(3.48131248231848)"
   ]
  },
  {
   "cell_type": "code",
   "execution_count": 75,
   "id": "3afbba8b-7b84-450f-a9b8-16091eebeec5",
   "metadata": {},
   "outputs": [
    {
     "data": {
      "text/plain": [
       "complex"
      ]
     },
     "execution_count": 75,
     "metadata": {},
     "output_type": "execute_result"
    }
   ],
   "source": [
    "type(2+3j)"
   ]
  },
  {
   "cell_type": "code",
   "execution_count": 77,
   "id": "aad45280-c3bd-43c2-b881-978050d460e5",
   "metadata": {},
   "outputs": [],
   "source": [
    "# 문자와 문자열의 구분이 없다.\n",
    "name = 'JinKyoung'"
   ]
  },
  {
   "cell_type": "code",
   "execution_count": 78,
   "id": "1807a4f7-2000-43a5-b152-327f543dc30e",
   "metadata": {},
   "outputs": [],
   "source": [
    "address = \"서울시 강남구\""
   ]
  },
  {
   "cell_type": "code",
   "execution_count": 79,
   "id": "e65b1f8c-4a03-46a1-9e00-8d9b12e339a2",
   "metadata": {},
   "outputs": [
    {
     "name": "stdout",
     "output_type": "stream",
     "text": [
      "JinKyoung 서울시 강남구\n"
     ]
    }
   ],
   "source": [
    "print(name, address)"
   ]
  },
  {
   "cell_type": "code",
   "execution_count": 80,
   "id": "0f01caf5-7bc8-4347-b7ff-ffccb34dc320",
   "metadata": {},
   "outputs": [],
   "source": [
    "text = \"\"\"\n",
    "겹따옴표 3개 또는 홑따옴표 3개로 여러 줄 문자를 만들 수 있음\n",
    "\"\"\""
   ]
  },
  {
   "cell_type": "code",
   "execution_count": 81,
   "id": "4e9250d6-45bb-4fca-9cb1-a2eafb0a9384",
   "metadata": {},
   "outputs": [
    {
     "name": "stdout",
     "output_type": "stream",
     "text": [
      "\n",
      "겹따옴표 3개 또는 홑따옴표 3개로 여러 줄 문자를 만들 수 있음\n",
      "\n"
     ]
    }
   ],
   "source": [
    "print(text)"
   ]
  },
  {
   "cell_type": "code",
   "execution_count": 82,
   "id": "2a9a2162-719c-4154-baa8-eaed404d1fba",
   "metadata": {},
   "outputs": [
    {
     "ename": "SyntaxError",
     "evalue": "invalid syntax (2012670937.py, line 1)",
     "output_type": "error",
     "traceback": [
      "\u001b[1;36m  Cell \u001b[1;32mIn[82], line 1\u001b[1;36m\u001b[0m\n\u001b[1;33m    a = 1 + 2 +\u001b[0m\n\u001b[1;37m                ^\u001b[0m\n\u001b[1;31mSyntaxError\u001b[0m\u001b[1;31m:\u001b[0m invalid syntax\n"
     ]
    }
   ],
   "source": [
    "a = 1 + 2 + \n",
    "3 + 4"
   ]
  },
  {
   "cell_type": "code",
   "execution_count": 83,
   "id": "13f39b5f-b01e-43b5-9ef5-593b73e502e7",
   "metadata": {},
   "outputs": [],
   "source": [
    "a = 1 + 2 + \\\n",
    "3 + 4"
   ]
  },
  {
   "cell_type": "code",
   "execution_count": 84,
   "id": "9802966b-202c-4693-8f3f-0467e0546e7b",
   "metadata": {},
   "outputs": [
    {
     "name": "stdout",
     "output_type": "stream",
     "text": [
      "10\n"
     ]
    }
   ],
   "source": [
    "print(a)"
   ]
  },
  {
   "cell_type": "code",
   "execution_count": 85,
   "id": "3796226d-1a56-4267-998c-4410e81f1642",
   "metadata": {},
   "outputs": [
    {
     "name": "stdout",
     "output_type": "stream",
     "text": [
      "Hello 'World' Good\n"
     ]
    }
   ],
   "source": [
    "print(\"Hello 'World' Good\")"
   ]
  },
  {
   "cell_type": "code",
   "execution_count": 86,
   "id": "4324d918-f478-4f0e-bf27-bdcd193d697b",
   "metadata": {},
   "outputs": [
    {
     "ename": "SyntaxError",
     "evalue": "invalid syntax. Perhaps you forgot a comma? (2390626294.py, line 1)",
     "output_type": "error",
     "traceback": [
      "\u001b[1;36m  Cell \u001b[1;32mIn[86], line 1\u001b[1;36m\u001b[0m\n\u001b[1;33m    print(\"Hello \"World\" Good\")\u001b[0m\n\u001b[1;37m          ^\u001b[0m\n\u001b[1;31mSyntaxError\u001b[0m\u001b[1;31m:\u001b[0m invalid syntax. Perhaps you forgot a comma?\n"
     ]
    }
   ],
   "source": [
    "print(\"Hello \"World\" Good\")"
   ]
  },
  {
   "cell_type": "code",
   "execution_count": 87,
   "id": "7f5fa0e9-fa1e-4307-b228-48ddcf65a0d8",
   "metadata": {},
   "outputs": [
    {
     "name": "stdout",
     "output_type": "stream",
     "text": [
      "Hello \"World\" Good\n"
     ]
    }
   ],
   "source": [
    "print(\"Hello \\\"World\\\" Good\")"
   ]
  },
  {
   "cell_type": "code",
   "execution_count": 88,
   "id": "bfc7ae9d-4bc7-4459-8479-dfc136062f01",
   "metadata": {},
   "outputs": [
    {
     "name": "stdout",
     "output_type": "stream",
     "text": [
      "Hello \"World\"\n"
     ]
    }
   ],
   "source": [
    "print('Hello \"World\"')"
   ]
  },
  {
   "cell_type": "code",
   "execution_count": 89,
   "id": "21caa2a0-b7c7-454f-9240-123a5b412162",
   "metadata": {},
   "outputs": [
    {
     "name": "stdout",
     "output_type": "stream",
     "text": [
      "HelloWorld\n"
     ]
    }
   ],
   "source": [
    "print(\"Hello\" + \"World\")"
   ]
  },
  {
   "cell_type": "code",
   "execution_count": 90,
   "id": "ee4ef40f-edeb-4116-a70e-a9e05886e297",
   "metadata": {},
   "outputs": [
    {
     "name": "stdout",
     "output_type": "stream",
     "text": [
      "HelloHelloHelloHelloHello\n"
     ]
    }
   ],
   "source": [
    "print(\"Hello\"*5)"
   ]
  },
  {
   "cell_type": "code",
   "execution_count": 91,
   "id": "e15194d5-c8ba-420e-b856-5bb928da28de",
   "metadata": {},
   "outputs": [],
   "source": [
    "str_ = \"Python\""
   ]
  },
  {
   "cell_type": "code",
   "execution_count": 92,
   "id": "6c91adee-224b-456e-9cd1-6fb32dea3cff",
   "metadata": {},
   "outputs": [
    {
     "data": {
      "text/plain": [
       "'P'"
      ]
     },
     "execution_count": 92,
     "metadata": {},
     "output_type": "execute_result"
    }
   ],
   "source": [
    "str_[0]"
   ]
  },
  {
   "cell_type": "code",
   "execution_count": 93,
   "id": "4d140e29-cff1-44ee-a131-41347e6e1cca",
   "metadata": {},
   "outputs": [
    {
     "data": {
      "text/plain": [
       "'h'"
      ]
     },
     "execution_count": 93,
     "metadata": {},
     "output_type": "execute_result"
    }
   ],
   "source": [
    "str_[-3]"
   ]
  },
  {
   "cell_type": "code",
   "execution_count": 94,
   "id": "85647b7b-8c9e-43f2-95be-769152c09c58",
   "metadata": {},
   "outputs": [
    {
     "data": {
      "text/plain": [
       "'Pytho'"
      ]
     },
     "execution_count": 94,
     "metadata": {},
     "output_type": "execute_result"
    }
   ],
   "source": [
    "str_[0:-1]"
   ]
  },
  {
   "cell_type": "code",
   "execution_count": 95,
   "id": "596230eb-b080-4787-9f74-a887623e2b67",
   "metadata": {},
   "outputs": [
    {
     "data": {
      "text/plain": [
       "'Python'"
      ]
     },
     "execution_count": 95,
     "metadata": {},
     "output_type": "execute_result"
    }
   ],
   "source": [
    "str_[0::]"
   ]
  },
  {
   "cell_type": "code",
   "execution_count": 96,
   "id": "e6c2af2d-b96e-4af9-8d2e-05af378f5902",
   "metadata": {},
   "outputs": [
    {
     "data": {
      "text/plain": [
       "''"
      ]
     },
     "execution_count": 96,
     "metadata": {},
     "output_type": "execute_result"
    }
   ],
   "source": [
    "str_[6:10]"
   ]
  },
  {
   "cell_type": "code",
   "execution_count": 97,
   "id": "2e2219ee-2939-4549-be10-34fb4a2296fb",
   "metadata": {},
   "outputs": [],
   "source": [
    "str_ = 'dslafjlsdjflkdjflksdjklfjdslfjldaklfkfjk'"
   ]
  },
  {
   "cell_type": "code",
   "execution_count": 98,
   "id": "db0d956d-3e4a-4dbc-a8ba-864ca70be12d",
   "metadata": {},
   "outputs": [
    {
     "data": {
      "text/plain": [
       "'dlfldfkjlsjljsflalkj'"
      ]
     },
     "execution_count": 98,
     "metadata": {},
     "output_type": "execute_result"
    }
   ],
   "source": [
    "str_[::2]"
   ]
  },
  {
   "cell_type": "code",
   "execution_count": 99,
   "id": "fbfc9e76-3d6f-42b0-94fb-7bec22ccc14f",
   "metadata": {},
   "outputs": [
    {
     "data": {
      "text/plain": [
       "'daljkfskjllkkk'"
      ]
     },
     "execution_count": 99,
     "metadata": {},
     "output_type": "execute_result"
    }
   ],
   "source": [
    "str_[::3]"
   ]
  },
  {
   "cell_type": "code",
   "execution_count": 100,
   "id": "d26d6793-943f-435a-a8bf-3c8e8976b7e3",
   "metadata": {},
   "outputs": [
    {
     "name": "stdout",
     "output_type": "stream",
     "text": [
      "\n",
      " \\ '\n"
     ]
    }
   ],
   "source": [
    "print(\"\\n \\t \\r \\\\ \\'\")"
   ]
  },
  {
   "cell_type": "code",
   "execution_count": 101,
   "id": "3b081d64-6d4d-4313-9b84-6f1379658171",
   "metadata": {},
   "outputs": [
    {
     "name": "stdout",
     "output_type": "stream",
     "text": [
      "\\n \\t \\r \\\\ \\'\n"
     ]
    }
   ],
   "source": [
    "print(\"\\\\n \\\\t \\\\r \\\\\\ \\\\'\")"
   ]
  },
  {
   "cell_type": "code",
   "execution_count": 102,
   "id": "56e78faf-bfa3-41c6-aaa6-02a4da4e521e",
   "metadata": {},
   "outputs": [
    {
     "name": "stdout",
     "output_type": "stream",
     "text": [
      "\\n \\t \\r \\\\ \\'\n"
     ]
    }
   ],
   "source": [
    "print(r\"\\n \\t \\r \\\\ \\'\")"
   ]
  },
  {
   "cell_type": "code",
   "execution_count": 104,
   "id": "0b75848d-cebb-42e5-8f4a-6f184cc6f878",
   "metadata": {},
   "outputs": [],
   "source": [
    "str_ = \"Reference site about Lorem Ipsum, giving information on its origins, as well as a random Lipsum generator.\""
   ]
  },
  {
   "cell_type": "code",
   "execution_count": 107,
   "id": "7756cb85-d013-4b70-befd-741eacdea0aa",
   "metadata": {},
   "outputs": [],
   "source": [
    "arr = str_.split(\",\")"
   ]
  },
  {
   "cell_type": "code",
   "execution_count": 110,
   "id": "2a3f7bf2-077c-427d-8864-26c3aee55d37",
   "metadata": {},
   "outputs": [
    {
     "data": {
      "text/plain": [
       "['Reference site about Lorem Ipsum',\n",
       " ' giving information on its origins',\n",
       " ' as well as a random Lipsum generator.']"
      ]
     },
     "execution_count": 110,
     "metadata": {},
     "output_type": "execute_result"
    }
   ],
   "source": [
    "arr"
   ]
  },
  {
   "cell_type": "code",
   "execution_count": 111,
   "id": "8ec8d2dc-efda-46cf-9753-048061373e7c",
   "metadata": {},
   "outputs": [
    {
     "data": {
      "text/plain": [
       "'Reference site about Lorem Ipsum  giving information on its origins  as well as a random Lipsum generator.'"
      ]
     },
     "execution_count": 111,
     "metadata": {},
     "output_type": "execute_result"
    }
   ],
   "source": [
    "' '.join(arr)"
   ]
  },
  {
   "cell_type": "code",
   "execution_count": 112,
   "id": "086772a0-ac8c-4370-ada7-1c89d7cb8bd6",
   "metadata": {},
   "outputs": [
    {
     "data": {
      "text/plain": [
       "'NiceWorld'"
      ]
     },
     "execution_count": 112,
     "metadata": {},
     "output_type": "execute_result"
    }
   ],
   "source": [
    "\"HelloWorld\".replace(\"Hello\",\"Nice\")"
   ]
  },
  {
   "cell_type": "code",
   "execution_count": 114,
   "id": "4a4531e2-3f57-432b-8324-a4dccfc07387",
   "metadata": {},
   "outputs": [
    {
     "data": {
      "text/plain": [
       "'REFERENCE SITE ABOUT LOREM IPSUM, GIVING INFORMATION ON ITS ORIGINS, AS WELL AS A RANDOM LIPSUM GENERATOR.'"
      ]
     },
     "execution_count": 114,
     "metadata": {},
     "output_type": "execute_result"
    }
   ],
   "source": [
    "str_.upper()"
   ]
  },
  {
   "cell_type": "code",
   "execution_count": 115,
   "id": "4daef93a-7763-4eee-b0b0-dbfde231458b",
   "metadata": {},
   "outputs": [
    {
     "data": {
      "text/plain": [
       "'reference site about lorem ipsum, giving information on its origins, as well as a random lipsum generator.'"
      ]
     },
     "execution_count": 115,
     "metadata": {},
     "output_type": "execute_result"
    }
   ],
   "source": [
    "str_.lower()"
   ]
  },
  {
   "cell_type": "code",
   "execution_count": 116,
   "id": "aa9be615-0f8c-4082-a47d-8f5c84e388d1",
   "metadata": {},
   "outputs": [
    {
     "data": {
      "text/plain": [
       "'Reference site about lorem ipsum, giving information on its origins, as well as a random lipsum generator.'"
      ]
     },
     "execution_count": 116,
     "metadata": {},
     "output_type": "execute_result"
    }
   ],
   "source": [
    "str_.capitalize()"
   ]
  },
  {
   "cell_type": "code",
   "execution_count": 117,
   "id": "167731a1-f62c-4b71-b920-d398d9d2b191",
   "metadata": {},
   "outputs": [
    {
     "data": {
      "text/plain": [
       "True"
      ]
     },
     "execution_count": 117,
     "metadata": {},
     "output_type": "execute_result"
    }
   ],
   "source": [
    "str_.startswith('R')"
   ]
  },
  {
   "cell_type": "code",
   "execution_count": 118,
   "id": "bb403375-d0a3-4d11-9a77-391865234400",
   "metadata": {},
   "outputs": [
    {
     "data": {
      "text/plain": [
       "False"
      ]
     },
     "execution_count": 118,
     "metadata": {},
     "output_type": "execute_result"
    }
   ],
   "source": [
    "str_.startswith('E')"
   ]
  },
  {
   "cell_type": "code",
   "execution_count": 119,
   "id": "ae0c5c8e-6e67-442b-a03b-d25f627b533f",
   "metadata": {},
   "outputs": [
    {
     "data": {
      "text/plain": [
       "True"
      ]
     },
     "execution_count": 119,
     "metadata": {},
     "output_type": "execute_result"
    }
   ],
   "source": [
    "str_.endswith('.')"
   ]
  },
  {
   "cell_type": "code",
   "execution_count": 120,
   "id": "4ed11b1d-f42c-4050-b9ea-20374ee8ccbe",
   "metadata": {},
   "outputs": [
    {
     "data": {
      "text/plain": [
       "False"
      ]
     },
     "execution_count": 120,
     "metadata": {},
     "output_type": "execute_result"
    }
   ],
   "source": [
    "str_.endswith(',')"
   ]
  },
  {
   "cell_type": "code",
   "execution_count": 121,
   "id": "9776056a-1cf1-4dbb-b92a-d7931b27dce6",
   "metadata": {},
   "outputs": [
    {
     "data": {
      "text/plain": [
       "1"
      ]
     },
     "execution_count": 121,
     "metadata": {},
     "output_type": "execute_result"
    }
   ],
   "source": [
    "str_.find('e')"
   ]
  },
  {
   "cell_type": "code",
   "execution_count": 123,
   "id": "579e915b-051c-4b6b-8b4e-3713475f8c64",
   "metadata": {},
   "outputs": [
    {
     "data": {
      "text/plain": [
       "3"
      ]
     },
     "execution_count": 123,
     "metadata": {},
     "output_type": "execute_result"
    }
   ],
   "source": [
    "str_.index('e',str_.find('e') + 1)"
   ]
  },
  {
   "cell_type": "code",
   "execution_count": 124,
   "id": "dc1f1177-8ec8-4b51-ad25-e6083e04d4bd",
   "metadata": {},
   "outputs": [
    {
     "data": {
      "text/plain": [
       "False"
      ]
     },
     "execution_count": 124,
     "metadata": {},
     "output_type": "execute_result"
    }
   ],
   "source": [
    "str_.isalnum()"
   ]
  },
  {
   "cell_type": "code",
   "execution_count": 125,
   "id": "0732b15b-898f-49cd-b382-1fcd6b03c239",
   "metadata": {},
   "outputs": [
    {
     "data": {
      "text/plain": [
       "False"
      ]
     },
     "execution_count": 125,
     "metadata": {},
     "output_type": "execute_result"
    }
   ],
   "source": [
    "str_.isalpha()"
   ]
  },
  {
   "cell_type": "code",
   "execution_count": 126,
   "id": "ed880f90-34d4-4785-9627-9f76bcf52585",
   "metadata": {},
   "outputs": [
    {
     "data": {
      "text/plain": [
       "False"
      ]
     },
     "execution_count": 126,
     "metadata": {},
     "output_type": "execute_result"
    }
   ],
   "source": [
    "str_.isnumeric()"
   ]
  },
  {
   "cell_type": "code",
   "execution_count": 128,
   "id": "34e141aa-df7a-43bf-bdb1-4fa81a49f4c4",
   "metadata": {},
   "outputs": [
    {
     "data": {
      "text/plain": [
       "False"
      ]
     },
     "execution_count": 128,
     "metadata": {},
     "output_type": "execute_result"
    }
   ],
   "source": [
    "str_.isdecimal()"
   ]
  },
  {
   "cell_type": "code",
   "execution_count": 129,
   "id": "a1bbadf4-905b-4209-99ea-7a9480a3f203",
   "metadata": {},
   "outputs": [
    {
     "data": {
      "text/plain": [
       "['__add__',\n",
       " '__class__',\n",
       " '__contains__',\n",
       " '__delattr__',\n",
       " '__dir__',\n",
       " '__doc__',\n",
       " '__eq__',\n",
       " '__format__',\n",
       " '__ge__',\n",
       " '__getattribute__',\n",
       " '__getitem__',\n",
       " '__getnewargs__',\n",
       " '__getstate__',\n",
       " '__gt__',\n",
       " '__hash__',\n",
       " '__init__',\n",
       " '__init_subclass__',\n",
       " '__iter__',\n",
       " '__le__',\n",
       " '__len__',\n",
       " '__lt__',\n",
       " '__mod__',\n",
       " '__mul__',\n",
       " '__ne__',\n",
       " '__new__',\n",
       " '__reduce__',\n",
       " '__reduce_ex__',\n",
       " '__repr__',\n",
       " '__rmod__',\n",
       " '__rmul__',\n",
       " '__setattr__',\n",
       " '__sizeof__',\n",
       " '__str__',\n",
       " '__subclasshook__',\n",
       " 'capitalize',\n",
       " 'casefold',\n",
       " 'center',\n",
       " 'count',\n",
       " 'encode',\n",
       " 'endswith',\n",
       " 'expandtabs',\n",
       " 'find',\n",
       " 'format',\n",
       " 'format_map',\n",
       " 'index',\n",
       " 'isalnum',\n",
       " 'isalpha',\n",
       " 'isascii',\n",
       " 'isdecimal',\n",
       " 'isdigit',\n",
       " 'isidentifier',\n",
       " 'islower',\n",
       " 'isnumeric',\n",
       " 'isprintable',\n",
       " 'isspace',\n",
       " 'istitle',\n",
       " 'isupper',\n",
       " 'join',\n",
       " 'ljust',\n",
       " 'lower',\n",
       " 'lstrip',\n",
       " 'maketrans',\n",
       " 'partition',\n",
       " 'removeprefix',\n",
       " 'removesuffix',\n",
       " 'replace',\n",
       " 'rfind',\n",
       " 'rindex',\n",
       " 'rjust',\n",
       " 'rpartition',\n",
       " 'rsplit',\n",
       " 'rstrip',\n",
       " 'split',\n",
       " 'splitlines',\n",
       " 'startswith',\n",
       " 'strip',\n",
       " 'swapcase',\n",
       " 'title',\n",
       " 'translate',\n",
       " 'upper',\n",
       " 'zfill']"
      ]
     },
     "execution_count": 129,
     "metadata": {},
     "output_type": "execute_result"
    }
   ],
   "source": [
    "dir(str)"
   ]
  },
  {
   "cell_type": "code",
   "execution_count": 130,
   "id": "9dc54d8f-1bbb-4d15-88e8-1f0c67a7e527",
   "metadata": {},
   "outputs": [
    {
     "data": {
      "text/plain": [
       "['__abs__',\n",
       " '__add__',\n",
       " '__and__',\n",
       " '__bool__',\n",
       " '__ceil__',\n",
       " '__class__',\n",
       " '__delattr__',\n",
       " '__dir__',\n",
       " '__divmod__',\n",
       " '__doc__',\n",
       " '__eq__',\n",
       " '__float__',\n",
       " '__floor__',\n",
       " '__floordiv__',\n",
       " '__format__',\n",
       " '__ge__',\n",
       " '__getattribute__',\n",
       " '__getnewargs__',\n",
       " '__getstate__',\n",
       " '__gt__',\n",
       " '__hash__',\n",
       " '__index__',\n",
       " '__init__',\n",
       " '__init_subclass__',\n",
       " '__int__',\n",
       " '__invert__',\n",
       " '__le__',\n",
       " '__lshift__',\n",
       " '__lt__',\n",
       " '__mod__',\n",
       " '__mul__',\n",
       " '__ne__',\n",
       " '__neg__',\n",
       " '__new__',\n",
       " '__or__',\n",
       " '__pos__',\n",
       " '__pow__',\n",
       " '__radd__',\n",
       " '__rand__',\n",
       " '__rdivmod__',\n",
       " '__reduce__',\n",
       " '__reduce_ex__',\n",
       " '__repr__',\n",
       " '__rfloordiv__',\n",
       " '__rlshift__',\n",
       " '__rmod__',\n",
       " '__rmul__',\n",
       " '__ror__',\n",
       " '__round__',\n",
       " '__rpow__',\n",
       " '__rrshift__',\n",
       " '__rshift__',\n",
       " '__rsub__',\n",
       " '__rtruediv__',\n",
       " '__rxor__',\n",
       " '__setattr__',\n",
       " '__sizeof__',\n",
       " '__str__',\n",
       " '__sub__',\n",
       " '__subclasshook__',\n",
       " '__truediv__',\n",
       " '__trunc__',\n",
       " '__xor__',\n",
       " 'as_integer_ratio',\n",
       " 'bit_count',\n",
       " 'bit_length',\n",
       " 'conjugate',\n",
       " 'denominator',\n",
       " 'from_bytes',\n",
       " 'imag',\n",
       " 'numerator',\n",
       " 'real',\n",
       " 'to_bytes']"
      ]
     },
     "execution_count": 130,
     "metadata": {},
     "output_type": "execute_result"
    }
   ],
   "source": [
    "dir(int)"
   ]
  },
  {
   "cell_type": "code",
   "execution_count": 131,
   "id": "5cbcd222-3f1e-4fd4-936c-8df866187255",
   "metadata": {},
   "outputs": [
    {
     "data": {
      "text/plain": [
       "['__abs__',\n",
       " '__add__',\n",
       " '__bool__',\n",
       " '__ceil__',\n",
       " '__class__',\n",
       " '__delattr__',\n",
       " '__dir__',\n",
       " '__divmod__',\n",
       " '__doc__',\n",
       " '__eq__',\n",
       " '__float__',\n",
       " '__floor__',\n",
       " '__floordiv__',\n",
       " '__format__',\n",
       " '__ge__',\n",
       " '__getattribute__',\n",
       " '__getformat__',\n",
       " '__getnewargs__',\n",
       " '__getstate__',\n",
       " '__gt__',\n",
       " '__hash__',\n",
       " '__init__',\n",
       " '__init_subclass__',\n",
       " '__int__',\n",
       " '__le__',\n",
       " '__lt__',\n",
       " '__mod__',\n",
       " '__mul__',\n",
       " '__ne__',\n",
       " '__neg__',\n",
       " '__new__',\n",
       " '__pos__',\n",
       " '__pow__',\n",
       " '__radd__',\n",
       " '__rdivmod__',\n",
       " '__reduce__',\n",
       " '__reduce_ex__',\n",
       " '__repr__',\n",
       " '__rfloordiv__',\n",
       " '__rmod__',\n",
       " '__rmul__',\n",
       " '__round__',\n",
       " '__rpow__',\n",
       " '__rsub__',\n",
       " '__rtruediv__',\n",
       " '__setattr__',\n",
       " '__sizeof__',\n",
       " '__str__',\n",
       " '__sub__',\n",
       " '__subclasshook__',\n",
       " '__truediv__',\n",
       " '__trunc__',\n",
       " 'as_integer_ratio',\n",
       " 'conjugate',\n",
       " 'fromhex',\n",
       " 'hex',\n",
       " 'imag',\n",
       " 'is_integer',\n",
       " 'real']"
      ]
     },
     "execution_count": 131,
     "metadata": {},
     "output_type": "execute_result"
    }
   ],
   "source": [
    "dir(float)"
   ]
  },
  {
   "cell_type": "code",
   "execution_count": 132,
   "id": "6c700109-9b21-4c09-8677-af7901a5efc1",
   "metadata": {},
   "outputs": [],
   "source": [
    "a = 12345"
   ]
  },
  {
   "cell_type": "code",
   "execution_count": 134,
   "id": "fe6c5272-6144-4d85-8e65-c322730f5486",
   "metadata": {},
   "outputs": [
    {
     "name": "stdout",
     "output_type": "stream",
     "text": [
      "출력: [12345], [     12345], [12345]\n"
     ]
    }
   ],
   "source": [
    "print('출력: [{}], [{:10}], [{:3}]'.format(a,a,a))"
   ]
  },
  {
   "cell_type": "code",
   "execution_count": 135,
   "id": "2169209d-0ef0-4a81-8278-45d1848b314d",
   "metadata": {},
   "outputs": [
    {
     "name": "stdout",
     "output_type": "stream",
     "text": [
      "출력: [12345], [12345.000000], [11000000111001], [30071], [3039]\n"
     ]
    }
   ],
   "source": [
    "print('출력: [{:d}], [{:f}], [{:b}], [{:o}], [{:x}]'\\\n",
    ".format(a,a,a,a,a))"
   ]
  },
  {
   "cell_type": "code",
   "execution_count": 137,
   "id": "6f4a48be-349d-4698-adb5-e1cc1a9708f3",
   "metadata": {},
   "outputs": [
    {
     "name": "stdout",
     "output_type": "stream",
     "text": [
      "출력: [12345]. [12345.000000], [   12345.000000], [  12345.00], [    12345.0000000000]\n"
     ]
    }
   ],
   "source": [
    "print('출력: [{}]. [{:f}], [{:15f}], [{:10.2f}], [{:20.10f}]'\\\n",
    ".format(a,a,a,a,a))"
   ]
  },
  {
   "cell_type": "code",
   "execution_count": 138,
   "id": "f3ff44a8-b694-493f-be69-2f577db1fd5a",
   "metadata": {},
   "outputs": [],
   "source": [
    "name, age = '홍길동', 20"
   ]
  },
  {
   "cell_type": "code",
   "execution_count": 139,
   "id": "6056b5a8-84a4-4b9c-9df7-4ba90049b598",
   "metadata": {},
   "outputs": [
    {
     "name": "stdout",
     "output_type": "stream",
     "text": [
      "출력 : 30, 20, 10\n"
     ]
    }
   ],
   "source": [
    "print('출력 : {2}, {1}, {0}'.format(10,20,30))"
   ]
  },
  {
   "cell_type": "code",
   "execution_count": 140,
   "id": "532c8f4f-6d49-4fef-b1dd-a14a09b06991",
   "metadata": {},
   "outputs": [],
   "source": [
    "b = 'Hello World'"
   ]
  },
  {
   "cell_type": "code",
   "execution_count": 141,
   "id": "a57439d5-e6dc-47a2-bea8-2e48c2fb9aea",
   "metadata": {},
   "outputs": [
    {
     "name": "stdout",
     "output_type": "stream",
     "text": [
      "출력: [Hello World], [Hello World], [Hello World         ], [Hello World]\n"
     ]
    }
   ],
   "source": [
    "print('출력: [{}], [{:s}], [{:20}], [{:5}]'\\\n",
    ".format(b,b,b,b))"
   ]
  },
  {
   "cell_type": "code",
   "execution_count": 142,
   "id": "7d6cfd89-06dc-4946-a96a-eaae257315c6",
   "metadata": {},
   "outputs": [
    {
     "name": "stdout",
     "output_type": "stream",
     "text": [
      "출력: [Hello World], [Hello], [Hello     ]\n"
     ]
    }
   ],
   "source": [
    "print('출력: [{}], [{:.5}], [{:10.5s}]'.format(b,b,b))"
   ]
  },
  {
   "cell_type": "code",
   "execution_count": 143,
   "id": "a16a2ed4-c057-4c46-b09c-a5ba0106046b",
   "metadata": {},
   "outputs": [],
   "source": [
    "a, b = 10, 'Hello'"
   ]
  },
  {
   "cell_type": "code",
   "execution_count": 144,
   "id": "9763690d-fa7f-4eb2-a8a4-62833bb8743a",
   "metadata": {},
   "outputs": [
    {
     "name": "stdout",
     "output_type": "stream",
     "text": [
      "출력: $$$$$$$$10, Hello***************, Hello_____\n"
     ]
    }
   ],
   "source": [
    "print('출력: {:$>10}, {:*<20}, {:_<10.5s}'.format(a,b,b))"
   ]
  },
  {
   "cell_type": "code",
   "execution_count": 145,
   "id": "8a10ed9e-7f3c-4253-b805-bb13df4c62f5",
   "metadata": {},
   "outputs": [],
   "source": [
    "a, b = 123, -123"
   ]
  },
  {
   "cell_type": "code",
   "execution_count": 146,
   "id": "b1127f10-e8f6-460d-916b-2d870db1ab92",
   "metadata": {},
   "outputs": [
    {
     "name": "stdout",
     "output_type": "stream",
     "text": [
      "출력: [00123], [-0123]\n"
     ]
    }
   ],
   "source": [
    "print('출력: [{:05}], [{:05}]'.format(a,b))"
   ]
  },
  {
   "cell_type": "code",
   "execution_count": 148,
   "id": "4ec63bc3-c2d8-49a1-9b99-a581c2bc673f",
   "metadata": {},
   "outputs": [
    {
     "name": "stdout",
     "output_type": "stream",
     "text": [
      "출력: [  123], [ +123], [+0123]\n"
     ]
    }
   ],
   "source": [
    "print('출력: [{:5}], [{:+5}], [{:+05}]'.format(a,a,a))"
   ]
  },
  {
   "cell_type": "code",
   "execution_count": 150,
   "id": "2cbacb40-19c0-4a95-848a-01de1e1efbd7",
   "metadata": {},
   "outputs": [
    {
     "name": "stdout",
     "output_type": "stream",
     "text": [
      "출력: [       123], [      +123], [+000000123]\n",
      "출력: [-      123], [      -123], [-000000123]\n"
     ]
    }
   ],
   "source": [
    "print('출력: [{:=10}], [{:+10}], [{:=+010}]'.format(a,a,a))\n",
    "print('출력: [{:=10}], [{:+10}], [{:=+010}]'.format(b,b,b))"
   ]
  },
  {
   "cell_type": "code",
   "execution_count": 151,
   "id": "0f56f826-a7bb-4a1d-87b9-601ed86ecac9",
   "metadata": {},
   "outputs": [
    {
     "name": "stdout",
     "output_type": "stream",
     "text": [
      "출력: [*******123], [+******123], [******+123]\n",
      "출력: [-******123], [-******123], [******-123]\n"
     ]
    }
   ],
   "source": [
    "print('출력: [{:*=10}], [{:*=+10}], [{:*>+010}]'.format(a,a,a))\n",
    "print('출력: [{:*=10}], [{:*=+10}], [{:*>+010}]'.format(b,b,b))"
   ]
  },
  {
   "cell_type": "code",
   "execution_count": 152,
   "id": "505b9ff3-3b3f-4554-ae05-9f5c5035dd6c",
   "metadata": {},
   "outputs": [],
   "source": [
    "a = 2.7182818284"
   ]
  },
  {
   "cell_type": "code",
   "execution_count": 153,
   "id": "a7bc1bde-0087-467f-b303-777e2b7f84a6",
   "metadata": {},
   "outputs": [
    {
     "name": "stdout",
     "output_type": "stream",
     "text": [
      "출력: [      2.72]\n"
     ]
    }
   ],
   "source": [
    "print('출력: [{:{}{}.{}{}}]'.format(a, '>', 10, 2, 'f'))"
   ]
  },
  {
   "cell_type": "code",
   "execution_count": 154,
   "id": "342c2d64-d583-4c23-901f-20ddc9160805",
   "metadata": {},
   "outputs": [],
   "source": [
    "from datetime import datetime"
   ]
  },
  {
   "cell_type": "code",
   "execution_count": 158,
   "id": "f9b6f31c-c0ac-4b7a-9e29-22735cf66f2b",
   "metadata": {},
   "outputs": [
    {
     "name": "stdout",
     "output_type": "stream",
     "text": [
      "2001-02-03 04:05\n"
     ]
    }
   ],
   "source": [
    "print('{:%Y-%m-%d %H:%M}'.format(datetime(2001,2,3,4,5)))"
   ]
  },
  {
   "cell_type": "code",
   "execution_count": 159,
   "id": "5f5cd3a5-867f-4262-961a-be0672838ccf",
   "metadata": {},
   "outputs": [],
   "source": [
    "from time import localtime"
   ]
  },
  {
   "cell_type": "code",
   "execution_count": 160,
   "id": "51e805df-d276-4eb1-a68b-fa30e294ff09",
   "metadata": {},
   "outputs": [],
   "source": [
    "now = localtime()"
   ]
  },
  {
   "cell_type": "code",
   "execution_count": 161,
   "id": "4a46b5a1-aec8-4916-903b-f513e25ca40c",
   "metadata": {},
   "outputs": [
    {
     "data": {
      "text/plain": [
       "time.struct_time(tm_year=2024, tm_mon=5, tm_mday=9, tm_hour=15, tm_min=44, tm_sec=35, tm_wday=3, tm_yday=130, tm_isdst=0)"
      ]
     },
     "execution_count": 161,
     "metadata": {},
     "output_type": "execute_result"
    }
   ],
   "source": [
    "now"
   ]
  },
  {
   "cell_type": "code",
   "execution_count": 162,
   "id": "adb64f2f-2c76-465b-aca9-d34b399d34aa",
   "metadata": {},
   "outputs": [],
   "source": [
    "from time import strftime"
   ]
  },
  {
   "cell_type": "code",
   "execution_count": 163,
   "id": "bfc8e332-0d97-4e09-8bcf-78f3fe512c20",
   "metadata": {},
   "outputs": [
    {
     "data": {
      "text/plain": [
       "'2024-05-09 15:44'"
      ]
     },
     "execution_count": 163,
     "metadata": {},
     "output_type": "execute_result"
    }
   ],
   "source": [
    "strftime('%Y-%m-%d %H:%M', now)"
   ]
  },
  {
   "cell_type": "code",
   "execution_count": 164,
   "id": "1edc4ff6-39ef-45e3-9c2d-ccd677c506fe",
   "metadata": {},
   "outputs": [
    {
     "data": {
      "text/plain": [
       "'홍길동의 나이는 20입니다.'"
      ]
     },
     "execution_count": 164,
     "metadata": {},
     "output_type": "execute_result"
    }
   ],
   "source": [
    "'%s의 나이는 %d입니다.' % (name, age)"
   ]
  },
  {
   "cell_type": "code",
   "execution_count": 165,
   "id": "3d730de3-5795-4f49-bed7-72ab09b0b7ff",
   "metadata": {},
   "outputs": [
    {
     "data": {
      "text/plain": [
       "'홍길동의 나이는 20입니다.'"
      ]
     },
     "execution_count": 165,
     "metadata": {},
     "output_type": "execute_result"
    }
   ],
   "source": [
    "'{}의 나이는 {}입니다.'.format(name,age)"
   ]
  },
  {
   "cell_type": "code",
   "execution_count": 166,
   "id": "2e94c914-f1f2-44ea-a09e-6a9a24c92083",
   "metadata": {},
   "outputs": [
    {
     "data": {
      "text/plain": [
       "'홍길동의 나이는 20입니다.'"
      ]
     },
     "execution_count": 166,
     "metadata": {},
     "output_type": "execute_result"
    }
   ],
   "source": [
    "f\"{name}의 나이는 {age}입니다.\""
   ]
  },
  {
   "cell_type": "code",
   "execution_count": 167,
   "id": "a3a8544b-203b-4a1b-8bdf-715c055d7d46",
   "metadata": {},
   "outputs": [
    {
     "name": "stdout",
     "output_type": "stream",
     "text": [
      "169 ns ± 1.7 ns per loop (mean ± std. dev. of 2 runs, 1,000 loops each)\n"
     ]
    }
   ],
   "source": [
    "%%timeit -n 1000 -r 2\n",
    "# %%timeit은 jupyternotebook에서만 제공\n",
    "# % 하나면 라인매직, %% 두개면 셀 매직\n",
    "# 1000번을 2번씩 => 2천번\n",
    "f\"{name}의 나이는 {age}입니다.\""
   ]
  },
  {
   "cell_type": "code",
   "execution_count": 168,
   "id": "d3f9aab4-7be0-4d29-9193-29b825a3dbd2",
   "metadata": {},
   "outputs": [
    {
     "name": "stdout",
     "output_type": "stream",
     "text": [
      "285 ns ± 3.15 ns per loop (mean ± std. dev. of 2 runs, 1,000 loops each)\n"
     ]
    }
   ],
   "source": [
    "%%timeit -n 1000 -r 2\n",
    "# %%timeit은 jupyternotebook에서만 제공\n",
    "# % 하나면 라인매직, %% 두개면 셀 매직\n",
    "# 1000번을 2번씩 => 2천번\n",
    "'{}의 나이는 {}입니다.'.format(name,age)"
   ]
  },
  {
   "cell_type": "code",
   "execution_count": 169,
   "id": "5d0db8dd-eb3c-4756-839f-773be4d3638e",
   "metadata": {},
   "outputs": [
    {
     "name": "stdout",
     "output_type": "stream",
     "text": [
      "11\n"
     ]
    }
   ],
   "source": [
    "print(8+3)"
   ]
  },
  {
   "cell_type": "code",
   "execution_count": 170,
   "id": "85dfad9c-35d4-4bdc-9b33-3c3be285c12c",
   "metadata": {},
   "outputs": [
    {
     "name": "stdout",
     "output_type": "stream",
     "text": [
      "0.3333333333333333\n"
     ]
    }
   ],
   "source": [
    "print(1/3)"
   ]
  },
  {
   "cell_type": "code",
   "execution_count": 171,
   "id": "5194d68d-35b8-497b-b5ca-e8c5a0bb7820",
   "metadata": {},
   "outputs": [],
   "source": [
    "a = (1/3)"
   ]
  },
  {
   "cell_type": "code",
   "execution_count": 172,
   "id": "3e292ca6-32d5-4e53-9008-894732bbbbb0",
   "metadata": {},
   "outputs": [
    {
     "name": "stdout",
     "output_type": "stream",
     "text": [
      "0.3333333333333333\n"
     ]
    }
   ],
   "source": [
    "print(a)"
   ]
  },
  {
   "cell_type": "code",
   "execution_count": 173,
   "id": "05d7169d-ff99-4acf-a643-166e6b8d7c95",
   "metadata": {},
   "outputs": [
    {
     "name": "stdout",
     "output_type": "stream",
     "text": [
      "1.0\n"
     ]
    }
   ],
   "source": [
    "print(a+a+a)"
   ]
  },
  {
   "cell_type": "code",
   "execution_count": 174,
   "id": "a1f98ccf-3633-4d8e-be9e-4fd85602ae6e",
   "metadata": {},
   "outputs": [],
   "source": [
    "a = (3.8 % 1.2)"
   ]
  },
  {
   "cell_type": "code",
   "execution_count": 175,
   "id": "62365e8a-2d85-4017-ab4e-97d0ef9287c6",
   "metadata": {},
   "outputs": [
    {
     "name": "stdout",
     "output_type": "stream",
     "text": [
      "0.19999999999999996\n"
     ]
    }
   ],
   "source": [
    "print(a)"
   ]
  },
  {
   "cell_type": "code",
   "execution_count": 176,
   "id": "7ace4900-519c-449e-9ba2-b90169d75c0b",
   "metadata": {},
   "outputs": [
    {
     "name": "stdout",
     "output_type": "stream",
     "text": [
      "0.5999999999999999\n"
     ]
    }
   ],
   "source": [
    "print(a+a+a)"
   ]
  },
  {
   "cell_type": "code",
   "execution_count": 177,
   "id": "bf1a729b-dc03-4339-ad5d-766499a1c9da",
   "metadata": {},
   "outputs": [],
   "source": [
    "a = (7 / 3)"
   ]
  },
  {
   "cell_type": "code",
   "execution_count": 178,
   "id": "d78146ae-8b27-413f-8b9f-2e6adf8a69de",
   "metadata": {},
   "outputs": [
    {
     "name": "stdout",
     "output_type": "stream",
     "text": [
      "2.3333333333333335\n"
     ]
    }
   ],
   "source": [
    "print(a)"
   ]
  },
  {
   "cell_type": "code",
   "execution_count": 179,
   "id": "af879daa-5f4c-43bd-b945-805556ada668",
   "metadata": {},
   "outputs": [
    {
     "name": "stdout",
     "output_type": "stream",
     "text": [
      "7.0\n"
     ]
    }
   ],
   "source": [
    "print(a+a+a)"
   ]
  },
  {
   "cell_type": "code",
   "execution_count": 180,
   "id": "27914d4c-a230-489b-88e4-5deeef046b62",
   "metadata": {},
   "outputs": [
    {
     "name": "stdout",
     "output_type": "stream",
     "text": [
      "1\n"
     ]
    }
   ],
   "source": [
    "print(3//2)"
   ]
  },
  {
   "cell_type": "code",
   "execution_count": 181,
   "id": "3dd88673-ed79-43bf-94f7-5de45f67c0db",
   "metadata": {},
   "outputs": [
    {
     "name": "stdout",
     "output_type": "stream",
     "text": [
      "64\n"
     ]
    }
   ],
   "source": [
    "print(8**2)"
   ]
  },
  {
   "cell_type": "code",
   "execution_count": 182,
   "id": "cfa58f2f-1f7e-4dea-abed-aa0c56533be9",
   "metadata": {},
   "outputs": [],
   "source": [
    "a = 8"
   ]
  },
  {
   "cell_type": "code",
   "execution_count": 183,
   "id": "e3ece81c-1547-4561-87bc-3ecaf51e0d53",
   "metadata": {},
   "outputs": [
    {
     "name": "stdout",
     "output_type": "stream",
     "text": [
      "8\n"
     ]
    }
   ],
   "source": [
    "print(++a)"
   ]
  },
  {
   "cell_type": "code",
   "execution_count": 184,
   "id": "1e5c7d9c-c16d-417b-864c-0b441293353b",
   "metadata": {},
   "outputs": [
    {
     "ename": "SyntaxError",
     "evalue": "invalid syntax (1084821174.py, line 1)",
     "output_type": "error",
     "traceback": [
      "\u001b[1;36m  Cell \u001b[1;32mIn[184], line 1\u001b[1;36m\u001b[0m\n\u001b[1;33m    print(a+=1)\u001b[0m\n\u001b[1;37m           ^\u001b[0m\n\u001b[1;31mSyntaxError\u001b[0m\u001b[1;31m:\u001b[0m invalid syntax\n"
     ]
    }
   ],
   "source": [
    "print(a+=1)"
   ]
  },
  {
   "cell_type": "code",
   "execution_count": 185,
   "id": "277c1c75-924a-46fc-8105-17a3402bef5e",
   "metadata": {},
   "outputs": [
    {
     "ename": "SyntaxError",
     "evalue": "invalid syntax (1277751513.py, line 1)",
     "output_type": "error",
     "traceback": [
      "\u001b[1;36m  Cell \u001b[1;32mIn[185], line 1\u001b[1;36m\u001b[0m\n\u001b[1;33m    a++\u001b[0m\n\u001b[1;37m       ^\u001b[0m\n\u001b[1;31mSyntaxError\u001b[0m\u001b[1;31m:\u001b[0m invalid syntax\n"
     ]
    }
   ],
   "source": [
    "a++"
   ]
  },
  {
   "cell_type": "code",
   "execution_count": 186,
   "id": "a748662f-9dda-422e-9ea5-489ac9fc4c1a",
   "metadata": {},
   "outputs": [
    {
     "data": {
      "text/plain": [
       "8"
      ]
     },
     "execution_count": 186,
     "metadata": {},
     "output_type": "execute_result"
    }
   ],
   "source": [
    "++a"
   ]
  },
  {
   "cell_type": "code",
   "execution_count": 187,
   "id": "9c534b88-11f7-41b7-b3f4-9c38e5b227d6",
   "metadata": {},
   "outputs": [],
   "source": [
    "a+=1"
   ]
  },
  {
   "cell_type": "code",
   "execution_count": 188,
   "id": "4cade9e6-708d-4148-aa30-4e3d46d7c07c",
   "metadata": {},
   "outputs": [
    {
     "name": "stdout",
     "output_type": "stream",
     "text": [
      "9\n"
     ]
    }
   ],
   "source": [
    "print(a)"
   ]
  },
  {
   "cell_type": "code",
   "execution_count": 189,
   "id": "f302fe61-d834-4a04-bf93-2b7dbf12fc56",
   "metadata": {},
   "outputs": [
    {
     "data": {
      "text/plain": [
       "True"
      ]
     },
     "execution_count": 189,
     "metadata": {},
     "output_type": "execute_result"
    }
   ],
   "source": [
    "(10>3)&(10>5)"
   ]
  },
  {
   "cell_type": "code",
   "execution_count": 195,
   "id": "3eb42df8-c991-40fc-8ea2-610ebf143523",
   "metadata": {},
   "outputs": [
    {
     "data": {
      "text/plain": [
       "'Hello'"
      ]
     },
     "execution_count": 195,
     "metadata": {},
     "output_type": "execute_result"
    }
   ],
   "source": [
    "3 and 5.4 and 'Hello'"
   ]
  },
  {
   "cell_type": "code",
   "execution_count": 200,
   "id": "8fcea6bb-13fb-4f71-bb11-684f296454c6",
   "metadata": {},
   "outputs": [
    {
     "data": {
      "text/plain": [
       "'Hello'"
      ]
     },
     "execution_count": 200,
     "metadata": {},
     "output_type": "execute_result"
    }
   ],
   "source": [
    "False or 'Hello' or 100"
   ]
  },
  {
   "cell_type": "code",
   "execution_count": 202,
   "id": "a3f78d8f-2c08-4dbb-8c19-6f6385477bbe",
   "metadata": {},
   "outputs": [
    {
     "data": {
      "text/plain": [
       "9"
      ]
     },
     "execution_count": 202,
     "metadata": {},
     "output_type": "execute_result"
    }
   ],
   "source": [
    "4 and 9\n",
    "9 or 'Hello'"
   ]
  },
  {
   "cell_type": "code",
   "execution_count": 205,
   "id": "48eade7e-9b6a-4eeb-9be9-5c7b0ab6569e",
   "metadata": {},
   "outputs": [
    {
     "data": {
      "text/plain": [
       "4"
      ]
     },
     "execution_count": 205,
     "metadata": {},
     "output_type": "execute_result"
    }
   ],
   "source": [
    "9 and 4 or 'Hello'"
   ]
  },
  {
   "cell_type": "code",
   "execution_count": 206,
   "id": "1c2412c9-1453-4b60-83b5-6b8eaeb28fce",
   "metadata": {},
   "outputs": [
    {
     "data": {
      "text/plain": [
       "4"
      ]
     },
     "execution_count": 206,
     "metadata": {},
     "output_type": "execute_result"
    }
   ],
   "source": [
    "4 or 'Hello'"
   ]
  },
  {
   "cell_type": "code",
   "execution_count": 207,
   "id": "0dc295ff-13b3-4397-aaef-f22a93233620",
   "metadata": {},
   "outputs": [
    {
     "data": {
      "text/plain": [
       "'Hello'"
      ]
     },
     "execution_count": 207,
     "metadata": {},
     "output_type": "execute_result"
    }
   ],
   "source": [
    "'Hello' or 4"
   ]
  },
  {
   "cell_type": "code",
   "execution_count": 209,
   "id": "6a46c4ba-1cdf-48fc-a15b-28b53773d5fa",
   "metadata": {},
   "outputs": [
    {
     "data": {
      "text/plain": [
       "False"
      ]
     },
     "execution_count": 209,
     "metadata": {},
     "output_type": "execute_result"
    }
   ],
   "source": [
    "isinstance(' ', int)"
   ]
  },
  {
   "cell_type": "code",
   "execution_count": 210,
   "id": "4d028bff-6bf8-42e0-a41c-5f89e9aca890",
   "metadata": {},
   "outputs": [],
   "source": [
    "from datetime import date\n",
    "today = date.today()"
   ]
  },
  {
   "cell_type": "code",
   "execution_count": 211,
   "id": "b47cb535-5efc-474d-9b01-bf351bffc385",
   "metadata": {},
   "outputs": [
    {
     "name": "stdout",
     "output_type": "stream",
     "text": [
      "2024-05-09\n"
     ]
    }
   ],
   "source": [
    "print(today)"
   ]
  },
  {
   "cell_type": "code",
   "execution_count": 215,
   "id": "8f7645de-3f72-4506-a50a-1b871ba55471",
   "metadata": {},
   "outputs": [],
   "source": [
    "from datetime import time\n"
   ]
  },
  {
   "cell_type": "code",
   "execution_count": 217,
   "id": "2a837ca2-da22-40d2-bda2-017cc0732db2",
   "metadata": {},
   "outputs": [],
   "source": [
    "now = datetime.now()"
   ]
  },
  {
   "cell_type": "code",
   "execution_count": 218,
   "id": "6337df45-3240-4e6b-9e4a-84b5f4d9f0d2",
   "metadata": {},
   "outputs": [
    {
     "name": "stdout",
     "output_type": "stream",
     "text": [
      "2024-05-09 17:15:18.667176\n"
     ]
    }
   ],
   "source": [
    "print(now)"
   ]
  },
  {
   "cell_type": "code",
   "execution_count": 219,
   "id": "f71dd58a-e6a7-49d8-afed-25de22d2f5eb",
   "metadata": {},
   "outputs": [
    {
     "name": "stdout",
     "output_type": "stream",
     "text": [
      "2024 5 9 17\n"
     ]
    }
   ],
   "source": [
    "print(now.year, now.month, now.day, now.hour)"
   ]
  },
  {
   "cell_type": "code",
   "execution_count": 220,
   "id": "0463f7cf-a255-4ec3-9e3a-72c6f5bb57c3",
   "metadata": {},
   "outputs": [],
   "source": [
    "from time import localtime\n",
    "now = localtime()"
   ]
  },
  {
   "cell_type": "code",
   "execution_count": 224,
   "id": "db899e0e-653e-493f-b70f-ad223cf984cc",
   "metadata": {},
   "outputs": [
    {
     "data": {
      "text/plain": [
       "'2024-05-09'"
      ]
     },
     "execution_count": 224,
     "metadata": {},
     "output_type": "execute_result"
    }
   ],
   "source": [
    "from time import strftime\n",
    "strftime('%Y-%m-%d', now)"
   ]
  },
  {
   "cell_type": "code",
   "execution_count": 225,
   "id": "bc6e384a-0f89-4b7d-b0ce-0bbe390f052c",
   "metadata": {},
   "outputs": [
    {
     "data": {
      "text/plain": [
       "time.struct_time(tm_year=2024, tm_mon=5, tm_mday=9, tm_hour=17, tm_min=18, tm_sec=8, tm_wday=3, tm_yday=130, tm_isdst=0)"
      ]
     },
     "execution_count": 225,
     "metadata": {},
     "output_type": "execute_result"
    }
   ],
   "source": [
    "now"
   ]
  },
  {
   "cell_type": "code",
   "execution_count": 226,
   "id": "ec457667-7b7d-42b5-96ed-276e55c05c27",
   "metadata": {},
   "outputs": [],
   "source": [
    "name, age = '홍길동', 23"
   ]
  },
  {
   "cell_type": "code",
   "execution_count": 230,
   "id": "5edf6ed4-aa4f-4977-b711-85595e394803",
   "metadata": {},
   "outputs": [
    {
     "name": "stdout",
     "output_type": "stream",
     "text": [
      "홍길동님의 나이는 23살입니다.\n"
     ]
    }
   ],
   "source": [
    "print('{}님의 나이는 {}살입니다.'.format(name,age))"
   ]
  },
  {
   "cell_type": "code",
   "execution_count": 231,
   "id": "975a1224-0f75-4c3c-a82f-7905e17250f5",
   "metadata": {},
   "outputs": [
    {
     "name": "stdin",
     "output_type": "stream",
     "text": [
      "숫자1 입력 =  3\n",
      "숫자2 입력 =  2\n"
     ]
    }
   ],
   "source": [
    "a = int(input('숫자1 입력 = '))\n",
    "b = int(input('숫자2 입력 = '))"
   ]
  },
  {
   "cell_type": "code",
   "execution_count": 234,
   "id": "6213c9ec-37fa-4fc9-b632-3e1f733d8973",
   "metadata": {},
   "outputs": [
    {
     "data": {
      "text/plain": [
       "'두 수의 합 : 5'"
      ]
     },
     "execution_count": 234,
     "metadata": {},
     "output_type": "execute_result"
    }
   ],
   "source": [
    "f'두 수의 합 : {a + b}'"
   ]
  },
  {
   "cell_type": "code",
   "execution_count": 235,
   "id": "d63dcef0-8a07-4360-9bbf-2921a546f7fb",
   "metadata": {},
   "outputs": [
    {
     "data": {
      "text/plain": [
       "'두 수의 차 : 1'"
      ]
     },
     "execution_count": 235,
     "metadata": {},
     "output_type": "execute_result"
    }
   ],
   "source": [
    "f'두 수의 차 : {a - b}'"
   ]
  },
  {
   "cell_type": "code",
   "execution_count": 236,
   "id": "96dc1ad9-1c36-4539-a7d0-1d550fa9a067",
   "metadata": {},
   "outputs": [
    {
     "data": {
      "text/plain": [
       "'두 수의 곱 : 6'"
      ]
     },
     "execution_count": 236,
     "metadata": {},
     "output_type": "execute_result"
    }
   ],
   "source": [
    "f'두 수의 곱 : {a * b}'"
   ]
  },
  {
   "cell_type": "code",
   "execution_count": 237,
   "id": "26070e2a-c7d0-40b7-934f-b6393669fb1b",
   "metadata": {},
   "outputs": [
    {
     "data": {
      "text/plain": [
       "'두 수의 나눗셈 : 1.5'"
      ]
     },
     "execution_count": 237,
     "metadata": {},
     "output_type": "execute_result"
    }
   ],
   "source": [
    "f'두 수의 나눗셈 : {a / b}'"
   ]
  },
  {
   "cell_type": "code",
   "execution_count": 238,
   "id": "e3225c1f-185e-43b6-baee-491c26ec4aed",
   "metadata": {},
   "outputs": [
    {
     "data": {
      "text/plain": [
       "'두 수의 몫 : 1'"
      ]
     },
     "execution_count": 238,
     "metadata": {},
     "output_type": "execute_result"
    }
   ],
   "source": [
    "f'두 수의 몫 : {a // b}'"
   ]
  },
  {
   "cell_type": "code",
   "execution_count": 239,
   "id": "71c63985-d0ae-41fc-81db-03749cc177df",
   "metadata": {},
   "outputs": [
    {
     "data": {
      "text/plain": [
       "'두 수의 나머지 : 1'"
      ]
     },
     "execution_count": 239,
     "metadata": {},
     "output_type": "execute_result"
    }
   ],
   "source": [
    "f'두 수의 나머지 : {a % b}'"
   ]
  },
  {
   "cell_type": "code",
   "execution_count": 240,
   "id": "12ad5a43-4259-46bf-bf58-964759eba478",
   "metadata": {},
   "outputs": [],
   "source": [
    "str_ = 'Hello World'"
   ]
  },
  {
   "cell_type": "code",
   "execution_count": 241,
   "id": "47b871d1-489e-4d16-8cad-611d3655a254",
   "metadata": {},
   "outputs": [],
   "source": [
    "arr = str_.split()"
   ]
  },
  {
   "cell_type": "code",
   "execution_count": 242,
   "id": "28b7119e-ff80-4be3-a8aa-6e7c9c6297d2",
   "metadata": {},
   "outputs": [
    {
     "data": {
      "text/plain": [
       "['Hello', 'World']"
      ]
     },
     "execution_count": 242,
     "metadata": {},
     "output_type": "execute_result"
    }
   ],
   "source": [
    "arr"
   ]
  },
  {
   "cell_type": "code",
   "execution_count": 243,
   "id": "769fe445-4c9b-4322-a9b4-1b61dd8396a3",
   "metadata": {},
   "outputs": [
    {
     "data": {
      "text/plain": [
       "['World', 'Hello']"
      ]
     },
     "execution_count": 243,
     "metadata": {},
     "output_type": "execute_result"
    }
   ],
   "source": [
    "arr[-1::-1]"
   ]
  },
  {
   "cell_type": "code",
   "execution_count": 246,
   "id": "6c2f1883-af24-423c-9fb1-04f1c5006b94",
   "metadata": {},
   "outputs": [],
   "source": [
    "tmp = arr[0]"
   ]
  },
  {
   "cell_type": "code",
   "execution_count": 247,
   "id": "2810fa31-eb2e-4c4f-b58f-b7a69b7a6d3f",
   "metadata": {},
   "outputs": [],
   "source": [
    "arr[0] = arr[1]"
   ]
  },
  {
   "cell_type": "code",
   "execution_count": 248,
   "id": "00243444-1181-4ce8-8019-f8ae052ebf87",
   "metadata": {},
   "outputs": [],
   "source": [
    "arr[1] = tmp"
   ]
  },
  {
   "cell_type": "code",
   "execution_count": 249,
   "id": "30f45150-706a-4a63-9ddc-fdce0e4e6247",
   "metadata": {},
   "outputs": [
    {
     "data": {
      "text/plain": [
       "'World Hello'"
      ]
     },
     "execution_count": 249,
     "metadata": {},
     "output_type": "execute_result"
    }
   ],
   "source": [
    "' '.join(arr)"
   ]
  },
  {
   "cell_type": "code",
   "execution_count": 250,
   "id": "b662e546-651b-4580-bab3-c75a01c25b5e",
   "metadata": {},
   "outputs": [],
   "source": [
    "x = 'abcedf'"
   ]
  },
  {
   "cell_type": "code",
   "execution_count": 263,
   "id": "cea4c03f-a905-409d-961e-e12c4a7b6bfc",
   "metadata": {},
   "outputs": [
    {
     "data": {
      "text/plain": [
       "'bcedfa'"
      ]
     },
     "execution_count": 263,
     "metadata": {},
     "output_type": "execute_result"
    }
   ],
   "source": [
    "x[1::1] + x[0:1]"
   ]
  },
  {
   "cell_type": "code",
   "execution_count": 264,
   "id": "3744c5b2-169d-4c05-a864-9d0523d39c8a",
   "metadata": {},
   "outputs": [
    {
     "data": {
      "text/plain": [
       "'fdecba'"
      ]
     },
     "execution_count": 264,
     "metadata": {},
     "output_type": "execute_result"
    }
   ],
   "source": [
    "x[-1::-1]"
   ]
  },
  {
   "cell_type": "code",
   "execution_count": 269,
   "id": "f9006ea1-62fd-4e09-b6e6-2bc965bad41b",
   "metadata": {},
   "outputs": [
    {
     "name": "stdin",
     "output_type": "stream",
     "text": [
      "섭씨온도 입력 :  28\n"
     ]
    }
   ],
   "source": [
    "d = float(input('섭씨온도 입력 : '))"
   ]
  },
  {
   "cell_type": "code",
   "execution_count": 272,
   "id": "3b8aa3ec-49e6-48cc-9053-8a01e69e102b",
   "metadata": {},
   "outputs": [
    {
     "name": "stdout",
     "output_type": "stream",
     "text": [
      "82.40\n"
     ]
    }
   ],
   "source": [
    "f = (d * 1.8) + 32\n",
    "print(\"{:.2f}\".format(f))"
   ]
  },
  {
   "cell_type": "code",
   "execution_count": null,
   "id": "b77c1853-5dd6-4cb5-bdea-dbce5f8a3d23",
   "metadata": {},
   "outputs": [],
   "source": []
  }
 ],
 "metadata": {
  "kernelspec": {
   "display_name": "Python 3 (ipykernel)",
   "language": "python",
   "name": "python3"
  },
  "language_info": {
   "codemirror_mode": {
    "name": "ipython",
    "version": 3
   },
   "file_extension": ".py",
   "mimetype": "text/x-python",
   "name": "python",
   "nbconvert_exporter": "python",
   "pygments_lexer": "ipython3",
   "version": "3.11.7"
  }
 },
 "nbformat": 4,
 "nbformat_minor": 5
}
