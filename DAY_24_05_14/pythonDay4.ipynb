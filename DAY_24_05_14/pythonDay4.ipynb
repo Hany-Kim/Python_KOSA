{
 "cells": [
  {
   "cell_type": "code",
   "execution_count": 15,
   "id": "61561b90-1876-4e10-a057-0c201b495cc3",
   "metadata": {},
   "outputs": [],
   "source": [
    "def func6(a, *b, **c):\n",
    "    print(a)\n",
    "    print(b)\n",
    "    print(c)"
   ]
  },
  {
   "cell_type": "code",
   "execution_count": 16,
   "id": "b3f61a84-f5e9-42ae-a184-71f66e83689c",
   "metadata": {},
   "outputs": [
    {
     "name": "stdout",
     "output_type": "stream",
     "text": [
      "10\n",
      "(1, 2, 3)\n",
      "{'name': 'Kildong', 'age': 20}\n"
     ]
    }
   ],
   "source": [
    "func6(10, 1,2,3, name=\"Kildong\", age=20)"
   ]
  },
  {
   "cell_type": "code",
   "execution_count": 36,
   "id": "15a65b16-982c-4751-813a-b3c7e065980e",
   "metadata": {},
   "outputs": [],
   "source": [
    "def add(*args):\n",
    "    print(args)\n",
    "    print(\"OK\")\n",
    "    sum = 0\n",
    "    for num in args:\n",
    "        sum += num\n",
    "    print(sum)"
   ]
  },
  {
   "cell_type": "code",
   "execution_count": 37,
   "id": "756cc349-6471-4401-b759-004457e04b22",
   "metadata": {},
   "outputs": [
    {
     "data": {
      "text/plain": [
       "(1, 2, 3, 4, 5, 6, 7, 8, 9, 10)"
      ]
     },
     "execution_count": 37,
     "metadata": {},
     "output_type": "execute_result"
    }
   ],
   "source": [
    "numbers = tuple(range(1,11))\n",
    "numbers"
   ]
  },
  {
   "cell_type": "code",
   "execution_count": 38,
   "id": "c7da8f1e-f883-499d-9cb6-58a11180ca69",
   "metadata": {},
   "outputs": [
    {
     "name": "stdout",
     "output_type": "stream",
     "text": [
      "((1, 2, 3, 4, 5, 6, 7, 8, 9, 10),)\n",
      "OK\n"
     ]
    },
    {
     "ename": "TypeError",
     "evalue": "unsupported operand type(s) for +=: 'int' and 'tuple'",
     "output_type": "error",
     "traceback": [
      "\u001b[1;31m---------------------------------------------------------------------------\u001b[0m",
      "\u001b[1;31mTypeError\u001b[0m                                 Traceback (most recent call last)",
      "Cell \u001b[1;32mIn[38], line 1\u001b[0m\n\u001b[1;32m----> 1\u001b[0m add(numbers)\n",
      "Cell \u001b[1;32mIn[36], line 6\u001b[0m, in \u001b[0;36madd\u001b[1;34m(*args)\u001b[0m\n\u001b[0;32m      4\u001b[0m \u001b[38;5;28msum\u001b[39m \u001b[38;5;241m=\u001b[39m \u001b[38;5;241m0\u001b[39m\n\u001b[0;32m      5\u001b[0m \u001b[38;5;28;01mfor\u001b[39;00m num \u001b[38;5;129;01min\u001b[39;00m args:\n\u001b[1;32m----> 6\u001b[0m     \u001b[38;5;28msum\u001b[39m \u001b[38;5;241m+\u001b[39m\u001b[38;5;241m=\u001b[39m num\n\u001b[0;32m      7\u001b[0m \u001b[38;5;28mprint\u001b[39m(\u001b[38;5;28msum\u001b[39m)\n",
      "\u001b[1;31mTypeError\u001b[0m: unsupported operand type(s) for +=: 'int' and 'tuple'"
     ]
    }
   ],
   "source": [
    "add(numbers)"
   ]
  },
  {
   "cell_type": "code",
   "execution_count": 39,
   "id": "a0d4a80c-3c76-40e1-95e5-47f14a0a9295",
   "metadata": {},
   "outputs": [],
   "source": [
    "def mul(*args):\n",
    "    print(args)\n",
    "    print(\"OK\")\n",
    "    mul = 0\n",
    "    for num in args:\n",
    "        mul *= num\n",
    "    print(mul)"
   ]
  },
  {
   "cell_type": "code",
   "execution_count": 40,
   "id": "f118b690-dfd3-441e-b60f-9cfbac2120bc",
   "metadata": {},
   "outputs": [
    {
     "name": "stdout",
     "output_type": "stream",
     "text": [
      "((1, 2, 3, 4, 5, 6, 7, 8, 9, 10),)\n",
      "OK\n",
      "()\n"
     ]
    }
   ],
   "source": [
    "mul(numbers)"
   ]
  },
  {
   "cell_type": "code",
   "execution_count": 41,
   "id": "2839e900-0085-4013-958d-dcfd4503c19a",
   "metadata": {},
   "outputs": [],
   "source": [
    "def func5(**data):\n",
    "    for key, value in data.items():\n",
    "        print(key, value)"
   ]
  },
  {
   "cell_type": "code",
   "execution_count": 43,
   "id": "2fb363d2-7465-4cf5-a2f4-f29fd5313103",
   "metadata": {},
   "outputs": [],
   "source": [
    "custInfo = {\"name\": \"Kildong\", \"age\":30, \"address\": \"서울시 강남구\"}"
   ]
  },
  {
   "cell_type": "code",
   "execution_count": 44,
   "id": "d780f8bb-1dc9-419e-96e6-2eb1979077ee",
   "metadata": {},
   "outputs": [
    {
     "name": "stdout",
     "output_type": "stream",
     "text": [
      "name Kildong\n",
      "age 30\n",
      "address 서울시 강남구\n"
     ]
    }
   ],
   "source": [
    "func5(name=\"Kildong\", age=30, address=\"서울시 강남구\")"
   ]
  },
  {
   "cell_type": "code",
   "execution_count": 45,
   "id": "e2b1716b-1a10-460e-8159-e089f87f2fb7",
   "metadata": {},
   "outputs": [
    {
     "name": "stdout",
     "output_type": "stream",
     "text": [
      "name Kildong\n",
      "age 30\n",
      "address 서울시 강남구\n"
     ]
    }
   ],
   "source": [
    "func5(**custInfo)"
   ]
  },
  {
   "cell_type": "code",
   "execution_count": 46,
   "id": "fd849977-198d-435c-96f3-54afe4eaf91c",
   "metadata": {},
   "outputs": [],
   "source": [
    "def func(a, b, c, *d, e=10, **f):\n",
    "    print(a,b,c,d,e,f)"
   ]
  },
  {
   "cell_type": "code",
   "execution_count": 47,
   "id": "133dac1d-bcbf-4fde-853c-ae920ac881bd",
   "metadata": {},
   "outputs": [
    {
     "name": "stdout",
     "output_type": "stream",
     "text": [
      "10 20 30 (4, 5) 20 {'name': 'JinKyoung', 'age': 30}\n"
     ]
    }
   ],
   "source": [
    "func(10, 20, 30, 4, 5, e=20, name=\"JinKyoung\", age=30)"
   ]
  },
  {
   "cell_type": "code",
   "execution_count": 48,
   "id": "f38f8fee-0eb1-4904-95ac-f4ddff58ad94",
   "metadata": {},
   "outputs": [],
   "source": [
    "def template(func, *args, **kwargs) :\n",
    "    print(\"--------------------------\")\n",
    "    print(func(*args, **kwargs))\n",
    "    print(\"==========================\")"
   ]
  },
  {
   "cell_type": "code",
   "execution_count": 49,
   "id": "dbb4b528-2582-468e-98ec-b055db690311",
   "metadata": {},
   "outputs": [],
   "source": [
    "def other_func(a, b, *c, d=0, **e) :\n",
    "    print(a,b,c,d,e)\n",
    "    result = a+b\n",
    "    for item in c:\n",
    "        result += item\n",
    "    return result"
   ]
  },
  {
   "cell_type": "code",
   "execution_count": 50,
   "id": "73b53864-dad6-4f7d-b225-4488c4d865b8",
   "metadata": {},
   "outputs": [
    {
     "name": "stdout",
     "output_type": "stream",
     "text": [
      "--------------------------\n",
      "2 3 (4, 5, 6) 10 {'f': 20, 'g': 30}\n",
      "20\n",
      "==========================\n"
     ]
    }
   ],
   "source": [
    "template(other_func, 2,3,4,5,6,d=10,f=20,g=30)"
   ]
  },
  {
   "cell_type": "code",
   "execution_count": 51,
   "id": "207babca-dec3-4b72-aba6-734e357e91a9",
   "metadata": {},
   "outputs": [
    {
     "data": {
      "text/plain": [
       "<map at 0x1eeaafc5e10>"
      ]
     },
     "execution_count": 51,
     "metadata": {},
     "output_type": "execute_result"
    }
   ],
   "source": [
    "L = [1,2,3,4,5,6,7,8,9,10]\n",
    "map(lambda x: x**2, L)"
   ]
  },
  {
   "cell_type": "code",
   "execution_count": 52,
   "id": "9a51d2af-99c6-49d2-ab2a-2e707102f0b8",
   "metadata": {},
   "outputs": [],
   "source": [
    "def map_template(func, L) :\n",
    "    result = []\n",
    "    for item in L:\n",
    "        result.append(func(item))\n",
    "    return result"
   ]
  },
  {
   "cell_type": "code",
   "execution_count": 53,
   "id": "8f38bab6-25ad-4ca7-82a4-5fbb55312874",
   "metadata": {},
   "outputs": [
    {
     "data": {
      "text/plain": [
       "[1, 4, 9, 16, 25, 36, 49, 64, 81, 100]"
      ]
     },
     "execution_count": 53,
     "metadata": {},
     "output_type": "execute_result"
    }
   ],
   "source": [
    "map_template(lambda x: x**2, L)"
   ]
  },
  {
   "cell_type": "code",
   "execution_count": 56,
   "id": "3ecc3afe-559c-45d5-8a12-e719400e1923",
   "metadata": {},
   "outputs": [],
   "source": [
    "def power(a:int, b:int=2):\n",
    "    return a**b"
   ]
  },
  {
   "cell_type": "code",
   "execution_count": 58,
   "id": "9022c0d7-cefc-4985-95da-df054f0447c3",
   "metadata": {},
   "outputs": [
    {
     "data": {
      "text/plain": [
       "16"
      ]
     },
     "execution_count": 58,
     "metadata": {},
     "output_type": "execute_result"
    }
   ],
   "source": [
    "power(4)"
   ]
  },
  {
   "cell_type": "code",
   "execution_count": 59,
   "id": "876e5ff8-463e-481b-a61d-b50b3ff67a9d",
   "metadata": {},
   "outputs": [],
   "source": [
    "class MyClass():\n",
    "    def __init__(self, data) -> None:\n",
    "        self.data = data"
   ]
  },
  {
   "cell_type": "code",
   "execution_count": 60,
   "id": "72118a85-3e78-4daf-b351-fe838ea6ff7f",
   "metadata": {},
   "outputs": [],
   "source": [
    "a = MyClass(\"Hello\")"
   ]
  },
  {
   "cell_type": "markdown",
   "id": "89b4d9e3-6777-4c80-a4af-c2a1dbac3abd",
   "metadata": {},
   "source": [
    "연습문제"
   ]
  },
  {
   "cell_type": "code",
   "execution_count": 65,
   "id": "8389754b-13fe-48a9-ab8e-79ce811c7ca1",
   "metadata": {},
   "outputs": [],
   "source": [
    "def get_max_min(data_list):\n",
    "    return max(data_list), min(data_list)"
   ]
  },
  {
   "cell_type": "code",
   "execution_count": 66,
   "id": "664494e5-9a03-46b2-9826-6175d86f6180",
   "metadata": {},
   "outputs": [
    {
     "data": {
      "text/plain": [
       "(5, 1)"
      ]
     },
     "execution_count": 66,
     "metadata": {},
     "output_type": "execute_result"
    }
   ],
   "source": [
    "get_max_min([1,2,3,4,5])"
   ]
  },
  {
   "cell_type": "code",
   "execution_count": 67,
   "id": "c37627be-44e0-411c-a4e1-f7ef8e485b9d",
   "metadata": {},
   "outputs": [],
   "source": [
    "def get_bmi(weight, height):\n",
    "    bmi = weight / (height**2)\n",
    "\n",
    "    if bmi<18.5:\n",
    "        return \"마른 체형\"\n",
    "    elif 18.5<=bmi and bmi<25.0:\n",
    "        return \"표준\"\n",
    "    elif 25.0<=bmi and bmi<30.0:\n",
    "        return \"비만\"\n",
    "    elif 30.0<=bmi:\n",
    "        return \"고도 비만\""
   ]
  },
  {
   "cell_type": "code",
   "execution_count": 69,
   "id": "dbf37922-8f3d-41c3-93c1-222b3978037c",
   "metadata": {},
   "outputs": [
    {
     "data": {
      "text/plain": [
       "'비만'"
      ]
     },
     "execution_count": 69,
     "metadata": {},
     "output_type": "execute_result"
    }
   ],
   "source": [
    "get_bmi(93.3, 1.86)"
   ]
  },
  {
   "cell_type": "code",
   "execution_count": 70,
   "id": "34d0e0ae-4181-4dea-9f12-033006b373a3",
   "metadata": {},
   "outputs": [],
   "source": [
    "from math import sqrt\n",
    "\n",
    "def get_triangle(width, height):\n",
    "    area = (width * height) / 2\n",
    "    round = width + height + sqrt(width**2 + height**2)\n",
    "    return area, round"
   ]
  },
  {
   "cell_type": "code",
   "execution_count": 71,
   "id": "4e1333c0-7c4a-4052-aa04-f129dc2df520",
   "metadata": {},
   "outputs": [
    {
     "data": {
      "text/plain": [
       "(6.0, 12.0)"
      ]
     },
     "execution_count": 71,
     "metadata": {},
     "output_type": "execute_result"
    }
   ],
   "source": [
    "get_triangle(3,4)"
   ]
  },
  {
   "cell_type": "code",
   "execution_count": 73,
   "id": "aa704325-860d-4654-a186-15e72e2133ed",
   "metadata": {},
   "outputs": [],
   "source": [
    "def mysum(mfrom, end):\n",
    "    sum = 0\n",
    "    for i in range(mfrom, end+1):\n",
    "        sum += i\n",
    "    return sum"
   ]
  },
  {
   "cell_type": "code",
   "execution_count": 74,
   "id": "8119ae8c-9efd-4e01-b959-8edf6003eca2",
   "metadata": {},
   "outputs": [
    {
     "data": {
      "text/plain": [
       "55"
      ]
     },
     "execution_count": 74,
     "metadata": {},
     "output_type": "execute_result"
    }
   ],
   "source": [
    "mysum(1,10)"
   ]
  },
  {
   "cell_type": "code",
   "execution_count": 82,
   "id": "75c61b26-82a0-4a56-aed9-a993ae13407b",
   "metadata": {},
   "outputs": [],
   "source": [
    "def get_abbrs(list):\n",
    "    L = []\n",
    "    for i in list:\n",
    "        L.append(i[:3:])\n",
    "    return L"
   ]
  },
  {
   "cell_type": "code",
   "execution_count": 76,
   "id": "75d24b24-4301-4689-b9c0-746c7cc67ac7",
   "metadata": {},
   "outputs": [],
   "source": [
    "list = ['Seoul', 'Daegu', 'Kwangju', 'Jeju']"
   ]
  },
  {
   "cell_type": "code",
   "execution_count": 83,
   "id": "839c4675-16a3-4a26-ac5c-b6c96781960c",
   "metadata": {},
   "outputs": [
    {
     "data": {
      "text/plain": [
       "['Seo', 'Dae', 'Kwa', 'Jej']"
      ]
     },
     "execution_count": 83,
     "metadata": {},
     "output_type": "execute_result"
    }
   ],
   "source": [
    "get_abbrs(list)"
   ]
  },
  {
   "cell_type": "code",
   "execution_count": null,
   "id": "2d390f09-019c-48d3-a4f4-a8afbd238acd",
   "metadata": {},
   "outputs": [],
   "source": []
  }
 ],
 "metadata": {
  "kernelspec": {
   "display_name": "Python 3 (ipykernel)",
   "language": "python",
   "name": "python3"
  },
  "language_info": {
   "codemirror_mode": {
    "name": "ipython",
    "version": 3
   },
   "file_extension": ".py",
   "mimetype": "text/x-python",
   "name": "python",
   "nbconvert_exporter": "python",
   "pygments_lexer": "ipython3",
   "version": "3.11.7"
  }
 },
 "nbformat": 4,
 "nbformat_minor": 5
}
